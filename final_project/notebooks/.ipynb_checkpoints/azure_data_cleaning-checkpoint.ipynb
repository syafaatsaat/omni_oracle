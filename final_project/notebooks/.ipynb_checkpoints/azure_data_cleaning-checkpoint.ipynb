{
 "cells": [
  {
   "cell_type": "markdown",
   "metadata": {
    "application/vnd.databricks.v1+cell": {
     "cellMetadata": {
      "byteLimit": 2048000,
      "rowLimit": 10000
     },
     "inputWidgets": {},
     "nuid": "a010c205-d19d-4329-aebb-4c1278fa009f",
     "showTitle": false,
     "title": ""
    }
   },
   "source": [
    "<h1 style=\"text-align: center\">FINAL PROJECT - OMNI ORACLE</h1>\n",
    "<hr>\n",
    "<h2 style=\"text-align: center\">Team members</h2>\n",
    "<hr>\n",
    "<h3 style=\"text-align: center\">Francis Tan Hong Xin</h3>\n",
    "<h3 style=\"text-align: center\">Gan Lai Soon</h3>\n",
    "<h3 style=\"text-align: center\">Khadijah Anhardeen</h3>\n",
    "<h3 style=\"text-align: center\">Muhammad Nur Syafaat Bin Mohamed Saat</h3>"
   ]
  },
  {
   "cell_type": "markdown",
   "metadata": {
    "application/vnd.databricks.v1+cell": {
     "cellMetadata": {
      "byteLimit": 2048000,
      "rowLimit": 10000
     },
     "inputWidgets": {},
     "nuid": "214ba153-7e00-4f0d-a51e-a8a3afdacd64",
     "showTitle": false,
     "title": ""
    }
   },
   "source": [
    "<hr>\n",
    "<h2 style=\"text-align: center\">Table of contents</h2>\n",
    "<hr>\n",
    "\n",
    "<ul>\n",
    "  <li>\n",
    "    <a href=\"#section_1\">Section 1: Preparation for data transformation</a>\n",
    "    <ul>\n",
    "      <li><a href=\"#section_1a\">Section 1-A: Importing libraries and functions</a></li>\n",
    "      <li><a href=\"#section_1b\">Section 1-B: Initialize logging procedure</a></li>\n",
    "      <li><a href=\"#section_1c\">Section 1-C: Configuring Data Lake Storage connection</a></li>\n",
    "      <li><a href=\"#section_1d\">Section 1-D: Checking if data files exist in storage directory</a></li>\n",
    "      <li><a href=\"#section_1e\">Section 1-E: Define file names and input/output path to Data Lake Storage</a></li>\n",
    "    </ul>\n",
    "  </li>\n",
    "  <li>\n",
    "    <a href=\"#section_2\">Section 2: Data Transformation</a>\n",
    "    <ul>\n",
    "      <li><a href=\"#section_2a\">Section 2-A: The <code>geolocations</code> data</a></li>\n",
    "      <li><a href=\"#section_2b\">Section 2-B: The <code>customers</code> data</a></li>\n",
    "      <li><a href=\"#section_2c\">Section 2-C: The <code>sellers</code> data</a></li>\n",
    "      <li><a href=\"#section_2d\">Section 2-D: Appending new <code>geolocations</code> data</a></li>\n",
    "      <li><a href=\"#section_2e\">Section 2-E: The <code>orders</code> data</a></li>\n",
    "      <li><a href=\"#section_2f\">Section 2-F: The <code>product_category_name_translation</code> data</a></li>\n",
    "      <li><a href=\"#section_2g\">Section 2-G: The <code>products</code> data</a></li>\n",
    "      <li><a href=\"#section_2h\">Section 2-H: Appending new <code>product_category_name_translations</code> data</a></li>\n",
    "      <li><a href=\"#section_2i\">Section 2-I: The <code>order_reviews</code> data</a></li>\n",
    "      <li><a href=\"#section_2j\">Section 2-J: The <code>order_items</code> data</a></li>\n",
    "      <li><a href=\"#section_2k\">Section 2-K: The <code>order_payments</code> data</a></li>\n",
    "      <li><a href=\"#section_2l\">Section 2-L: Write to the logging process</a></li>\n",
    "    </ul>\n",
    "  </li>\n",
    "  <li>\n",
    "    <a href=\"#section_3\">Section 3: DataFrame Export</a>\n",
    "    <ul>\n",
    "      <li><a href=\"#section_3a\">Section 3-A: Export tables to Delta Tables and store them in the Data Lake Storage</a></li>\n",
    "      <li><a href=\"#section_3b\">Section 3-B: Write to the logging process</a></li>\n",
    "    </ul>\n",
    "  </li>\n",
    "</ul>"
   ]
  },
  {
   "cell_type": "markdown",
   "metadata": {
    "application/vnd.databricks.v1+cell": {
     "cellMetadata": {
      "byteLimit": 2048000,
      "rowLimit": 10000
     },
     "inputWidgets": {},
     "nuid": "be6b242a-b42b-4233-a6d8-7f768bd68bd4",
     "showTitle": false,
     "title": ""
    }
   },
   "source": [
    "<section id=\"section_1\">\n",
    "    <hr>\n",
    "    <h2 style=\"text-align: center\">Section 1: Preparation for data transformation</h2>\n",
    "    <hr>\n",
    "</section>\n",
    "\n",
    "<section id=\"section_1a\">\n",
    "    <h3 style=\"text-align: center\">Section 1-A: Importing libraries and functions</h3>\n",
    "</section>"
   ]
  },
  {
   "cell_type": "code",
   "execution_count": null,
   "metadata": {
    "application/vnd.databricks.v1+cell": {
     "cellMetadata": {
      "byteLimit": 2048000,
      "rowLimit": 10000
     },
     "inputWidgets": {},
     "nuid": "b6aa7b44-586e-40fc-aaea-40fe215a4bcb",
     "showTitle": false,
     "title": ""
    }
   },
   "outputs": [],
   "source": [
    "# for pyspark, connecting to azure storage account\n",
    "from pyspark.sql import SparkSession, Window, functions as F\n",
    "from pyspark.sql.functions import *\n",
    "from pyspark.sql.types import *\n",
    "\n",
    "# for recording logs\n",
    "import logging\n",
    "\n",
    "# for foreign characters (Portuguese) and converting them\n",
    "from unidecode import unidecode\n",
    "\n",
    "# for checking the spelling of English words\n",
    "from spellchecker import SpellChecker\n",
    "\n",
    "# for translating foreign texts to English\n",
    "from deep_translator import GoogleTranslator"
   ]
  },
  {
   "cell_type": "markdown",
   "metadata": {
    "application/vnd.databricks.v1+cell": {
     "cellMetadata": {
      "byteLimit": 2048000,
      "rowLimit": 10000
     },
     "inputWidgets": {},
     "nuid": "382ecf0a-d4bb-4381-9f9a-596bbbf19c25",
     "showTitle": false,
     "title": ""
    }
   },
   "source": [
    "<section id=\"section_1b\">\n",
    "    <h3 style=\"text-align: center\">Section 1-B: Initialize logging procedure</h3>\n",
    "</section>"
   ]
  },
  {
   "cell_type": "code",
   "execution_count": null,
   "metadata": {
    "application/vnd.databricks.v1+cell": {
     "cellMetadata": {
      "byteLimit": 2048000,
      "rowLimit": 10000
     },
     "inputWidgets": {},
     "nuid": "81573721-3400-4340-a1e6-7f803d1589ab",
     "showTitle": false,
     "title": ""
    }
   },
   "outputs": [],
   "source": [
    "# Configure logging\n",
    "logging.basicConfig(level=logging.INFO, \n",
    "                    filename='data_transformation.log', \n",
    "                    format='%(asctime)s:%(levelname)s:%(message)s')\n",
    "\n",
    "logging.info(\"ETL process started.\")"
   ]
  },
  {
   "cell_type": "markdown",
   "metadata": {
    "application/vnd.databricks.v1+cell": {
     "cellMetadata": {
      "byteLimit": 2048000,
      "rowLimit": 10000
     },
     "inputWidgets": {},
     "nuid": "5d7b466e-03c8-450e-89cc-a3faba0c4251",
     "showTitle": false,
     "title": ""
    }
   },
   "source": [
    "<section id=\"section_1c\">\n",
    "    <h3 style=\"text-align: center\">Section 1-C: Configuring Data Lake Storage connection</h3>\n",
    "</section>"
   ]
  },
  {
   "cell_type": "code",
   "execution_count": null,
   "metadata": {
    "application/vnd.databricks.v1+cell": {
     "cellMetadata": {
      "byteLimit": 2048000,
      "rowLimit": 10000
     },
     "inputWidgets": {},
     "nuid": "62beedb6-fd09-4c75-b390-bc6456cb0185",
     "showTitle": false,
     "title": ""
    }
   },
   "outputs": [],
   "source": [
    "spark.conf.set(\n",
    "    \"fs.azure.account.key.omnioraclestorage.dfs.core.windows.net\",\n",
    "    dbutils.secrets.get(scope=\"key-vault-secret\", key=\"storagekey\")\n",
    ")"
   ]
  },
  {
   "cell_type": "markdown",
   "metadata": {
    "application/vnd.databricks.v1+cell": {
     "cellMetadata": {
      "byteLimit": 2048000,
      "rowLimit": 10000
     },
     "inputWidgets": {},
     "nuid": "ea8b97e3-c88b-46e4-af42-f41fb58a0276",
     "showTitle": false,
     "title": ""
    }
   },
   "source": [
    "<section id=\"section_1d\">\n",
    "    <h3 style=\"text-align: center\">Section 1-D: Checking if data files exist in storage directory</h3>\n",
    "</section>"
   ]
  },
  {
   "cell_type": "code",
   "execution_count": null,
   "metadata": {
    "application/vnd.databricks.v1+cell": {
     "cellMetadata": {
      "byteLimit": 2048000,
      "rowLimit": 10000
     },
     "inputWidgets": {},
     "nuid": "9ee0fddd-4696-49ca-9837-0f6a934741d7",
     "showTitle": false,
     "title": ""
    }
   },
   "outputs": [
    {
     "data": {
      "text/plain": [
       "[FileInfo(path='abfss://raw@omnioraclestorage.dfs.core.windows.net/olist/customers/', name='customers/', size=0, modificationTime=1727619381000),\n",
       " FileInfo(path='abfss://raw@omnioraclestorage.dfs.core.windows.net/olist/geolocations/', name='geolocations/', size=0, modificationTime=1727619394000),\n",
       " FileInfo(path='abfss://raw@omnioraclestorage.dfs.core.windows.net/olist/order_items/', name='order_items/', size=0, modificationTime=1727619380000),\n",
       " FileInfo(path='abfss://raw@omnioraclestorage.dfs.core.windows.net/olist/order_payments/', name='order_payments/', size=0, modificationTime=1727619383000),\n",
       " FileInfo(path='abfss://raw@omnioraclestorage.dfs.core.windows.net/olist/order_reviews/', name='order_reviews/', size=0, modificationTime=1727619387000),\n",
       " FileInfo(path='abfss://raw@omnioraclestorage.dfs.core.windows.net/olist/orders/', name='orders/', size=0, modificationTime=1727619385000),\n",
       " FileInfo(path='abfss://raw@omnioraclestorage.dfs.core.windows.net/olist/product_category_name_translations/', name='product_category_name_translations/', size=0, modificationTime=1727619386000),\n",
       " FileInfo(path='abfss://raw@omnioraclestorage.dfs.core.windows.net/olist/products/', name='products/', size=0, modificationTime=1727619378000),\n",
       " FileInfo(path='abfss://raw@omnioraclestorage.dfs.core.windows.net/olist/sellers/', name='sellers/', size=0, modificationTime=1727619384000)]"
      ]
     },
     "execution_count": 4,
     "metadata": {},
     "output_type": "execute_result"
    }
   ],
   "source": [
    "dbutils.fs.ls(\"abfss://raw@omnioraclestorage.dfs.core.windows.net/olist/\")"
   ]
  },
  {
   "cell_type": "markdown",
   "metadata": {
    "application/vnd.databricks.v1+cell": {
     "cellMetadata": {
      "byteLimit": 2048000,
      "rowLimit": 10000
     },
     "inputWidgets": {},
     "nuid": "5bc7ff6e-04a5-4e89-9e9d-b9c4461a6912",
     "showTitle": false,
     "title": ""
    }
   },
   "source": [
    "<section id=\"section_1e\">\n",
    "    <h3 style=\"text-align: center\">Section 1-E: Define file names and input/output path to Data Lake Storage</h3>\n",
    "</section>"
   ]
  },
  {
   "cell_type": "code",
   "execution_count": null,
   "metadata": {
    "application/vnd.databricks.v1+cell": {
     "cellMetadata": {
      "byteLimit": 2048000,
      "rowLimit": 10000
     },
     "inputWidgets": {},
     "nuid": "77630066-8932-4665-a66a-cb6f802fab4f",
     "showTitle": false,
     "title": ""
    }
   },
   "outputs": [],
   "source": [
    "geolocations = \"geolocations\"\n",
    "customers = \"customers\"\n",
    "sellers = \"sellers\"\n",
    "orders = \"orders\"\n",
    "order_items = \"order_items\"\n",
    "order_payments = \"order_payments\"\n",
    "order_reviews = \"order_reviews\"\n",
    "products = \"products\"\n",
    "product_category_name_translations = \"product_category_name_translations\"\n",
    "\n",
    "read_path = \"abfss://raw@omnioraclestorage.dfs.core.windows.net/olist/\"\n",
    "output_path = 'abfss://transformed@omnioraclestorage.dfs.core.windows.net/olist/'"
   ]
  },
  {
   "cell_type": "markdown",
   "metadata": {
    "application/vnd.databricks.v1+cell": {
     "cellMetadata": {
      "byteLimit": 2048000,
      "rowLimit": 10000
     },
     "inputWidgets": {},
     "nuid": "a3b58d9c-d123-4199-86e0-ca56df20b26b",
     "showTitle": false,
     "title": ""
    }
   },
   "source": [
    "<section id=\"section_2\">\n",
    "    <hr>\n",
    "    <h2 style=\"text-align: center\">Section 2: Data Transformation</h2>\n",
    "    <hr>\n",
    "</section>"
   ]
  },
  {
   "cell_type": "markdown",
   "metadata": {
    "application/vnd.databricks.v1+cell": {
     "cellMetadata": {
      "byteLimit": 2048000,
      "rowLimit": 10000
     },
     "inputWidgets": {},
     "nuid": "236ba915-8175-47e2-a72e-37fd87e986bc",
     "showTitle": false,
     "title": ""
    }
   },
   "source": [
    "<section id=\"section_2a\">\n",
    "    <h3 style=\"text-align: center\">Section 2-A: The <code>geolocations</code> data</h3>\n",
    "    <h4>Read in the parquet file and store inside a DataFrame called <code>geolocations_df</code></h4>\n",
    "</section>"
   ]
  },
  {
   "cell_type": "code",
   "execution_count": null,
   "metadata": {
    "application/vnd.databricks.v1+cell": {
     "cellMetadata": {
      "byteLimit": 2048000,
      "rowLimit": 10000
     },
     "inputWidgets": {},
     "nuid": "1f1c6f54-35c7-46ec-9d6a-2f2d9b3ff036",
     "showTitle": false,
     "title": ""
    }
   },
   "outputs": [
    {
     "name": "stdout",
     "output_type": "stream",
     "text": [
      "Geolocation data loaded successfully.\n"
     ]
    }
   ],
   "source": [
    "geolocations_df = spark.read.format('parquet')\\\n",
    "                            .options(nullValues='', sep=\",\")\\\n",
    "                            .load(f\"{read_path}{geolocations}/{geolocations}.parquet\")\n",
    "\n",
    "logging.info(\"Geolocation data loaded successfully.\")\n",
    "print(\"Geolocation data loaded successfully.\")\n",
    "\n",
    "# get columns with NULL values\n",
    "geolocations_null_columns = {col: geolocations_df.filter(geolocations_df[col].isNull()).count() > 0 for col in geolocations_df.columns}\n",
    "if True in geolocations_null_columns.values():\n",
    "    na_columns = [col for col in geolocations_null_columns.keys() if geolocations_null_columns[col] == True]\n",
    "    na_columns = ', '.join(na_columns)\n",
    "    logging.warning(f\"Detected columns with NA values: {na_columns}\")"
   ]
  },
  {
   "cell_type": "code",
   "execution_count": null,
   "metadata": {
    "application/vnd.databricks.v1+cell": {
     "cellMetadata": {
      "byteLimit": 2048000,
      "rowLimit": 10000
     },
     "inputWidgets": {},
     "nuid": "7d19b6f0-a7a2-41ed-b2c3-0da6c6a9d98d",
     "showTitle": false,
     "title": ""
    }
   },
   "outputs": [
    {
     "data": {
      "text/html": [
       "<style scoped>\n",
       "  .table-result-container {\n",
       "    max-height: 300px;\n",
       "    overflow: auto;\n",
       "  }\n",
       "  table, th, td {\n",
       "    border: 1px solid black;\n",
       "    border-collapse: collapse;\n",
       "  }\n",
       "  th, td {\n",
       "    padding: 5px;\n",
       "  }\n",
       "  th {\n",
       "    text-align: left;\n",
       "  }\n",
       "</style><div class='table-result-container'><table class='table-result'><thead style='background-color: white'><tr><th>geolocation_zip_code_prefix</th><th>geolocation_lat</th><th>geolocation_lng</th><th>geolocation_city</th><th>geolocation_state</th></tr></thead><tbody><tr><td>1000163</td><td>1000163</td><td>1000163</td><td>1000163</td><td>1000163</td></tr></tbody></table></div>"
      ]
     },
     "metadata": {
      "application/vnd.databricks.v1+output": {
       "addedWidgets": {},
       "aggData": [],
       "aggError": "",
       "aggOverflow": false,
       "aggSchema": [],
       "aggSeriesLimitReached": false,
       "aggType": "",
       "arguments": {},
       "columnCustomDisplayInfos": {},
       "data": [
        [
         1000163,
         1000163,
         1000163,
         1000163,
         1000163
        ]
       ],
       "datasetInfos": [],
       "dbfsResultPath": null,
       "isJsonSchema": true,
       "metadata": {},
       "overflow": false,
       "plotOptions": {
        "customPlotOptions": {},
        "displayType": "table",
        "pivotAggregation": null,
        "pivotColumns": null,
        "xColumns": null,
        "yColumns": null
       },
       "removedWidgets": [],
       "schema": [
        {
         "metadata": "{}",
         "name": "geolocation_zip_code_prefix",
         "type": "\"long\""
        },
        {
         "metadata": "{}",
         "name": "geolocation_lat",
         "type": "\"long\""
        },
        {
         "metadata": "{}",
         "name": "geolocation_lng",
         "type": "\"long\""
        },
        {
         "metadata": "{}",
         "name": "geolocation_city",
         "type": "\"long\""
        },
        {
         "metadata": "{}",
         "name": "geolocation_state",
         "type": "\"long\""
        }
       ],
       "type": "table"
      }
     },
     "output_type": "display_data"
    }
   ],
   "source": [
    "from pyspark.sql.functions import *\n",
    "\n",
    "# prints the number of non-null values in the dataframe\n",
    "display(geolocations_df.select([count(when(col(c).isNotNull(), c)).alias(c) for c in geolocations_df.columns]))"
   ]
  },
  {
   "cell_type": "code",
   "execution_count": null,
   "metadata": {
    "application/vnd.databricks.v1+cell": {
     "cellMetadata": {
      "byteLimit": 2048000,
      "rowLimit": 10000
     },
     "inputWidgets": {},
     "nuid": "46c31b97-ea95-490f-ac5b-f0117f1d6357",
     "showTitle": false,
     "title": ""
    }
   },
   "outputs": [
    {
     "name": "stdout",
     "output_type": "stream",
     "text": [
      "root\n",
      " |-- geolocation_zip_code_prefix: integer (nullable = true)\n",
      " |-- geolocation_lat: decimal(38,18) (nullable = true)\n",
      " |-- geolocation_lng: decimal(38,18) (nullable = true)\n",
      " |-- geolocation_city: string (nullable = true)\n",
      " |-- geolocation_state: string (nullable = true)\n",
      "\n"
     ]
    }
   ],
   "source": [
    "geolocations_df.printSchema()"
   ]
  },
  {
   "cell_type": "code",
   "execution_count": null,
   "metadata": {
    "application/vnd.databricks.v1+cell": {
     "cellMetadata": {
      "byteLimit": 2048000,
      "rowLimit": 10000
     },
     "inputWidgets": {},
     "nuid": "a1ec0772-08f6-4b5f-9229-b43b162769d7",
     "showTitle": false,
     "title": ""
    }
   },
   "outputs": [
    {
     "data": {
      "text/html": [
       "<style scoped>\n",
       "  .table-result-container {\n",
       "    max-height: 300px;\n",
       "    overflow: auto;\n",
       "  }\n",
       "  table, th, td {\n",
       "    border: 1px solid black;\n",
       "    border-collapse: collapse;\n",
       "  }\n",
       "  th, td {\n",
       "    padding: 5px;\n",
       "  }\n",
       "  th {\n",
       "    text-align: left;\n",
       "  }\n",
       "</style><div class='table-result-container'><table class='table-result'><thead style='background-color: white'><tr><th>geolocation_zip_code_prefix</th><th>geolocation_lat</th><th>geolocation_lng</th><th>geolocation_city</th><th>geolocation_state</th></tr></thead><tbody><tr><td>1001</td><td>-23.550263371631395000</td><td>-46.634196393848390000</td><td>são paulo</td><td>SP</td></tr><tr><td>1001</td><td>-23.549779299469115000</td><td>-46.633957118385300000</td><td>são paulo</td><td>SP</td></tr><tr><td>1001</td><td>-23.549951273933896000</td><td>-46.634027085636710000</td><td>são paulo</td><td>SP</td></tr><tr><td>1001</td><td>-23.550497706907514000</td><td>-46.634338178054070000</td><td>sao paulo</td><td>SP</td></tr><tr><td>1001</td><td>-23.549291999999990000</td><td>-46.633559478233785000</td><td>sao paulo</td><td>SP</td></tr><tr><td>1001</td><td>-23.551426655288804000</td><td>-46.634073946707850000</td><td>sao paulo</td><td>SP</td></tr><tr><td>1001</td><td>-23.550497706907514000</td><td>-46.634338178054070000</td><td>sao paulo</td><td>SP</td></tr><tr><td>1001</td><td>-23.550641822090150000</td><td>-46.634409790322515000</td><td>sao paulo</td><td>SP</td></tr><tr><td>1001</td><td>-23.551336655288804000</td><td>-46.634026997778310000</td><td>sao paulo</td><td>SP</td></tr><tr><td>1001</td><td>-23.550497706907514000</td><td>-46.634338178054070000</td><td>sao paulo</td><td>SP</td></tr></tbody></table></div>"
      ]
     },
     "metadata": {
      "application/vnd.databricks.v1+output": {
       "addedWidgets": {},
       "aggData": [],
       "aggError": "",
       "aggOverflow": false,
       "aggSchema": [],
       "aggSeriesLimitReached": false,
       "aggType": "",
       "arguments": {},
       "columnCustomDisplayInfos": {},
       "data": [
        [
         1001,
         "-23.550263371631395000",
         "-46.634196393848390000",
         "são paulo",
         "SP"
        ],
        [
         1001,
         "-23.549779299469115000",
         "-46.633957118385300000",
         "são paulo",
         "SP"
        ],
        [
         1001,
         "-23.549951273933896000",
         "-46.634027085636710000",
         "são paulo",
         "SP"
        ],
        [
         1001,
         "-23.550497706907514000",
         "-46.634338178054070000",
         "sao paulo",
         "SP"
        ],
        [
         1001,
         "-23.549291999999990000",
         "-46.633559478233785000",
         "sao paulo",
         "SP"
        ],
        [
         1001,
         "-23.551426655288804000",
         "-46.634073946707850000",
         "sao paulo",
         "SP"
        ],
        [
         1001,
         "-23.550497706907514000",
         "-46.634338178054070000",
         "sao paulo",
         "SP"
        ],
        [
         1001,
         "-23.550641822090150000",
         "-46.634409790322515000",
         "sao paulo",
         "SP"
        ],
        [
         1001,
         "-23.551336655288804000",
         "-46.634026997778310000",
         "sao paulo",
         "SP"
        ],
        [
         1001,
         "-23.550497706907514000",
         "-46.634338178054070000",
         "sao paulo",
         "SP"
        ]
       ],
       "datasetInfos": [],
       "dbfsResultPath": null,
       "isJsonSchema": true,
       "metadata": {},
       "overflow": false,
       "plotOptions": {
        "customPlotOptions": {},
        "displayType": "table",
        "pivotAggregation": null,
        "pivotColumns": null,
        "xColumns": null,
        "yColumns": null
       },
       "removedWidgets": [],
       "schema": [
        {
         "metadata": "{}",
         "name": "geolocation_zip_code_prefix",
         "type": "\"integer\""
        },
        {
         "metadata": "{}",
         "name": "geolocation_lat",
         "type": "\"decimal(38,18)\""
        },
        {
         "metadata": "{}",
         "name": "geolocation_lng",
         "type": "\"decimal(38,18)\""
        },
        {
         "metadata": "{}",
         "name": "geolocation_city",
         "type": "\"string\""
        },
        {
         "metadata": "{}",
         "name": "geolocation_state",
         "type": "\"string\""
        }
       ],
       "type": "table"
      }
     },
     "output_type": "display_data"
    }
   ],
   "source": [
    "display(geolocations_df.sort(asc(\"geolocation_zip_code_prefix\"), desc(\"geolocation_city\"), desc(\"geolocation_state\")).limit(10))"
   ]
  },
  {
   "cell_type": "code",
   "execution_count": null,
   "metadata": {
    "application/vnd.databricks.v1+cell": {
     "cellMetadata": {
      "byteLimit": 2048000,
      "rowLimit": 10000
     },
     "inputWidgets": {},
     "nuid": "de5695b0-6dd8-48d7-a140-95ec51d46464",
     "showTitle": false,
     "title": ""
    }
   },
   "outputs": [
    {
     "data": {
      "text/plain": [
       "1000163"
      ]
     },
     "execution_count": 10,
     "metadata": {},
     "output_type": "execute_result"
    }
   ],
   "source": [
    "before_transform_row_count = geolocations_df.count()\n",
    "before_transform_row_count"
   ]
  },
  {
   "cell_type": "markdown",
   "metadata": {
    "application/vnd.databricks.v1+cell": {
     "cellMetadata": {
      "byteLimit": 2048000,
      "rowLimit": 10000
     },
     "inputWidgets": {},
     "nuid": "a5b42f9f-1758-4b3f-b990-ddc617f8aa08",
     "showTitle": false,
     "title": ""
    }
   },
   "source": [
    "#### Problems and Possible Improvements:\n",
    "\n",
    "As seen in the outputs from the cells above, there are some things that we needs to be fixed and some improvements that can be done:\n",
    "\n",
    "1. The columns can be renamed into simpler names (`zip_code_prefix`, `latitude`, `longitude`, `city`, and `state`).\n",
    "\n",
    "2. The strings under the `city` column has different characters with some using foreign (Portuguese) characters like 'ã', 'ç', 'é', etc.\n",
    "\n",
    "3. There are duplicate `zip_code_prefix` values which makes it a problem as it is supposed to be the primary key of this table.\n",
    "\n",
    "4. Because we want to merge the duplicate `zip_code_prefix` values into one, another problem arise where there are multiple different `city` and `state` values under one unique `zip_code_prefix`."
   ]
  },
  {
   "cell_type": "markdown",
   "metadata": {
    "application/vnd.databricks.v1+cell": {
     "cellMetadata": {
      "byteLimit": 2048000,
      "rowLimit": 10000
     },
     "inputWidgets": {},
     "nuid": "b9f3a54d-9e82-4c8b-ac7a-740538a432d9",
     "showTitle": false,
     "title": ""
    }
   },
   "source": [
    "#### Rename the column names and change the data types of the columns."
   ]
  },
  {
   "cell_type": "code",
   "execution_count": null,
   "metadata": {
    "application/vnd.databricks.v1+cell": {
     "cellMetadata": {
      "byteLimit": 2048000,
      "rowLimit": 10000
     },
     "inputWidgets": {},
     "nuid": "559c3554-8318-43e9-a1a6-8a1e1df925d8",
     "showTitle": false,
     "title": ""
    }
   },
   "outputs": [
    {
     "name": "stdout",
     "output_type": "stream",
     "text": [
      "root\n",
      " |-- zip_code_prefix: integer (nullable = true)\n",
      " |-- latitude: decimal(38,18) (nullable = true)\n",
      " |-- longitude: decimal(38,18) (nullable = true)\n",
      " |-- city: string (nullable = true)\n",
      " |-- state: string (nullable = true)\n",
      "\n"
     ]
    }
   ],
   "source": [
    "geolocations_col_names = {\n",
    "    'geolocation_zip_code_prefix': 'zip_code_prefix',\n",
    "    'geolocation_lat': 'latitude',\n",
    "    'geolocation_lng': 'longitude',\n",
    "    'geolocation_city': 'city',\n",
    "    'geolocation_state': 'state'\n",
    "}\n",
    "\n",
    "for old_col, new_col in geolocations_col_names.items():\n",
    "    geolocations_df = geolocations_df.withColumnRenamed(old_col, new_col)\n",
    "\n",
    "geolocations_df.printSchema()"
   ]
  },
  {
   "cell_type": "markdown",
   "metadata": {
    "application/vnd.databricks.v1+cell": {
     "cellMetadata": {
      "byteLimit": 2048000,
      "rowLimit": 10000
     },
     "inputWidgets": {},
     "nuid": "139f2101-d0e8-4425-852a-71c748976222",
     "showTitle": false,
     "title": ""
    }
   },
   "source": [
    "#### Change the data in `city` to lowercase and the data in `state` to uppercase.\n",
    "\n",
    "This is done just for a good measure in case they are not stored properly."
   ]
  },
  {
   "cell_type": "code",
   "execution_count": null,
   "metadata": {
    "application/vnd.databricks.v1+cell": {
     "cellMetadata": {
      "byteLimit": 2048000,
      "rowLimit": 10000
     },
     "inputWidgets": {},
     "nuid": "4b0e3141-7d5a-4c9c-a777-313cdca0d21a",
     "showTitle": false,
     "title": ""
    }
   },
   "outputs": [
    {
     "data": {
      "text/html": [
       "<style scoped>\n",
       "  .table-result-container {\n",
       "    max-height: 300px;\n",
       "    overflow: auto;\n",
       "  }\n",
       "  table, th, td {\n",
       "    border: 1px solid black;\n",
       "    border-collapse: collapse;\n",
       "  }\n",
       "  th, td {\n",
       "    padding: 5px;\n",
       "  }\n",
       "  th {\n",
       "    text-align: left;\n",
       "  }\n",
       "</style><div class='table-result-container'><table class='table-result'><thead style='background-color: white'><tr><th>zip_code_prefix</th><th>latitude</th><th>longitude</th><th>city</th><th>state</th></tr></thead><tbody><tr><td>1037</td><td>-23.545621281152680000</td><td>-46.639292048001680000</td><td>sao paulo</td><td>SP</td></tr><tr><td>1046</td><td>-23.546081127035535000</td><td>-46.644820298371570000</td><td>sao paulo</td><td>SP</td></tr><tr><td>1046</td><td>-23.546128966414690000</td><td>-46.642951483611380000</td><td>sao paulo</td><td>SP</td></tr><tr><td>1041</td><td>-23.544392164868100000</td><td>-46.639499306278440000</td><td>sao paulo</td><td>SP</td></tr><tr><td>1035</td><td>-23.541577961711493000</td><td>-46.641607223296130000</td><td>sao paulo</td><td>SP</td></tr></tbody></table></div>"
      ]
     },
     "metadata": {
      "application/vnd.databricks.v1+output": {
       "addedWidgets": {},
       "aggData": [],
       "aggError": "",
       "aggOverflow": false,
       "aggSchema": [],
       "aggSeriesLimitReached": false,
       "aggType": "",
       "arguments": {},
       "columnCustomDisplayInfos": {},
       "data": [
        [
         1037,
         "-23.545621281152680000",
         "-46.639292048001680000",
         "sao paulo",
         "SP"
        ],
        [
         1046,
         "-23.546081127035535000",
         "-46.644820298371570000",
         "sao paulo",
         "SP"
        ],
        [
         1046,
         "-23.546128966414690000",
         "-46.642951483611380000",
         "sao paulo",
         "SP"
        ],
        [
         1041,
         "-23.544392164868100000",
         "-46.639499306278440000",
         "sao paulo",
         "SP"
        ],
        [
         1035,
         "-23.541577961711493000",
         "-46.641607223296130000",
         "sao paulo",
         "SP"
        ]
       ],
       "datasetInfos": [],
       "dbfsResultPath": null,
       "isJsonSchema": true,
       "metadata": {},
       "overflow": false,
       "plotOptions": {
        "customPlotOptions": {},
        "displayType": "table",
        "pivotAggregation": null,
        "pivotColumns": null,
        "xColumns": null,
        "yColumns": null
       },
       "removedWidgets": [],
       "schema": [
        {
         "metadata": "{}",
         "name": "zip_code_prefix",
         "type": "\"integer\""
        },
        {
         "metadata": "{}",
         "name": "latitude",
         "type": "\"decimal(38,18)\""
        },
        {
         "metadata": "{}",
         "name": "longitude",
         "type": "\"decimal(38,18)\""
        },
        {
         "metadata": "{}",
         "name": "city",
         "type": "\"string\""
        },
        {
         "metadata": "{}",
         "name": "state",
         "type": "\"string\""
        }
       ],
       "type": "table"
      }
     },
     "output_type": "display_data"
    }
   ],
   "source": [
    "geolocations_df = geolocations_df.withColumn('city', lower(geolocations_df['city']))\n",
    "geolocations_df = geolocations_df.withColumn('state', upper(geolocations_df['state']))\n",
    "\n",
    "display(geolocations_df.limit(5))"
   ]
  },
  {
   "cell_type": "markdown",
   "metadata": {
    "application/vnd.databricks.v1+cell": {
     "cellMetadata": {
      "byteLimit": 2048000,
      "rowLimit": 10000
     },
     "inputWidgets": {},
     "nuid": "d01ef47c-28a2-4f41-8e24-4e647086fe75",
     "showTitle": false,
     "title": ""
    }
   },
   "source": [
    "#### Normalize the data in `city` to use normal characters, replacing any foreign characters like 'ã', 'ç', 'é', etc. \n",
    "\n",
    "This is so that it makes it easier to group the data according to the `zip_code_prefix`.\n",
    "\n",
    "We will be using the **unidecode** library to detect the foreign characters and convert them to their normal character counterparts. We store the converted `city` data into another column called `city_normalized`."
   ]
  },
  {
   "cell_type": "code",
   "execution_count": null,
   "metadata": {
    "application/vnd.databricks.v1+cell": {
     "cellMetadata": {
      "byteLimit": 2048000,
      "rowLimit": 10000
     },
     "inputWidgets": {},
     "nuid": "921b26dc-de01-4664-9099-29612f54ca72",
     "showTitle": false,
     "title": ""
    }
   },
   "outputs": [
    {
     "data": {
      "text/html": [
       "<style scoped>\n",
       "  .table-result-container {\n",
       "    max-height: 300px;\n",
       "    overflow: auto;\n",
       "  }\n",
       "  table, th, td {\n",
       "    border: 1px solid black;\n",
       "    border-collapse: collapse;\n",
       "  }\n",
       "  th, td {\n",
       "    padding: 5px;\n",
       "  }\n",
       "  th {\n",
       "    text-align: left;\n",
       "  }\n",
       "</style><div class='table-result-container'><table class='table-result'><thead style='background-color: white'><tr><th>zip_code_prefix</th><th>latitude</th><th>longitude</th><th>city</th><th>state</th><th>city_normalized</th></tr></thead><tbody><tr><td>1001</td><td>-23.550263371631395000</td><td>-46.634196393848390000</td><td>são paulo</td><td>SP</td><td>sao paulo</td></tr><tr><td>1001</td><td>-23.549779299469115000</td><td>-46.633957118385300000</td><td>são paulo</td><td>SP</td><td>sao paulo</td></tr><tr><td>1001</td><td>-23.549951273933896000</td><td>-46.634027085636710000</td><td>são paulo</td><td>SP</td><td>sao paulo</td></tr><tr><td>1001</td><td>-23.550497706907514000</td><td>-46.634338178054070000</td><td>sao paulo</td><td>SP</td><td>sao paulo</td></tr><tr><td>1001</td><td>-23.549291999999990000</td><td>-46.633559478233785000</td><td>sao paulo</td><td>SP</td><td>sao paulo</td></tr><tr><td>1001</td><td>-23.551426655288804000</td><td>-46.634073946707850000</td><td>sao paulo</td><td>SP</td><td>sao paulo</td></tr><tr><td>1001</td><td>-23.550497706907514000</td><td>-46.634338178054070000</td><td>sao paulo</td><td>SP</td><td>sao paulo</td></tr><tr><td>1001</td><td>-23.550641822090150000</td><td>-46.634409790322515000</td><td>sao paulo</td><td>SP</td><td>sao paulo</td></tr><tr><td>1001</td><td>-23.551336655288804000</td><td>-46.634026997778310000</td><td>sao paulo</td><td>SP</td><td>sao paulo</td></tr><tr><td>1001</td><td>-23.550497706907514000</td><td>-46.634338178054070000</td><td>sao paulo</td><td>SP</td><td>sao paulo</td></tr></tbody></table></div>"
      ]
     },
     "metadata": {
      "application/vnd.databricks.v1+output": {
       "addedWidgets": {},
       "aggData": [],
       "aggError": "",
       "aggOverflow": false,
       "aggSchema": [],
       "aggSeriesLimitReached": false,
       "aggType": "",
       "arguments": {},
       "columnCustomDisplayInfos": {},
       "data": [
        [
         1001,
         "-23.550263371631395000",
         "-46.634196393848390000",
         "são paulo",
         "SP",
         "sao paulo"
        ],
        [
         1001,
         "-23.549779299469115000",
         "-46.633957118385300000",
         "são paulo",
         "SP",
         "sao paulo"
        ],
        [
         1001,
         "-23.549951273933896000",
         "-46.634027085636710000",
         "são paulo",
         "SP",
         "sao paulo"
        ],
        [
         1001,
         "-23.550497706907514000",
         "-46.634338178054070000",
         "sao paulo",
         "SP",
         "sao paulo"
        ],
        [
         1001,
         "-23.549291999999990000",
         "-46.633559478233785000",
         "sao paulo",
         "SP",
         "sao paulo"
        ],
        [
         1001,
         "-23.551426655288804000",
         "-46.634073946707850000",
         "sao paulo",
         "SP",
         "sao paulo"
        ],
        [
         1001,
         "-23.550497706907514000",
         "-46.634338178054070000",
         "sao paulo",
         "SP",
         "sao paulo"
        ],
        [
         1001,
         "-23.550641822090150000",
         "-46.634409790322515000",
         "sao paulo",
         "SP",
         "sao paulo"
        ],
        [
         1001,
         "-23.551336655288804000",
         "-46.634026997778310000",
         "sao paulo",
         "SP",
         "sao paulo"
        ],
        [
         1001,
         "-23.550497706907514000",
         "-46.634338178054070000",
         "sao paulo",
         "SP",
         "sao paulo"
        ]
       ],
       "datasetInfos": [],
       "dbfsResultPath": null,
       "isJsonSchema": true,
       "metadata": {},
       "overflow": false,
       "plotOptions": {
        "customPlotOptions": {},
        "displayType": "table",
        "pivotAggregation": null,
        "pivotColumns": null,
        "xColumns": null,
        "yColumns": null
       },
       "removedWidgets": [],
       "schema": [
        {
         "metadata": "{}",
         "name": "zip_code_prefix",
         "type": "\"integer\""
        },
        {
         "metadata": "{}",
         "name": "latitude",
         "type": "\"decimal(38,18)\""
        },
        {
         "metadata": "{}",
         "name": "longitude",
         "type": "\"decimal(38,18)\""
        },
        {
         "metadata": "{}",
         "name": "city",
         "type": "\"string\""
        },
        {
         "metadata": "{}",
         "name": "state",
         "type": "\"string\""
        },
        {
         "metadata": "{}",
         "name": "city_normalized",
         "type": "\"string\""
        }
       ],
       "type": "table"
      }
     },
     "output_type": "display_data"
    }
   ],
   "source": [
    "# Define a UDF to apply the unidecode function to each value in the 'city' column\n",
    "unidecode_udf = udf(lambda x: unidecode(x) if x is not None else None, StringType())\n",
    "\n",
    "# Apply the UDF to create a new column 'city_normalized'\n",
    "geolocations_df = geolocations_df.withColumn('city_normalized', unidecode_udf('city'))\n",
    "\n",
    "# Sort the DataFrame by 'zip_code_prefix', 'city', and 'state' columns in the specified order\n",
    "geolocations_df = geolocations_df.orderBy(['zip_code_prefix', 'city', 'state'], ascending=[True, False, False])\n",
    "\n",
    "# Display the first 10 rows of the DataFrame\n",
    "display(geolocations_df.limit(10))"
   ]
  },
  {
   "cell_type": "markdown",
   "metadata": {
    "application/vnd.databricks.v1+cell": {
     "cellMetadata": {
      "byteLimit": 2048000,
      "rowLimit": 10000
     },
     "inputWidgets": {},
     "nuid": "585351c1-4750-4571-9b3b-94b3403eaf7a",
     "showTitle": false,
     "title": ""
    }
   },
   "source": [
    "#### Group the data by the `zip_code_prefix` and perform aggregations on the other columns.\n",
    "\n",
    "To group the data by the `zip_code_prefix` in order to get a single unique `zip_code_prefix` in `geolocations_df`, we will perform aggregated functions on the other columns. \n",
    "\n",
    "For the `latitude` and `longitude` columns, we will take their average values. \n",
    "\n",
    "As for the `city_normalized` and `state`, we will compute the highest occurence of each value partitioned by the `zip_code_prefix` using the Window function (similar to the one in PostgreSQL) where we will compute the occurence and take the value with the highest occurence. \n",
    "\n",
    "We store the grouped data into a temporary DataFrame before performing the grouping process where the end result will be stored back to the original `geolocations_df`."
   ]
  },
  {
   "cell_type": "code",
   "execution_count": null,
   "metadata": {
    "application/vnd.databricks.v1+cell": {
     "cellMetadata": {
      "byteLimit": 2048000,
      "rowLimit": 10000
     },
     "inputWidgets": {},
     "nuid": "bf7734e3-76fb-424b-ab23-5f0820a2a2f2",
     "showTitle": false,
     "title": ""
    }
   },
   "outputs": [
    {
     "data": {
      "text/html": [
       "<style scoped>\n",
       "  .table-result-container {\n",
       "    max-height: 300px;\n",
       "    overflow: auto;\n",
       "  }\n",
       "  table, th, td {\n",
       "    border: 1px solid black;\n",
       "    border-collapse: collapse;\n",
       "  }\n",
       "  th, td {\n",
       "    padding: 5px;\n",
       "  }\n",
       "  th {\n",
       "    text-align: left;\n",
       "  }\n",
       "</style><div class='table-result-container'><table class='table-result'><thead style='background-color: white'><tr><th>zip_code_prefix</th><th>latitude</th><th>longitude</th><th>city</th><th>state</th><th>city_normalized</th><th>city_freq</th><th>state_freq</th></tr></thead><tbody><tr><td>1005</td><td>-23.549980033585307000</td><td>-46.634767831669450000</td><td>são paulo</td><td>SP</td><td>sao paulo</td><td>25</td><td>25</td></tr><tr><td>1005</td><td>-23.549780031197233000</td><td>-46.635358988655530000</td><td>são paulo</td><td>SP</td><td>sao paulo</td><td>25</td><td>25</td></tr><tr><td>1005</td><td>-23.549819091869107000</td><td>-46.635605889953240000</td><td>sao paulo</td><td>SP</td><td>sao paulo</td><td>25</td><td>25</td></tr><tr><td>1005</td><td>-23.549819091869107000</td><td>-46.635605889953240000</td><td>sao paulo</td><td>SP</td><td>sao paulo</td><td>25</td><td>25</td></tr><tr><td>1005</td><td>-23.549471495989290000</td><td>-46.637403877748234000</td><td>sao paulo</td><td>SP</td><td>sao paulo</td><td>25</td><td>25</td></tr><tr><td>1005</td><td>-23.548758390789974000</td><td>-46.638410945467100000</td><td>sao paulo</td><td>SP</td><td>sao paulo</td><td>25</td><td>25</td></tr><tr><td>1005</td><td>-23.549819091869107000</td><td>-46.635605889953240000</td><td>sao paulo</td><td>SP</td><td>sao paulo</td><td>25</td><td>25</td></tr><tr><td>1005</td><td>-23.548758390789974000</td><td>-46.638410945467100000</td><td>sao paulo</td><td>SP</td><td>sao paulo</td><td>25</td><td>25</td></tr><tr><td>1005</td><td>-23.549471495989290000</td><td>-46.637403877748234000</td><td>sao paulo</td><td>SP</td><td>sao paulo</td><td>25</td><td>25</td></tr><tr><td>1005</td><td>-23.549770026371950000</td><td>-46.635838915488480000</td><td>sao paulo</td><td>SP</td><td>sao paulo</td><td>25</td><td>25</td></tr></tbody></table></div>"
      ]
     },
     "metadata": {
      "application/vnd.databricks.v1+output": {
       "addedWidgets": {},
       "aggData": [],
       "aggError": "",
       "aggOverflow": false,
       "aggSchema": [],
       "aggSeriesLimitReached": false,
       "aggType": "",
       "arguments": {},
       "columnCustomDisplayInfos": {},
       "data": [
        [
         1005,
         "-23.549980033585307000",
         "-46.634767831669450000",
         "são paulo",
         "SP",
         "sao paulo",
         25,
         25
        ],
        [
         1005,
         "-23.549780031197233000",
         "-46.635358988655530000",
         "são paulo",
         "SP",
         "sao paulo",
         25,
         25
        ],
        [
         1005,
         "-23.549819091869107000",
         "-46.635605889953240000",
         "sao paulo",
         "SP",
         "sao paulo",
         25,
         25
        ],
        [
         1005,
         "-23.549819091869107000",
         "-46.635605889953240000",
         "sao paulo",
         "SP",
         "sao paulo",
         25,
         25
        ],
        [
         1005,
         "-23.549471495989290000",
         "-46.637403877748234000",
         "sao paulo",
         "SP",
         "sao paulo",
         25,
         25
        ],
        [
         1005,
         "-23.548758390789974000",
         "-46.638410945467100000",
         "sao paulo",
         "SP",
         "sao paulo",
         25,
         25
        ],
        [
         1005,
         "-23.549819091869107000",
         "-46.635605889953240000",
         "sao paulo",
         "SP",
         "sao paulo",
         25,
         25
        ],
        [
         1005,
         "-23.548758390789974000",
         "-46.638410945467100000",
         "sao paulo",
         "SP",
         "sao paulo",
         25,
         25
        ],
        [
         1005,
         "-23.549471495989290000",
         "-46.637403877748234000",
         "sao paulo",
         "SP",
         "sao paulo",
         25,
         25
        ],
        [
         1005,
         "-23.549770026371950000",
         "-46.635838915488480000",
         "sao paulo",
         "SP",
         "sao paulo",
         25,
         25
        ]
       ],
       "datasetInfos": [],
       "dbfsResultPath": null,
       "isJsonSchema": true,
       "metadata": {},
       "overflow": false,
       "plotOptions": {
        "customPlotOptions": {},
        "displayType": "table",
        "pivotAggregation": null,
        "pivotColumns": null,
        "xColumns": null,
        "yColumns": null
       },
       "removedWidgets": [],
       "schema": [
        {
         "metadata": "{}",
         "name": "zip_code_prefix",
         "type": "\"integer\""
        },
        {
         "metadata": "{}",
         "name": "latitude",
         "type": "\"decimal(38,18)\""
        },
        {
         "metadata": "{}",
         "name": "longitude",
         "type": "\"decimal(38,18)\""
        },
        {
         "metadata": "{}",
         "name": "city",
         "type": "\"string\""
        },
        {
         "metadata": "{}",
         "name": "state",
         "type": "\"string\""
        },
        {
         "metadata": "{}",
         "name": "city_normalized",
         "type": "\"string\""
        },
        {
         "metadata": "{}",
         "name": "city_freq",
         "type": "\"long\""
        },
        {
         "metadata": "{}",
         "name": "state_freq",
         "type": "\"long\""
        }
       ],
       "type": "table"
      }
     },
     "output_type": "display_data"
    }
   ],
   "source": [
    "# Create a window partitioned by 'zip_code_prefix' to calculate the most frequent city and state\n",
    "window_spec = Window.partitionBy(\"zip_code_prefix\")\n",
    "\n",
    "# Calculate the most frequent 'city' and 'state' using mode-like functionality\n",
    "df_grouped = geolocations_df.withColumn(\n",
    "                  \"city_freq\", \n",
    "                  F.count(\"city_normalized\").over(window_spec)\n",
    "               ).withColumn(\n",
    "                  \"state_freq\", \n",
    "                  F.count(\"state\").over(window_spec)\n",
    "               )\n",
    "\n",
    "# Display the first 10 rows of the DataFrame\n",
    "display(df_grouped.limit(10))"
   ]
  },
  {
   "cell_type": "code",
   "execution_count": null,
   "metadata": {
    "application/vnd.databricks.v1+cell": {
     "cellMetadata": {
      "byteLimit": 2048000,
      "rowLimit": 10000
     },
     "inputWidgets": {},
     "nuid": "0701dd86-61f1-4c0f-be14-03e7d3d87177",
     "showTitle": false,
     "title": ""
    }
   },
   "outputs": [
    {
     "data": {
      "text/html": [
       "<style scoped>\n",
       "  .table-result-container {\n",
       "    max-height: 300px;\n",
       "    overflow: auto;\n",
       "  }\n",
       "  table, th, td {\n",
       "    border: 1px solid black;\n",
       "    border-collapse: collapse;\n",
       "  }\n",
       "  th, td {\n",
       "    padding: 5px;\n",
       "  }\n",
       "  th {\n",
       "    text-align: left;\n",
       "  }\n",
       "</style><div class='table-result-container'><table class='table-result'><thead style='background-color: white'><tr><th>zip_code_prefix</th><th>city</th><th>state</th><th>latitude</th><th>longitude</th></tr></thead><tbody><tr><td>1001</td><td>sao paulo</td><td>SP</td><td>-23.5501897765517638076923</td><td>-46.6340235559042036538462</td></tr><tr><td>1002</td><td>sao paulo</td><td>SP</td><td>-23.5481457317635516923077</td><td>-46.6349792107449787692308</td></tr><tr><td>1003</td><td>sao paulo</td><td>SP</td><td>-23.5489937248131581176471</td><td>-46.6357313099758762352941</td></tr><tr><td>1004</td><td>sao paulo</td><td>SP</td><td>-23.5497988422770061363636</td><td>-46.6347569437897066363636</td></tr><tr><td>1005</td><td>sao paulo</td><td>SP</td><td>-23.5494561998307461600000</td><td>-46.6367329480369038400000</td></tr><tr><td>1006</td><td>sao paulo</td><td>SP</td><td>-23.5501018114528693333333</td><td>-46.6361367351741811111111</td></tr><tr><td>1007</td><td>sao paulo</td><td>SP</td><td>-23.5500462023516626153846</td><td>-46.6372514596376456153846</td></tr><tr><td>1008</td><td>sao paulo</td><td>SP</td><td>-23.5460017493834615625000</td><td>-46.6358859213577847500000</td></tr><tr><td>1009</td><td>sao paulo</td><td>SP</td><td>-23.5468352083208656585366</td><td>-46.6364906953122029756098</td></tr><tr><td>1010</td><td>sao paulo</td><td>SP</td><td>-23.5463894383692693333333</td><td>-46.6352260815090511111111</td></tr></tbody></table></div>"
      ]
     },
     "metadata": {
      "application/vnd.databricks.v1+output": {
       "addedWidgets": {},
       "aggData": [],
       "aggError": "",
       "aggOverflow": false,
       "aggSchema": [],
       "aggSeriesLimitReached": false,
       "aggType": "",
       "arguments": {},
       "columnCustomDisplayInfos": {},
       "data": [
        [
         1001,
         "sao paulo",
         "SP",
         "-23.5501897765517638076923",
         "-46.6340235559042036538462"
        ],
        [
         1002,
         "sao paulo",
         "SP",
         "-23.5481457317635516923077",
         "-46.6349792107449787692308"
        ],
        [
         1003,
         "sao paulo",
         "SP",
         "-23.5489937248131581176471",
         "-46.6357313099758762352941"
        ],
        [
         1004,
         "sao paulo",
         "SP",
         "-23.5497988422770061363636",
         "-46.6347569437897066363636"
        ],
        [
         1005,
         "sao paulo",
         "SP",
         "-23.5494561998307461600000",
         "-46.6367329480369038400000"
        ],
        [
         1006,
         "sao paulo",
         "SP",
         "-23.5501018114528693333333",
         "-46.6361367351741811111111"
        ],
        [
         1007,
         "sao paulo",
         "SP",
         "-23.5500462023516626153846",
         "-46.6372514596376456153846"
        ],
        [
         1008,
         "sao paulo",
         "SP",
         "-23.5460017493834615625000",
         "-46.6358859213577847500000"
        ],
        [
         1009,
         "sao paulo",
         "SP",
         "-23.5468352083208656585366",
         "-46.6364906953122029756098"
        ],
        [
         1010,
         "sao paulo",
         "SP",
         "-23.5463894383692693333333",
         "-46.6352260815090511111111"
        ]
       ],
       "datasetInfos": [],
       "dbfsResultPath": null,
       "isJsonSchema": true,
       "metadata": {},
       "overflow": false,
       "plotOptions": {
        "customPlotOptions": {},
        "displayType": "table",
        "pivotAggregation": null,
        "pivotColumns": null,
        "xColumns": null,
        "yColumns": null
       },
       "removedWidgets": [],
       "schema": [
        {
         "metadata": "{}",
         "name": "zip_code_prefix",
         "type": "\"integer\""
        },
        {
         "metadata": "{}",
         "name": "city",
         "type": "\"string\""
        },
        {
         "metadata": "{}",
         "name": "state",
         "type": "\"string\""
        },
        {
         "metadata": "{}",
         "name": "latitude",
         "type": "\"decimal(38,22)\""
        },
        {
         "metadata": "{}",
         "name": "longitude",
         "type": "\"decimal(38,22)\""
        }
       ],
       "type": "table"
      }
     },
     "output_type": "display_data"
    }
   ],
   "source": [
    "# Now, we will group by 'zip_code_prefix' and aggregate city, state, latitude, and longitude\n",
    "geolocations_df = df_grouped.groupBy(\"zip_code_prefix\").agg(\n",
    "                  F.first(F.col(\"city_normalized\")).alias(\"city\"),\n",
    "                  F.first(F.col(\"state\")).alias(\"state\"),\n",
    "                  F.avg(F.col(\"latitude\")).alias(\"latitude\"),\n",
    "                  F.avg(F.col(\"longitude\")).alias(\"longitude\")\n",
    "               )\n",
    "\n",
    "# Display the first 10 rows of the DataFrame\n",
    "display(geolocations_df.limit(10))"
   ]
  },
  {
   "cell_type": "markdown",
   "metadata": {
    "application/vnd.databricks.v1+cell": {
     "cellMetadata": {
      "byteLimit": 2048000,
      "rowLimit": 10000
     },
     "inputWidgets": {},
     "nuid": "3b7490b3-2391-4103-9eac-9f55bcc1da08",
     "showTitle": false,
     "title": ""
    }
   },
   "source": [
    "#### Difference before and after cleaning:\n",
    "\n",
    "As you can see below, the `geolocations_df` DataFrame lost **981,148** records due to duplicate `zip_code_prefix` values from **1,000,163** records to **19,015** records."
   ]
  },
  {
   "cell_type": "code",
   "execution_count": null,
   "metadata": {
    "application/vnd.databricks.v1+cell": {
     "cellMetadata": {
      "byteLimit": 2048000,
      "rowLimit": 10000
     },
     "inputWidgets": {},
     "nuid": "23e483f2-b73b-4952-9038-4c70eb44c1be",
     "showTitle": false,
     "title": ""
    }
   },
   "outputs": [
    {
     "name": "stdout",
     "output_type": "stream",
     "text": [
      "Before cleaning: 1000163\n",
      "After cleaning:  19015\n",
      "Lost records:    981148\n"
     ]
    }
   ],
   "source": [
    "print(f\"Before cleaning: {before_transform_row_count}\")\n",
    "print(f\"After cleaning:  {geolocations_df.count()}\")\n",
    "print(f\"Lost records:    {before_transform_row_count - geolocations_df.count()}\")"
   ]
  },
  {
   "cell_type": "markdown",
   "metadata": {
    "application/vnd.databricks.v1+cell": {
     "cellMetadata": {
      "byteLimit": 2048000,
      "rowLimit": 10000
     },
     "inputWidgets": {},
     "nuid": "057dfabd-4f1d-4281-b1d4-fa3394fb7a8c",
     "showTitle": false,
     "title": ""
    }
   },
   "source": [
    "<section id=\"section_2b\">\n",
    "    <h3 style=\"text-align: center\">Section 2-B: The <code>customers</code> data</h3>\n",
    "    <h4>Read in the parquet file and store inside a DataFrame called <code>customers_df</code></h4>\n",
    "</section>"
   ]
  },
  {
   "cell_type": "code",
   "execution_count": null,
   "metadata": {
    "application/vnd.databricks.v1+cell": {
     "cellMetadata": {
      "byteLimit": 2048000,
      "rowLimit": 10000
     },
     "inputWidgets": {},
     "nuid": "594bcb93-fbb4-4706-be98-a41115264979",
     "showTitle": false,
     "title": ""
    }
   },
   "outputs": [
    {
     "name": "stdout",
     "output_type": "stream",
     "text": [
      "Customer data loaded successfully.\n"
     ]
    }
   ],
   "source": [
    "customers_df = spark.read.format('parquet')\\\n",
    "                         .options(nullValues='', sep=\",\")\\\n",
    "                         .load(f\"{read_path}{customers}/{customers}.parquet\")\n",
    "\n",
    "logging.info(\"Customer data loaded successfully.\")\n",
    "print(\"Customer data loaded successfully.\")\n",
    "\n",
    "# get columns with NULL values\n",
    "customers_null_columns = {col: customers_df.filter(customers_df[col].isNull()).count() > 0 for col in customers_df.columns}\n",
    "if True in customers_null_columns.values():\n",
    "    na_columns = [col for col in customers_null_columns.keys() if customers_null_columns[col] == True]\n",
    "    na_columns = ', '.join(na_columns)\n",
    "    logging.warning(f\"Detected columns with NA values: {na_columns}\")"
   ]
  },
  {
   "cell_type": "code",
   "execution_count": null,
   "metadata": {
    "application/vnd.databricks.v1+cell": {
     "cellMetadata": {
      "byteLimit": 2048000,
      "rowLimit": 10000
     },
     "inputWidgets": {},
     "nuid": "f57438a9-a4f7-41c8-991a-df037eead4c0",
     "showTitle": false,
     "title": ""
    }
   },
   "outputs": [
    {
     "data": {
      "text/html": [
       "<style scoped>\n",
       "  .table-result-container {\n",
       "    max-height: 300px;\n",
       "    overflow: auto;\n",
       "  }\n",
       "  table, th, td {\n",
       "    border: 1px solid black;\n",
       "    border-collapse: collapse;\n",
       "  }\n",
       "  th, td {\n",
       "    padding: 5px;\n",
       "  }\n",
       "  th {\n",
       "    text-align: left;\n",
       "  }\n",
       "</style><div class='table-result-container'><table class='table-result'><thead style='background-color: white'><tr><th>customer_id</th><th>customer_unique_id</th><th>customer_zip_code_prefix</th><th>customer_city</th><th>customer_state</th></tr></thead><tbody><tr><td>99441</td><td>99441</td><td>99441</td><td>99441</td><td>99441</td></tr></tbody></table></div>"
      ]
     },
     "metadata": {
      "application/vnd.databricks.v1+output": {
       "addedWidgets": {},
       "aggData": [],
       "aggError": "",
       "aggOverflow": false,
       "aggSchema": [],
       "aggSeriesLimitReached": false,
       "aggType": "",
       "arguments": {},
       "columnCustomDisplayInfos": {},
       "data": [
        [
         99441,
         99441,
         99441,
         99441,
         99441
        ]
       ],
       "datasetInfos": [],
       "dbfsResultPath": null,
       "isJsonSchema": true,
       "metadata": {},
       "overflow": false,
       "plotOptions": {
        "customPlotOptions": {},
        "displayType": "table",
        "pivotAggregation": null,
        "pivotColumns": null,
        "xColumns": null,
        "yColumns": null
       },
       "removedWidgets": [],
       "schema": [
        {
         "metadata": "{}",
         "name": "customer_id",
         "type": "\"long\""
        },
        {
         "metadata": "{}",
         "name": "customer_unique_id",
         "type": "\"long\""
        },
        {
         "metadata": "{}",
         "name": "customer_zip_code_prefix",
         "type": "\"long\""
        },
        {
         "metadata": "{}",
         "name": "customer_city",
         "type": "\"long\""
        },
        {
         "metadata": "{}",
         "name": "customer_state",
         "type": "\"long\""
        }
       ],
       "type": "table"
      }
     },
     "output_type": "display_data"
    }
   ],
   "source": [
    "from pyspark.sql.functions import *\n",
    "\n",
    "# prints the number of non-null values in the dataframe\n",
    "display(customers_df.select([count(when(col(c).isNotNull(),c)).alias(c) for c in customers_df.columns]))"
   ]
  },
  {
   "cell_type": "code",
   "execution_count": null,
   "metadata": {
    "application/vnd.databricks.v1+cell": {
     "cellMetadata": {
      "byteLimit": 2048000,
      "rowLimit": 10000
     },
     "inputWidgets": {},
     "nuid": "29678442-ee2e-44d8-8829-d35d47d50dd2",
     "showTitle": false,
     "title": ""
    }
   },
   "outputs": [
    {
     "name": "stdout",
     "output_type": "stream",
     "text": [
      "root\n",
      " |-- customer_id: string (nullable = true)\n",
      " |-- customer_unique_id: string (nullable = true)\n",
      " |-- customer_zip_code_prefix: integer (nullable = true)\n",
      " |-- customer_city: string (nullable = true)\n",
      " |-- customer_state: string (nullable = true)\n",
      "\n"
     ]
    }
   ],
   "source": [
    "customers_df.printSchema()"
   ]
  },
  {
   "cell_type": "code",
   "execution_count": null,
   "metadata": {
    "application/vnd.databricks.v1+cell": {
     "cellMetadata": {
      "byteLimit": 2048000,
      "rowLimit": 10000
     },
     "inputWidgets": {},
     "nuid": "af7d1eb0-1b8b-4976-9d26-5375a88db217",
     "showTitle": false,
     "title": ""
    }
   },
   "outputs": [
    {
     "data": {
      "text/html": [
       "<style scoped>\n",
       "  .table-result-container {\n",
       "    max-height: 300px;\n",
       "    overflow: auto;\n",
       "  }\n",
       "  table, th, td {\n",
       "    border: 1px solid black;\n",
       "    border-collapse: collapse;\n",
       "  }\n",
       "  th, td {\n",
       "    padding: 5px;\n",
       "  }\n",
       "  th {\n",
       "    text-align: left;\n",
       "  }\n",
       "</style><div class='table-result-container'><table class='table-result'><thead style='background-color: white'><tr><th>customer_id</th><th>customer_unique_id</th><th>customer_zip_code_prefix</th><th>customer_city</th><th>customer_state</th></tr></thead><tbody><tr><td>06b8999e2fba1a1fbc88172c00ba8bc7</td><td>861eff4711a542e4b93843c6dd7febb0</td><td>14409</td><td>franca</td><td>SP</td></tr><tr><td>18955e83d337fd6b2def6b18a428ac77</td><td>290c77bc529b7ac935b93aa66c333dc3</td><td>9790</td><td>sao bernardo do campo</td><td>SP</td></tr><tr><td>4e7b3e00288586ebd08712fdd0374a03</td><td>060e732b5b29e8181a18229c7b0b2b5e</td><td>1151</td><td>sao paulo</td><td>SP</td></tr><tr><td>b2b6027bc5c5109e529d4dc6358b12c3</td><td>259dac757896d24d7702b9acbbff3f3c</td><td>8775</td><td>mogi das cruzes</td><td>SP</td></tr><tr><td>4f2d8ab171c80ec8364f7c12e35b23ad</td><td>345ecd01c38d18a9036ed96c73b8d066</td><td>13056</td><td>campinas</td><td>SP</td></tr><tr><td>879864dab9bc3047522c92c82e1212b8</td><td>4c93744516667ad3b8f1fb645a3116a4</td><td>89254</td><td>jaragua do sul</td><td>SC</td></tr><tr><td>fd826e7cf63160e536e0908c76c3f441</td><td>addec96d2e059c80c30fe6871d30d177</td><td>4534</td><td>sao paulo</td><td>SP</td></tr><tr><td>5e274e7a0c3809e14aba7ad5aae0d407</td><td>57b2a98a409812fe9618067b6b8ebe4f</td><td>35182</td><td>timoteo</td><td>MG</td></tr><tr><td>5adf08e34b2e993982a47070956c5c65</td><td>1175e95fb47ddff9de6b2b06188f7e0d</td><td>81560</td><td>curitiba</td><td>PR</td></tr><tr><td>4b7139f34592b3a31687243a302fa75b</td><td>9afe194fb833f79e300e37e580171f22</td><td>30575</td><td>belo horizonte</td><td>MG</td></tr></tbody></table></div>"
      ]
     },
     "metadata": {
      "application/vnd.databricks.v1+output": {
       "addedWidgets": {},
       "aggData": [],
       "aggError": "",
       "aggOverflow": false,
       "aggSchema": [],
       "aggSeriesLimitReached": false,
       "aggType": "",
       "arguments": {},
       "columnCustomDisplayInfos": {},
       "data": [
        [
         "06b8999e2fba1a1fbc88172c00ba8bc7",
         "861eff4711a542e4b93843c6dd7febb0",
         14409,
         "franca",
         "SP"
        ],
        [
         "18955e83d337fd6b2def6b18a428ac77",
         "290c77bc529b7ac935b93aa66c333dc3",
         9790,
         "sao bernardo do campo",
         "SP"
        ],
        [
         "4e7b3e00288586ebd08712fdd0374a03",
         "060e732b5b29e8181a18229c7b0b2b5e",
         1151,
         "sao paulo",
         "SP"
        ],
        [
         "b2b6027bc5c5109e529d4dc6358b12c3",
         "259dac757896d24d7702b9acbbff3f3c",
         8775,
         "mogi das cruzes",
         "SP"
        ],
        [
         "4f2d8ab171c80ec8364f7c12e35b23ad",
         "345ecd01c38d18a9036ed96c73b8d066",
         13056,
         "campinas",
         "SP"
        ],
        [
         "879864dab9bc3047522c92c82e1212b8",
         "4c93744516667ad3b8f1fb645a3116a4",
         89254,
         "jaragua do sul",
         "SC"
        ],
        [
         "fd826e7cf63160e536e0908c76c3f441",
         "addec96d2e059c80c30fe6871d30d177",
         4534,
         "sao paulo",
         "SP"
        ],
        [
         "5e274e7a0c3809e14aba7ad5aae0d407",
         "57b2a98a409812fe9618067b6b8ebe4f",
         35182,
         "timoteo",
         "MG"
        ],
        [
         "5adf08e34b2e993982a47070956c5c65",
         "1175e95fb47ddff9de6b2b06188f7e0d",
         81560,
         "curitiba",
         "PR"
        ],
        [
         "4b7139f34592b3a31687243a302fa75b",
         "9afe194fb833f79e300e37e580171f22",
         30575,
         "belo horizonte",
         "MG"
        ]
       ],
       "datasetInfos": [],
       "dbfsResultPath": null,
       "isJsonSchema": true,
       "metadata": {},
       "overflow": false,
       "plotOptions": {
        "customPlotOptions": {},
        "displayType": "table",
        "pivotAggregation": null,
        "pivotColumns": null,
        "xColumns": null,
        "yColumns": null
       },
       "removedWidgets": [],
       "schema": [
        {
         "metadata": "{}",
         "name": "customer_id",
         "type": "\"string\""
        },
        {
         "metadata": "{}",
         "name": "customer_unique_id",
         "type": "\"string\""
        },
        {
         "metadata": "{}",
         "name": "customer_zip_code_prefix",
         "type": "\"integer\""
        },
        {
         "metadata": "{}",
         "name": "customer_city",
         "type": "\"string\""
        },
        {
         "metadata": "{}",
         "name": "customer_state",
         "type": "\"string\""
        }
       ],
       "type": "table"
      }
     },
     "output_type": "display_data"
    }
   ],
   "source": [
    "display(customers_df.limit(10))"
   ]
  },
  {
   "cell_type": "code",
   "execution_count": null,
   "metadata": {
    "application/vnd.databricks.v1+cell": {
     "cellMetadata": {
      "byteLimit": 2048000,
      "rowLimit": 10000
     },
     "inputWidgets": {},
     "nuid": "7aace8da-04da-4434-b596-6f14475b9c51",
     "showTitle": false,
     "title": ""
    }
   },
   "outputs": [
    {
     "data": {
      "text/plain": [
       "99441"
      ]
     },
     "execution_count": 21,
     "metadata": {},
     "output_type": "execute_result"
    }
   ],
   "source": [
    "before_transform_row_count = customers_df.count()\n",
    "before_transform_row_count"
   ]
  },
  {
   "cell_type": "markdown",
   "metadata": {
    "application/vnd.databricks.v1+cell": {
     "cellMetadata": {
      "byteLimit": 2048000,
      "rowLimit": 10000
     },
     "inputWidgets": {},
     "nuid": "f3d931ed-f387-4920-ba7d-c8690fa39102",
     "showTitle": false,
     "title": ""
    }
   },
   "source": [
    "#### Problems and Possible Improvements:\n",
    "\n",
    "As seen in the outputs from the cells above, there are some things that we needs to be fixed and some improvements that can be done:\n",
    "\n",
    "1. The `customer_city` and `customer_state` columns can be removed from the DataFrame since we can just reference them from `geolocations_df` using `customer_zip_code_prefix`.\n",
    "\n",
    "2. We can rename the `customer_zip_code_prefix` column to `zip_code_prefix` to standardise the naming.\n",
    "\n",
    "3. We need to check if the data under the `zip_code_prefix` column do exist inside the `geolocations_df` DataFrame."
   ]
  },
  {
   "cell_type": "markdown",
   "metadata": {
    "application/vnd.databricks.v1+cell": {
     "cellMetadata": {
      "byteLimit": 2048000,
      "rowLimit": 10000
     },
     "inputWidgets": {},
     "nuid": "f1d9a0aa-3cff-4aaa-9346-c3bfc2dc3fcf",
     "showTitle": false,
     "title": ""
    }
   },
   "source": [
    "#### Find rows where the `zip_code_prefix` does not exist inside the `geolocations_df` DataFrame.\n",
    "\n",
    "From the cell below, we found that there are **278** rows that has `zip_code_prefix` which does not exist inside the `geolocations_df`. \n",
    "\n",
    "What do we do with these so-called invalid `zip_code_prefix` values? \n",
    "\n",
    "We decided to add them into the `geolocations_df` DataFrame so that we don't lose any data from the `customers_df` DataFrame. This will be done later after we collected more invalid `zip_code_prefix` values from the seller data."
   ]
  },
  {
   "cell_type": "code",
   "execution_count": null,
   "metadata": {
    "application/vnd.databricks.v1+cell": {
     "cellMetadata": {
      "byteLimit": 2048000,
      "rowLimit": 10000
     },
     "inputWidgets": {},
     "nuid": "62600112-767c-49e7-b2de-decfbb2ec623",
     "showTitle": false,
     "title": ""
    }
   },
   "outputs": [
    {
     "name": "stdout",
     "output_type": "stream",
     "text": [
      "Number of inconsistent rows: 278\n"
     ]
    },
    {
     "data": {
      "text/html": [
       "<style scoped>\n",
       "  .table-result-container {\n",
       "    max-height: 300px;\n",
       "    overflow: auto;\n",
       "  }\n",
       "  table, th, td {\n",
       "    border: 1px solid black;\n",
       "    border-collapse: collapse;\n",
       "  }\n",
       "  th, td {\n",
       "    padding: 5px;\n",
       "  }\n",
       "  th {\n",
       "    text-align: left;\n",
       "  }\n",
       "</style><div class='table-result-container'><table class='table-result'><thead style='background-color: white'><tr><th>zip_code_prefix</th><th>city</th><th>state</th></tr></thead><tbody><tr><td>72300</td><td>brasilia</td><td>DF</td></tr><tr><td>11547</td><td>cubatao</td><td>SP</td></tr><tr><td>64605</td><td>picos</td><td>PI</td></tr><tr><td>72465</td><td>brasilia</td><td>DF</td></tr><tr><td>7729</td><td>caieiras</td><td>SP</td></tr><tr><td>72904</td><td>santo antonio do descoberto</td><td>GO</td></tr><tr><td>35408</td><td>glaura</td><td>MG</td></tr><tr><td>78554</td><td>sinop</td><td>MT</td></tr><tr><td>73369</td><td>brasilia</td><td>DF</td></tr><tr><td>8980</td><td>nossa senhora do remedio</td><td>SP</td></tr></tbody></table></div>"
      ]
     },
     "metadata": {
      "application/vnd.databricks.v1+output": {
       "addedWidgets": {},
       "aggData": [],
       "aggError": "",
       "aggOverflow": false,
       "aggSchema": [],
       "aggSeriesLimitReached": false,
       "aggType": "",
       "arguments": {},
       "columnCustomDisplayInfos": {},
       "data": [
        [
         72300,
         "brasilia",
         "DF"
        ],
        [
         11547,
         "cubatao",
         "SP"
        ],
        [
         64605,
         "picos",
         "PI"
        ],
        [
         72465,
         "brasilia",
         "DF"
        ],
        [
         7729,
         "caieiras",
         "SP"
        ],
        [
         72904,
         "santo antonio do descoberto",
         "GO"
        ],
        [
         35408,
         "glaura",
         "MG"
        ],
        [
         78554,
         "sinop",
         "MT"
        ],
        [
         73369,
         "brasilia",
         "DF"
        ],
        [
         8980,
         "nossa senhora do remedio",
         "SP"
        ]
       ],
       "datasetInfos": [],
       "dbfsResultPath": null,
       "isJsonSchema": true,
       "metadata": {},
       "overflow": false,
       "plotOptions": {
        "customPlotOptions": {},
        "displayType": "table",
        "pivotAggregation": null,
        "pivotColumns": null,
        "xColumns": null,
        "yColumns": null
       },
       "removedWidgets": [],
       "schema": [
        {
         "metadata": "{}",
         "name": "zip_code_prefix",
         "type": "\"integer\""
        },
        {
         "metadata": "{}",
         "name": "city",
         "type": "\"string\""
        },
        {
         "metadata": "{}",
         "name": "state",
         "type": "\"string\""
        }
       ],
       "type": "table"
      }
     },
     "output_type": "display_data"
    }
   ],
   "source": [
    "# Join customers_df with geolocations_df to find non-matching zip_code_prefix\n",
    "temp_missing_geo = customers_df.join(\n",
    "    geolocations_df,\n",
    "    customers_df['customer_zip_code_prefix'] == geolocations_df['zip_code_prefix'],\n",
    "    'left_anti'\n",
    ")\n",
    "\n",
    "# Rename columns to match geolocations_df\n",
    "temp_missing_geo = temp_missing_geo[['customer_zip_code_prefix', 'customer_city', 'customer_state']]\n",
    "temp_missing_geo = temp_missing_geo.withColumnRenamed('customer_zip_code_prefix', 'zip_code_prefix')\\\n",
    "                                   .withColumnRenamed('customer_city', 'city')\\\n",
    "                                   .withColumnRenamed('customer_state', 'state')\n",
    "# store the rows inside a temporary dataframe\n",
    "inconsistent_rows = temp_missing_geo\n",
    "\n",
    "print(f\"Number of inconsistent rows: {inconsistent_rows.count()}\")\n",
    "display(inconsistent_rows.limit(10))"
   ]
  },
  {
   "cell_type": "markdown",
   "metadata": {
    "application/vnd.databricks.v1+cell": {
     "cellMetadata": {
      "byteLimit": 2048000,
      "rowLimit": 10000
     },
     "inputWidgets": {},
     "nuid": "3ec22f87-8db2-46ad-8b58-d7dfc06d2578",
     "showTitle": false,
     "title": ""
    }
   },
   "source": [
    "#### Remove redundant columns, and rename the `customer_zip_code_prefix` column to `zip_code_prefix`.\n",
    "\n",
    "Since we can reference the `customer_city` and `customer_state` values from `geolocations_df` DataFrame using the `zip_code_prefix`, we can remove those columns from the DataFrame."
   ]
  },
  {
   "cell_type": "code",
   "execution_count": null,
   "metadata": {
    "application/vnd.databricks.v1+cell": {
     "cellMetadata": {
      "byteLimit": 2048000,
      "rowLimit": 10000
     },
     "inputWidgets": {},
     "nuid": "fec37e63-006d-4ee0-a296-a9d6b8d6d3b7",
     "showTitle": false,
     "title": ""
    }
   },
   "outputs": [
    {
     "name": "stdout",
     "output_type": "stream",
     "text": [
      "root\n",
      " |-- customer_id: string (nullable = true)\n",
      " |-- customer_unique_id: string (nullable = true)\n",
      " |-- zip_code_prefix: integer (nullable = true)\n",
      "\n"
     ]
    }
   ],
   "source": [
    "customers_df = customers_df[['customer_id', 'customer_unique_id', 'customer_zip_code_prefix']]\n",
    "\n",
    "customers_df = customers_df.withColumnRenamed('customer_zip_code_prefix', 'zip_code_prefix')\n",
    "\n",
    "customers_df.printSchema()"
   ]
  },
  {
   "cell_type": "markdown",
   "metadata": {
    "application/vnd.databricks.v1+cell": {
     "cellMetadata": {
      "byteLimit": 2048000,
      "rowLimit": 10000
     },
     "inputWidgets": {},
     "nuid": "c12252ac-6888-48cb-a343-0451f438a4be",
     "showTitle": false,
     "title": ""
    }
   },
   "source": [
    "#### As you can see below, no data in `customers_df` is lost during the transformation process."
   ]
  },
  {
   "cell_type": "code",
   "execution_count": null,
   "metadata": {
    "application/vnd.databricks.v1+cell": {
     "cellMetadata": {
      "byteLimit": 2048000,
      "rowLimit": 10000
     },
     "inputWidgets": {},
     "nuid": "e8fd0de5-f0c7-410a-aca1-2d71ac315f4f",
     "showTitle": false,
     "title": ""
    }
   },
   "outputs": [
    {
     "name": "stdout",
     "output_type": "stream",
     "text": [
      "Before transforming: 99441\n",
      "After transforming:  99441\n",
      "Lost records:        0\n"
     ]
    }
   ],
   "source": [
    "print(f\"Before transforming: {before_transform_row_count}\")\n",
    "print(f\"After transforming:  {customers_df.count()}\")\n",
    "print(f\"Lost records:        {before_transform_row_count - customers_df.count()}\")"
   ]
  },
  {
   "cell_type": "markdown",
   "metadata": {
    "application/vnd.databricks.v1+cell": {
     "cellMetadata": {
      "byteLimit": 2048000,
      "rowLimit": 10000
     },
     "inputWidgets": {},
     "nuid": "3b731dc2-a9d1-46f0-80b8-225531f54e5a",
     "showTitle": false,
     "title": ""
    }
   },
   "source": [
    "<section id=\"section_2c\">\n",
    "    <h3 style=\"text-align: center\">Section 2-C: The <code>sellers</code> data</h3>\n",
    "    <h4>Read in the parquet file and store inside a DataFrame called <code>sellers_df</code></h4>\n",
    "</section>"
   ]
  },
  {
   "cell_type": "code",
   "execution_count": null,
   "metadata": {
    "application/vnd.databricks.v1+cell": {
     "cellMetadata": {
      "byteLimit": 2048000,
      "rowLimit": 10000
     },
     "inputWidgets": {},
     "nuid": "8c6bc2df-0f3a-4da1-80b8-17d4c12091be",
     "showTitle": false,
     "title": ""
    }
   },
   "outputs": [
    {
     "name": "stdout",
     "output_type": "stream",
     "text": [
      "Seller data loaded successfully.\n"
     ]
    }
   ],
   "source": [
    "sellers_df = spark.read.format('parquet')\\\n",
    "                       .options(nullValues='', sep=\",\")\\\n",
    "                       .load(f\"{read_path}{sellers}/{sellers}.parquet\")\n",
    "\n",
    "logging.info(\"Seller data loaded successfully.\")\n",
    "print(\"Seller data loaded successfully.\")\n",
    "\n",
    "# get columns with NULL values\n",
    "sellers_null_columns = {col: sellers_df.filter(sellers_df[col].isNull()).count() > 0 for col in sellers_df.columns}\n",
    "if True in sellers_null_columns.values():\n",
    "    na_columns = [col for col in sellers_null_columns.keys() if sellers_null_columns[col] == True]\n",
    "    na_columns = ', '.join(na_columns)\n",
    "    logging.warning(f\"Detected columns with NA values: {na_columns}\")"
   ]
  },
  {
   "cell_type": "code",
   "execution_count": null,
   "metadata": {
    "application/vnd.databricks.v1+cell": {
     "cellMetadata": {
      "byteLimit": 2048000,
      "rowLimit": 10000
     },
     "inputWidgets": {},
     "nuid": "f4db4cef-89c6-4af7-b2fa-8971d8775308",
     "showTitle": false,
     "title": ""
    }
   },
   "outputs": [
    {
     "data": {
      "text/html": [
       "<style scoped>\n",
       "  .table-result-container {\n",
       "    max-height: 300px;\n",
       "    overflow: auto;\n",
       "  }\n",
       "  table, th, td {\n",
       "    border: 1px solid black;\n",
       "    border-collapse: collapse;\n",
       "  }\n",
       "  th, td {\n",
       "    padding: 5px;\n",
       "  }\n",
       "  th {\n",
       "    text-align: left;\n",
       "  }\n",
       "</style><div class='table-result-container'><table class='table-result'><thead style='background-color: white'><tr><th>seller_id</th><th>seller_zip_code_prefix</th><th>seller_city</th><th>seller_state</th></tr></thead><tbody><tr><td>3095</td><td>3095</td><td>3095</td><td>3095</td></tr></tbody></table></div>"
      ]
     },
     "metadata": {
      "application/vnd.databricks.v1+output": {
       "addedWidgets": {},
       "aggData": [],
       "aggError": "",
       "aggOverflow": false,
       "aggSchema": [],
       "aggSeriesLimitReached": false,
       "aggType": "",
       "arguments": {},
       "columnCustomDisplayInfos": {},
       "data": [
        [
         3095,
         3095,
         3095,
         3095
        ]
       ],
       "datasetInfos": [],
       "dbfsResultPath": null,
       "isJsonSchema": true,
       "metadata": {},
       "overflow": false,
       "plotOptions": {
        "customPlotOptions": {},
        "displayType": "table",
        "pivotAggregation": null,
        "pivotColumns": null,
        "xColumns": null,
        "yColumns": null
       },
       "removedWidgets": [],
       "schema": [
        {
         "metadata": "{}",
         "name": "seller_id",
         "type": "\"long\""
        },
        {
         "metadata": "{}",
         "name": "seller_zip_code_prefix",
         "type": "\"long\""
        },
        {
         "metadata": "{}",
         "name": "seller_city",
         "type": "\"long\""
        },
        {
         "metadata": "{}",
         "name": "seller_state",
         "type": "\"long\""
        }
       ],
       "type": "table"
      }
     },
     "output_type": "display_data"
    }
   ],
   "source": [
    "from pyspark.sql.functions import *\n",
    "\n",
    "# prints the number of non-null values in the dataframe\n",
    "display(sellers_df.select([count(when(col(c).isNotNull(), c)).alias(c) for c in sellers_df.columns]))"
   ]
  },
  {
   "cell_type": "code",
   "execution_count": null,
   "metadata": {
    "application/vnd.databricks.v1+cell": {
     "cellMetadata": {
      "byteLimit": 2048000,
      "rowLimit": 10000
     },
     "inputWidgets": {},
     "nuid": "7d7900fd-af0c-43e0-883d-9b7f2d9ef4fd",
     "showTitle": false,
     "title": ""
    }
   },
   "outputs": [
    {
     "name": "stdout",
     "output_type": "stream",
     "text": [
      "root\n",
      " |-- seller_id: string (nullable = true)\n",
      " |-- seller_zip_code_prefix: integer (nullable = true)\n",
      " |-- seller_city: string (nullable = true)\n",
      " |-- seller_state: string (nullable = true)\n",
      "\n"
     ]
    }
   ],
   "source": [
    "sellers_df.printSchema()"
   ]
  },
  {
   "cell_type": "code",
   "execution_count": null,
   "metadata": {
    "application/vnd.databricks.v1+cell": {
     "cellMetadata": {
      "byteLimit": 2048000,
      "rowLimit": 10000
     },
     "inputWidgets": {},
     "nuid": "f9491244-fa68-44f6-8ed4-d6aa61009e71",
     "showTitle": false,
     "title": ""
    }
   },
   "outputs": [
    {
     "data": {
      "text/html": [
       "<style scoped>\n",
       "  .table-result-container {\n",
       "    max-height: 300px;\n",
       "    overflow: auto;\n",
       "  }\n",
       "  table, th, td {\n",
       "    border: 1px solid black;\n",
       "    border-collapse: collapse;\n",
       "  }\n",
       "  th, td {\n",
       "    padding: 5px;\n",
       "  }\n",
       "  th {\n",
       "    text-align: left;\n",
       "  }\n",
       "</style><div class='table-result-container'><table class='table-result'><thead style='background-color: white'><tr><th>seller_id</th><th>seller_zip_code_prefix</th><th>seller_city</th><th>seller_state</th></tr></thead><tbody><tr><td>3442f8959a84dea7ee197c632cb2df15</td><td>13023</td><td>campinas</td><td>SP</td></tr><tr><td>d1b65fc7debc3361ea86b5f14c68d2e2</td><td>13844</td><td>mogi guacu</td><td>SP</td></tr><tr><td>ce3ad9de960102d0677a81f5d0bb7b2d</td><td>20031</td><td>rio de janeiro</td><td>RJ</td></tr><tr><td>c0f3eea2e14555b6faeea3dd58c1b1c3</td><td>4195</td><td>sao paulo</td><td>SP</td></tr><tr><td>51a04a8a6bdcb23deccc82b0b80742cf</td><td>12914</td><td>braganca paulista</td><td>SP</td></tr><tr><td>c240c4061717ac1806ae6ee72be3533b</td><td>20920</td><td>rio de janeiro</td><td>RJ</td></tr><tr><td>e49c26c3edfa46d227d5121a6b6e4d37</td><td>55325</td><td>brejao</td><td>PE</td></tr><tr><td>1b938a7ec6ac5061a66a3766e0e75f90</td><td>16304</td><td>penapolis</td><td>SP</td></tr><tr><td>768a86e36ad6aae3d03ee3c6433d61df</td><td>1529</td><td>sao paulo</td><td>SP</td></tr><tr><td>ccc4bbb5f32a6ab2b7066a4130f114e3</td><td>80310</td><td>curitiba</td><td>PR</td></tr></tbody></table></div>"
      ]
     },
     "metadata": {
      "application/vnd.databricks.v1+output": {
       "addedWidgets": {},
       "aggData": [],
       "aggError": "",
       "aggOverflow": false,
       "aggSchema": [],
       "aggSeriesLimitReached": false,
       "aggType": "",
       "arguments": {},
       "columnCustomDisplayInfos": {},
       "data": [
        [
         "3442f8959a84dea7ee197c632cb2df15",
         13023,
         "campinas",
         "SP"
        ],
        [
         "d1b65fc7debc3361ea86b5f14c68d2e2",
         13844,
         "mogi guacu",
         "SP"
        ],
        [
         "ce3ad9de960102d0677a81f5d0bb7b2d",
         20031,
         "rio de janeiro",
         "RJ"
        ],
        [
         "c0f3eea2e14555b6faeea3dd58c1b1c3",
         4195,
         "sao paulo",
         "SP"
        ],
        [
         "51a04a8a6bdcb23deccc82b0b80742cf",
         12914,
         "braganca paulista",
         "SP"
        ],
        [
         "c240c4061717ac1806ae6ee72be3533b",
         20920,
         "rio de janeiro",
         "RJ"
        ],
        [
         "e49c26c3edfa46d227d5121a6b6e4d37",
         55325,
         "brejao",
         "PE"
        ],
        [
         "1b938a7ec6ac5061a66a3766e0e75f90",
         16304,
         "penapolis",
         "SP"
        ],
        [
         "768a86e36ad6aae3d03ee3c6433d61df",
         1529,
         "sao paulo",
         "SP"
        ],
        [
         "ccc4bbb5f32a6ab2b7066a4130f114e3",
         80310,
         "curitiba",
         "PR"
        ]
       ],
       "datasetInfos": [],
       "dbfsResultPath": null,
       "isJsonSchema": true,
       "metadata": {},
       "overflow": false,
       "plotOptions": {
        "customPlotOptions": {},
        "displayType": "table",
        "pivotAggregation": null,
        "pivotColumns": null,
        "xColumns": null,
        "yColumns": null
       },
       "removedWidgets": [],
       "schema": [
        {
         "metadata": "{}",
         "name": "seller_id",
         "type": "\"string\""
        },
        {
         "metadata": "{}",
         "name": "seller_zip_code_prefix",
         "type": "\"integer\""
        },
        {
         "metadata": "{}",
         "name": "seller_city",
         "type": "\"string\""
        },
        {
         "metadata": "{}",
         "name": "seller_state",
         "type": "\"string\""
        }
       ],
       "type": "table"
      }
     },
     "output_type": "display_data"
    }
   ],
   "source": [
    "display(sellers_df.limit(10))"
   ]
  },
  {
   "cell_type": "code",
   "execution_count": null,
   "metadata": {
    "application/vnd.databricks.v1+cell": {
     "cellMetadata": {
      "byteLimit": 2048000,
      "rowLimit": 10000
     },
     "inputWidgets": {},
     "nuid": "f803e0fb-9cd1-439a-8e6a-d58e06b7b301",
     "showTitle": false,
     "title": ""
    }
   },
   "outputs": [
    {
     "data": {
      "text/plain": [
       "3095"
      ]
     },
     "execution_count": 29,
     "metadata": {},
     "output_type": "execute_result"
    }
   ],
   "source": [
    "before_transform_row_count = sellers_df.count()\n",
    "before_transform_row_count"
   ]
  },
  {
   "cell_type": "markdown",
   "metadata": {
    "application/vnd.databricks.v1+cell": {
     "cellMetadata": {
      "byteLimit": 2048000,
      "rowLimit": 10000
     },
     "inputWidgets": {},
     "nuid": "d57d4341-13fc-43d2-8176-dabd7a6c1cf1",
     "showTitle": false,
     "title": ""
    }
   },
   "source": [
    "#### Problems and Possible Improvements:\n",
    "\n",
    "As seen in the outputs from the cells above, there are some things that we needs to be fixed and some improvements that can be done:\n",
    "\n",
    "1. Just like the `customers_df`, the `seller_city` and `seller_state` columns can be removed from the DataFrame since we can just reference them from `geolocations_df` using `seller_zip_code_prefix`.\n",
    "\n",
    "2. We can rename the `seller_zip_code_prefix` column to `zip_code_prefix` to simplify the name.\n",
    "\n",
    "3. We need to check if the data under the `zip_code_prefix` column do exist inside the `geolocations_df` DataFrame."
   ]
  },
  {
   "cell_type": "markdown",
   "metadata": {
    "application/vnd.databricks.v1+cell": {
     "cellMetadata": {
      "byteLimit": 2048000,
      "rowLimit": 10000
     },
     "inputWidgets": {},
     "nuid": "922b7cf2-1c48-449b-809b-690ea719bd85",
     "showTitle": false,
     "title": ""
    }
   },
   "source": [
    "#### Find rows where the `zip_code_prefix` does not exist inside the `geolocations_df` DataFrame.\n",
    "\n",
    "From the cell below, we found that there are **7** rows that has `zip_code_prefix` which does not exist inside the `geolocations_df`, adding on to the **278** rows from `customers_df`, totalling to **285** rows. \n",
    "\n",
    "What do we do with these so-called invalid `zip_code_prefix` values? \n",
    "\n",
    "Just like what we did in the `customers_df`, we will add them into the `geolocations_df` DataFrame so that we don't lose any data from the `sellers_df` DataFrame. We will do this later."
   ]
  },
  {
   "cell_type": "code",
   "execution_count": null,
   "metadata": {
    "application/vnd.databricks.v1+cell": {
     "cellMetadata": {
      "byteLimit": 2048000,
      "rowLimit": 10000
     },
     "inputWidgets": {},
     "nuid": "59ed45a2-dbd8-4bed-8f03-b42e113c4365",
     "showTitle": false,
     "title": ""
    }
   },
   "outputs": [
    {
     "name": "stdout",
     "output_type": "stream",
     "text": [
      "Number of inconsistent rows: 285\n"
     ]
    },
    {
     "data": {
      "text/html": [
       "<style scoped>\n",
       "  .table-result-container {\n",
       "    max-height: 300px;\n",
       "    overflow: auto;\n",
       "  }\n",
       "  table, th, td {\n",
       "    border: 1px solid black;\n",
       "    border-collapse: collapse;\n",
       "  }\n",
       "  th, td {\n",
       "    padding: 5px;\n",
       "  }\n",
       "  th {\n",
       "    text-align: left;\n",
       "  }\n",
       "</style><div class='table-result-container'><table class='table-result'><thead style='background-color: white'><tr><th>zip_code_prefix</th><th>city</th><th>state</th></tr></thead><tbody><tr><td>72300</td><td>brasilia</td><td>DF</td></tr><tr><td>11547</td><td>cubatao</td><td>SP</td></tr><tr><td>64605</td><td>picos</td><td>PI</td></tr><tr><td>72465</td><td>brasilia</td><td>DF</td></tr><tr><td>7729</td><td>caieiras</td><td>SP</td></tr></tbody></table></div>"
      ]
     },
     "metadata": {
      "application/vnd.databricks.v1+output": {
       "addedWidgets": {},
       "aggData": [],
       "aggError": "",
       "aggOverflow": false,
       "aggSchema": [],
       "aggSeriesLimitReached": false,
       "aggType": "",
       "arguments": {},
       "columnCustomDisplayInfos": {},
       "data": [
        [
         72300,
         "brasilia",
         "DF"
        ],
        [
         11547,
         "cubatao",
         "SP"
        ],
        [
         64605,
         "picos",
         "PI"
        ],
        [
         72465,
         "brasilia",
         "DF"
        ],
        [
         7729,
         "caieiras",
         "SP"
        ]
       ],
       "datasetInfos": [],
       "dbfsResultPath": null,
       "isJsonSchema": true,
       "metadata": {},
       "overflow": false,
       "plotOptions": {
        "customPlotOptions": {},
        "displayType": "table",
        "pivotAggregation": null,
        "pivotColumns": null,
        "xColumns": null,
        "yColumns": null
       },
       "removedWidgets": [],
       "schema": [
        {
         "metadata": "{}",
         "name": "zip_code_prefix",
         "type": "\"integer\""
        },
        {
         "metadata": "{}",
         "name": "city",
         "type": "\"string\""
        },
        {
         "metadata": "{}",
         "name": "state",
         "type": "\"string\""
        }
       ],
       "type": "table"
      }
     },
     "output_type": "display_data"
    }
   ],
   "source": [
    "# Join sellers_df with geolocations_df to find non-matching zip_code_prefix\n",
    "temp_missing_geo = sellers_df.join(\n",
    "    geolocations_df,\n",
    "    sellers_df['seller_zip_code_prefix'] == geolocations_df['zip_code_prefix'],\n",
    "    'left_anti'\n",
    ")\n",
    "\n",
    "# Rename the columns to match the geolocations_df\n",
    "temp_missing_geo = temp_missing_geo[['seller_zip_code_prefix', 'seller_city', 'seller_state']]\n",
    "temp_missing_geo = temp_missing_geo.withColumnRenamed('seller_zip_code_prefix', 'zip_code_prefix')\\\n",
    "                                   .withColumnRenamed('seller_city', 'city')\\\n",
    "                                   .withColumnRenamed('seller_state', 'state')\n",
    "# append the rows to the ones we found from customers_df\n",
    "inconsistent_rows = inconsistent_rows.union(temp_missing_geo)\n",
    "\n",
    "print(f\"Number of inconsistent rows: {inconsistent_rows.count()}\")\n",
    "display(inconsistent_rows.limit(5))"
   ]
  },
  {
   "cell_type": "markdown",
   "metadata": {
    "application/vnd.databricks.v1+cell": {
     "cellMetadata": {
      "byteLimit": 2048000,
      "rowLimit": 10000
     },
     "inputWidgets": {},
     "nuid": "edd2aea0-900f-4022-be81-7a85e52518e5",
     "showTitle": false,
     "title": ""
    }
   },
   "source": [
    "#### Remove redundant columns, and rename the `seller_zip_code_prefix` column to `zip_code_prefix`.\n",
    "\n",
    "Since we can reference the `seller_city` and `seller_state` values from `geolocations_df` DataFrame using the `zip_code_prefix`, we can remove those columns from the DataFrame."
   ]
  },
  {
   "cell_type": "code",
   "execution_count": null,
   "metadata": {
    "application/vnd.databricks.v1+cell": {
     "cellMetadata": {
      "byteLimit": 2048000,
      "rowLimit": 10000
     },
     "inputWidgets": {},
     "nuid": "644be95b-8352-42b9-b4bf-0cd6f64f65b1",
     "showTitle": false,
     "title": ""
    }
   },
   "outputs": [
    {
     "name": "stdout",
     "output_type": "stream",
     "text": [
      "root\n",
      " |-- seller_id: string (nullable = true)\n",
      " |-- zip_code_prefix: integer (nullable = true)\n",
      "\n"
     ]
    }
   ],
   "source": [
    "sellers_df = sellers_df[['seller_id', 'seller_zip_code_prefix']]\n",
    "\n",
    "sellers_df = sellers_df.withColumnRenamed('seller_zip_code_prefix', 'zip_code_prefix')\n",
    "\n",
    "sellers_df.printSchema()"
   ]
  },
  {
   "cell_type": "markdown",
   "metadata": {
    "application/vnd.databricks.v1+cell": {
     "cellMetadata": {
      "byteLimit": 2048000,
      "rowLimit": 10000
     },
     "inputWidgets": {},
     "nuid": "69804539-0d31-4221-a12e-c2ba7f8e9c62",
     "showTitle": false,
     "title": ""
    }
   },
   "source": [
    "#### As you can see below, no data in `sellers_df` is lost during the transformation process."
   ]
  },
  {
   "cell_type": "code",
   "execution_count": null,
   "metadata": {
    "application/vnd.databricks.v1+cell": {
     "cellMetadata": {
      "byteLimit": 2048000,
      "rowLimit": 10000
     },
     "inputWidgets": {},
     "nuid": "cb1012ac-a1e5-4c22-b71b-a7aa29f59f37",
     "showTitle": false,
     "title": ""
    }
   },
   "outputs": [
    {
     "name": "stdout",
     "output_type": "stream",
     "text": [
      "Before cleaning: 3095\n",
      "After cleaning:  3095\n",
      "Lost records:    0\n"
     ]
    }
   ],
   "source": [
    "print(f\"Before cleaning: {before_transform_row_count}\")\n",
    "print(f\"After cleaning:  {sellers_df.count()}\")\n",
    "print(f\"Lost records:    {before_transform_row_count - sellers_df.count()}\")"
   ]
  },
  {
   "cell_type": "markdown",
   "metadata": {
    "application/vnd.databricks.v1+cell": {
     "cellMetadata": {
      "byteLimit": 2048000,
      "rowLimit": 10000
     },
     "inputWidgets": {},
     "nuid": "ab9f57ef-c44c-4c9a-aa66-045f448f09ee",
     "showTitle": false,
     "title": ""
    }
   },
   "source": [
    "<section id=\"section_2d\">\n",
    "    <h3 style=\"text-align: center\">Section 2-D: Appending new <code>geolocation</code> data</h3>\n",
    "    <h4>Prepare new geolocation data for insertion</h4>\n",
    "</section>\n",
    "\n",
    "From the geolocation data we got from the `customers_df` and `sellers_df`, we need to prepare them before inserting into the `geolocations_df`. \n",
    "\n",
    "The preparations include:\n",
    "- Grouping them by the `zip_code_prefix` to only have distinct `zip_code_prefix` values inside the DataFrame\n",
    "- This also means the `city` and `state` needs to aggregated similar to the one we did in the `geolocations_df`\n",
    "- We need to add the `latitude` and `longitude` columns with the `null` values temporarily (the actual values will be calculated later)\n",
    "\n",
    "Only after that, we can insert them into the `geolocations_df` using the `union` function."
   ]
  },
  {
   "cell_type": "code",
   "execution_count": null,
   "metadata": {
    "application/vnd.databricks.v1+cell": {
     "cellMetadata": {
      "byteLimit": 2048000,
      "rowLimit": 10000
     },
     "inputWidgets": {},
     "nuid": "a7e9c46f-4061-4a13-bf6f-5866ec3fd120",
     "showTitle": false,
     "title": ""
    }
   },
   "outputs": [
    {
     "name": "stdout",
     "output_type": "stream",
     "text": [
      "geolocations_df:     19015\n",
      "new geolocation df:  19177\n"
     ]
    }
   ],
   "source": [
    "# Apply the UDF to create a new column 'city_normalized'\n",
    "inconsistent_rows = inconsistent_rows.withColumn('city_normalized', unidecode_udf('city'))\n",
    "\n",
    "# Sort the DataFrame by 'zip_code_prefix', 'city', and 'state' columns in the specified order\n",
    "inconsistent_rows = inconsistent_rows.orderBy(['zip_code_prefix', 'city', 'state'], ascending=[True, False, False])\n",
    "\n",
    "# Create a window partitioned by 'zip_code_prefix' to calculate the most frequent city and state\n",
    "window_spec = Window.partitionBy(\"zip_code_prefix\")\n",
    "\n",
    "# Calculate the most frequent 'city' and 'state' using mode-like functionality\n",
    "df_grouped = inconsistent_rows.withColumn(\n",
    "               \"city_freq\", F.count(\"city_normalized\").over(window_spec)\n",
    "            ).withColumn(\n",
    "               \"state_freq\", F.count(\"state\").over(window_spec)\n",
    "            )\n",
    "\n",
    "# Now, we will group by 'zip_code_prefix' and aggregate city, state\n",
    "new_geo_df = df_grouped.groupBy(\"zip_code_prefix\").agg(\n",
    "                  F.first(F.col(\"city_normalized\")).alias(\"city\"),\n",
    "                  F.first(F.col(\"state\")).alias(\"state\")\n",
    "               )\n",
    "\n",
    "# add the two columns with null values by default\n",
    "new_geo_df = new_geo_df.withColumn(\"latitude\", lit(None))\\\n",
    "                       .withColumn(\"longitude\", lit(None))\n",
    "\n",
    "# insert the data into the geolocations_df and sort the DataFrame by 'zip_code_prefix'\n",
    "temp_df = geolocations_df.union(new_geo_df)\n",
    "temp_df = temp_df.sort(asc(\"zip_code_prefix\"))\n",
    "print(f\"geolocations_df:     {geolocations_df.count()}\")\n",
    "print(f\"new geolocation df:  {temp_df.count()}\")"
   ]
  },
  {
   "cell_type": "markdown",
   "metadata": {
    "application/vnd.databricks.v1+cell": {
     "cellMetadata": {
      "byteLimit": 2048000,
      "rowLimit": 10000
     },
     "inputWidgets": {},
     "nuid": "ea0770c3-918a-4ba6-801d-4b672b3baac7",
     "showTitle": false,
     "title": ""
    }
   },
   "source": [
    "#### Calculating the `latitude` and `longitude` values.\n",
    "\n",
    "To compute the `latitude` and `longitude` values for the new `zip_code_prefix` values, we will use two Window functions:\n",
    "- Average (taking the average of the values from the row before and after the current row)\n",
    "- Lag (taking the value from the row before the previous row)\n",
    "\n",
    "The reason why we do two Window functions is that doing the average window function was not enough. There were still some rows with `null` values so we have to do the lag window function after that."
   ]
  },
  {
   "cell_type": "code",
   "execution_count": null,
   "metadata": {
    "application/vnd.databricks.v1+cell": {
     "cellMetadata": {
      "byteLimit": 2048000,
      "rowLimit": 10000
     },
     "inputWidgets": {},
     "nuid": "f37edbf7-1bb0-412d-aaba-2da5a67bbb50",
     "showTitle": false,
     "title": ""
    }
   },
   "outputs": [
    {
     "data": {
      "text/html": [
       "<style scoped>\n",
       "  .table-result-container {\n",
       "    max-height: 300px;\n",
       "    overflow: auto;\n",
       "  }\n",
       "  table, th, td {\n",
       "    border: 1px solid black;\n",
       "    border-collapse: collapse;\n",
       "  }\n",
       "  th, td {\n",
       "    padding: 5px;\n",
       "  }\n",
       "  th {\n",
       "    text-align: left;\n",
       "  }\n",
       "</style><div class='table-result-container'><table class='table-result'><thead style='background-color: white'><tr><th>zip_code_prefix</th><th>city</th><th>state</th><th>latitude</th><th>longitude</th></tr></thead><tbody><tr><td>1001</td><td>sao paulo</td><td>SP</td><td>-23.5501897765517638076923</td><td>-46.6340235559042036538462</td></tr><tr><td>1002</td><td>sao paulo</td><td>SP</td><td>-23.5481457317635516923077</td><td>-46.6349792107449787692308</td></tr><tr><td>1003</td><td>sao paulo</td><td>SP</td><td>-23.5489937248131581176471</td><td>-46.6357313099758762352941</td></tr><tr><td>1004</td><td>sao paulo</td><td>SP</td><td>-23.5497988422770061363636</td><td>-46.6347569437897066363636</td></tr><tr><td>1005</td><td>sao paulo</td><td>SP</td><td>-23.5494561998307461600000</td><td>-46.6367329480369038400000</td></tr><tr><td>1006</td><td>sao paulo</td><td>SP</td><td>-23.5501018114528693333333</td><td>-46.6361367351741811111111</td></tr><tr><td>1007</td><td>sao paulo</td><td>SP</td><td>-23.5500462023516626153846</td><td>-46.6372514596376456153846</td></tr><tr><td>1008</td><td>sao paulo</td><td>SP</td><td>-23.5460017493834615625000</td><td>-46.6358859213577847500000</td></tr><tr><td>1009</td><td>sao paulo</td><td>SP</td><td>-23.5468352083208656585366</td><td>-46.6364906953122029756098</td></tr><tr><td>1010</td><td>sao paulo</td><td>SP</td><td>-23.5463894383692693333333</td><td>-46.6352260815090511111111</td></tr></tbody></table></div>"
      ]
     },
     "metadata": {
      "application/vnd.databricks.v1+output": {
       "addedWidgets": {},
       "aggData": [],
       "aggError": "",
       "aggOverflow": false,
       "aggSchema": [],
       "aggSeriesLimitReached": false,
       "aggType": "",
       "arguments": {},
       "columnCustomDisplayInfos": {},
       "data": [
        [
         1001,
         "sao paulo",
         "SP",
         "-23.5501897765517638076923",
         "-46.6340235559042036538462"
        ],
        [
         1002,
         "sao paulo",
         "SP",
         "-23.5481457317635516923077",
         "-46.6349792107449787692308"
        ],
        [
         1003,
         "sao paulo",
         "SP",
         "-23.5489937248131581176471",
         "-46.6357313099758762352941"
        ],
        [
         1004,
         "sao paulo",
         "SP",
         "-23.5497988422770061363636",
         "-46.6347569437897066363636"
        ],
        [
         1005,
         "sao paulo",
         "SP",
         "-23.5494561998307461600000",
         "-46.6367329480369038400000"
        ],
        [
         1006,
         "sao paulo",
         "SP",
         "-23.5501018114528693333333",
         "-46.6361367351741811111111"
        ],
        [
         1007,
         "sao paulo",
         "SP",
         "-23.5500462023516626153846",
         "-46.6372514596376456153846"
        ],
        [
         1008,
         "sao paulo",
         "SP",
         "-23.5460017493834615625000",
         "-46.6358859213577847500000"
        ],
        [
         1009,
         "sao paulo",
         "SP",
         "-23.5468352083208656585366",
         "-46.6364906953122029756098"
        ],
        [
         1010,
         "sao paulo",
         "SP",
         "-23.5463894383692693333333",
         "-46.6352260815090511111111"
        ]
       ],
       "datasetInfos": [],
       "dbfsResultPath": null,
       "isJsonSchema": true,
       "metadata": {},
       "overflow": false,
       "plotOptions": {
        "customPlotOptions": {},
        "displayType": "table",
        "pivotAggregation": null,
        "pivotColumns": null,
        "xColumns": null,
        "yColumns": null
       },
       "removedWidgets": [],
       "schema": [
        {
         "metadata": "{}",
         "name": "zip_code_prefix",
         "type": "\"integer\""
        },
        {
         "metadata": "{}",
         "name": "city",
         "type": "\"string\""
        },
        {
         "metadata": "{}",
         "name": "state",
         "type": "\"string\""
        },
        {
         "metadata": "{}",
         "name": "latitude",
         "type": "\"decimal(38,22)\""
        },
        {
         "metadata": "{}",
         "name": "longitude",
         "type": "\"decimal(38,22)\""
        }
       ],
       "type": "table"
      }
     },
     "output_type": "display_data"
    }
   ],
   "source": [
    "# define the window function to include the previous and next rows\n",
    "window_spec = Window.orderBy(\"zip_code_prefix\").rowsBetween(-1, 1)\n",
    "\n",
    "# Fill missing latitude and longitude values with the average of previous and next rows\n",
    "temp_df = temp_df.withColumn(\n",
    "            \"latitude\",\n",
    "            F.coalesce(\"latitude\", F.avg(\"latitude\").over(window_spec))\n",
    "        ).withColumn(\n",
    "            \"longitude\",\n",
    "            F.coalesce(\"longitude\", F.avg(\"longitude\").over(window_spec))\n",
    "        )\n",
    "\n",
    "# define the window function\n",
    "window_spec = Window.orderBy(\"zip_code_prefix\")\n",
    "\n",
    "# Fill missing latitude and longitude values with the previous previous row\n",
    "temp_df = temp_df.withColumn(\n",
    "                \"latitude\",\n",
    "                F.coalesce(\"latitude\", F.lag(\"latitude\", 2).over(window_spec))\n",
    "            ).withColumn(\n",
    "                \"longitude\",\n",
    "                F.coalesce(\"longitude\", F.lag(\"longitude\", 2).over(window_spec))\n",
    "            )\n",
    "\n",
    "# sort the DataFrame by 'zip_code_prefix' and assign back to geolocations_df\n",
    "geolocations_df = temp_df.sort(asc(\"zip_code_prefix\"))\n",
    "display(geolocations_df.limit(10))"
   ]
  },
  {
   "cell_type": "markdown",
   "metadata": {
    "application/vnd.databricks.v1+cell": {
     "cellMetadata": {
      "byteLimit": 2048000,
      "rowLimit": 10000
     },
     "inputWidgets": {},
     "nuid": "41172513-79e1-4d56-b483-1f85372dadae",
     "showTitle": false,
     "title": ""
    }
   },
   "source": [
    "#### Verifying that there are no more `null` values in the `geolocations_df`"
   ]
  },
  {
   "cell_type": "code",
   "execution_count": null,
   "metadata": {
    "application/vnd.databricks.v1+cell": {
     "cellMetadata": {
      "byteLimit": 2048000,
      "rowLimit": 10000
     },
     "inputWidgets": {},
     "nuid": "22fb0de2-152c-4d8d-b476-4003bb9b2b8c",
     "showTitle": false,
     "title": ""
    }
   },
   "outputs": [
    {
     "data": {
      "text/html": [
       "<style scoped>\n",
       "  .table-result-container {\n",
       "    max-height: 300px;\n",
       "    overflow: auto;\n",
       "  }\n",
       "  table, th, td {\n",
       "    border: 1px solid black;\n",
       "    border-collapse: collapse;\n",
       "  }\n",
       "  th, td {\n",
       "    padding: 5px;\n",
       "  }\n",
       "  th {\n",
       "    text-align: left;\n",
       "  }\n",
       "</style><div class='table-result-container'><table class='table-result'><thead style='background-color: white'><tr><th>zip_code_prefix</th><th>city</th><th>state</th><th>latitude</th><th>longitude</th></tr></thead><tbody><tr><td>19177</td><td>19177</td><td>19177</td><td>19177</td><td>19177</td></tr></tbody></table></div>"
      ]
     },
     "metadata": {
      "application/vnd.databricks.v1+output": {
       "addedWidgets": {},
       "aggData": [],
       "aggError": "",
       "aggOverflow": false,
       "aggSchema": [],
       "aggSeriesLimitReached": false,
       "aggType": "",
       "arguments": {},
       "columnCustomDisplayInfos": {},
       "data": [
        [
         19177,
         19177,
         19177,
         19177,
         19177
        ]
       ],
       "datasetInfos": [],
       "dbfsResultPath": null,
       "isJsonSchema": true,
       "metadata": {},
       "overflow": false,
       "plotOptions": {
        "customPlotOptions": {},
        "displayType": "table",
        "pivotAggregation": null,
        "pivotColumns": null,
        "xColumns": null,
        "yColumns": null
       },
       "removedWidgets": [],
       "schema": [
        {
         "metadata": "{}",
         "name": "zip_code_prefix",
         "type": "\"long\""
        },
        {
         "metadata": "{}",
         "name": "city",
         "type": "\"long\""
        },
        {
         "metadata": "{}",
         "name": "state",
         "type": "\"long\""
        },
        {
         "metadata": "{}",
         "name": "latitude",
         "type": "\"long\""
        },
        {
         "metadata": "{}",
         "name": "longitude",
         "type": "\"long\""
        }
       ],
       "type": "table"
      }
     },
     "output_type": "display_data"
    }
   ],
   "source": [
    "from pyspark.sql.functions import *\n",
    "\n",
    "# prints the number of non-null values in the dataframe\n",
    "display(geolocations_df.select([count(when(col(c).isNotNull(), c)).alias(c) for c in geolocations_df.columns]))"
   ]
  },
  {
   "cell_type": "markdown",
   "metadata": {
    "application/vnd.databricks.v1+cell": {
     "cellMetadata": {
      "byteLimit": 2048000,
      "rowLimit": 10000
     },
     "inputWidgets": {},
     "nuid": "33a4e2a0-c1a9-480e-b379-2cb7bd255377",
     "showTitle": false,
     "title": ""
    }
   },
   "source": [
    "<section id=\"section_2e\">\n",
    "    <h3 style=\"text-align: center\">Section 2-E: The <code>orders</code> data</h3>\n",
    "    <h4>Read in the parquet file and store inside a DataFrame called <code>orders_df</code></h4>\n",
    "</section>"
   ]
  },
  {
   "cell_type": "code",
   "execution_count": null,
   "metadata": {
    "application/vnd.databricks.v1+cell": {
     "cellMetadata": {
      "byteLimit": 2048000,
      "rowLimit": 10000
     },
     "inputWidgets": {},
     "nuid": "1dbdfab4-ef84-4a00-98ce-43e3a132e566",
     "showTitle": false,
     "title": ""
    }
   },
   "outputs": [
    {
     "name": "stdout",
     "output_type": "stream",
     "text": [
      "Order data loaded successfully.\n"
     ]
    }
   ],
   "source": [
    "orders_df = spark.read.format('parquet')\\\n",
    "                      .options(nullValues='', sep=\",\")\\\n",
    "                      .load(f\"{read_path}{orders}/{orders}.parquet\")\n",
    "\n",
    "logging.info(\"Order data loaded successfully.\")\n",
    "print(\"Order data loaded successfully.\")\n",
    "\n",
    "# get columns with NULL values\n",
    "orders_null_columns = {col: orders_df.filter(orders_df[col].isNull()).count() > 0 for col in orders_df.columns}\n",
    "if True in orders_null_columns.values():\n",
    "    na_columns = [col for col in orders_null_columns.keys() if orders_null_columns[col] == True]\n",
    "    na_columns = ', '.join(na_columns)\n",
    "    logging.warning(f\"Detected columns with NA values: {na_columns}\")"
   ]
  },
  {
   "cell_type": "code",
   "execution_count": null,
   "metadata": {
    "application/vnd.databricks.v1+cell": {
     "cellMetadata": {
      "byteLimit": 2048000,
      "rowLimit": 10000
     },
     "inputWidgets": {},
     "nuid": "8f737b7a-5078-40a3-9215-4fd5589d6cef",
     "showTitle": false,
     "title": ""
    }
   },
   "outputs": [
    {
     "data": {
      "text/html": [
       "<style scoped>\n",
       "  .table-result-container {\n",
       "    max-height: 300px;\n",
       "    overflow: auto;\n",
       "  }\n",
       "  table, th, td {\n",
       "    border: 1px solid black;\n",
       "    border-collapse: collapse;\n",
       "  }\n",
       "  th, td {\n",
       "    padding: 5px;\n",
       "  }\n",
       "  th {\n",
       "    text-align: left;\n",
       "  }\n",
       "</style><div class='table-result-container'><table class='table-result'><thead style='background-color: white'><tr><th>order_id</th><th>customer_id</th><th>order_status</th><th>order_purchase_timestamp</th><th>order_approved_at</th><th>order_delivered_carrier_date</th><th>order_delivered_customer_date</th><th>order_estimated_delivery_date</th></tr></thead><tbody><tr><td>99441</td><td>99441</td><td>99441</td><td>99441</td><td>99281</td><td>97658</td><td>96476</td><td>99441</td></tr></tbody></table></div>"
      ]
     },
     "metadata": {
      "application/vnd.databricks.v1+output": {
       "addedWidgets": {},
       "aggData": [],
       "aggError": "",
       "aggOverflow": false,
       "aggSchema": [],
       "aggSeriesLimitReached": false,
       "aggType": "",
       "arguments": {},
       "columnCustomDisplayInfos": {},
       "data": [
        [
         99441,
         99441,
         99441,
         99441,
         99281,
         97658,
         96476,
         99441
        ]
       ],
       "datasetInfos": [],
       "dbfsResultPath": null,
       "isJsonSchema": true,
       "metadata": {},
       "overflow": false,
       "plotOptions": {
        "customPlotOptions": {},
        "displayType": "table",
        "pivotAggregation": null,
        "pivotColumns": null,
        "xColumns": null,
        "yColumns": null
       },
       "removedWidgets": [],
       "schema": [
        {
         "metadata": "{}",
         "name": "order_id",
         "type": "\"long\""
        },
        {
         "metadata": "{}",
         "name": "customer_id",
         "type": "\"long\""
        },
        {
         "metadata": "{}",
         "name": "order_status",
         "type": "\"long\""
        },
        {
         "metadata": "{}",
         "name": "order_purchase_timestamp",
         "type": "\"long\""
        },
        {
         "metadata": "{}",
         "name": "order_approved_at",
         "type": "\"long\""
        },
        {
         "metadata": "{}",
         "name": "order_delivered_carrier_date",
         "type": "\"long\""
        },
        {
         "metadata": "{}",
         "name": "order_delivered_customer_date",
         "type": "\"long\""
        },
        {
         "metadata": "{}",
         "name": "order_estimated_delivery_date",
         "type": "\"long\""
        }
       ],
       "type": "table"
      }
     },
     "output_type": "display_data"
    }
   ],
   "source": [
    "from pyspark.sql.functions import *\n",
    "\n",
    "# prints the number of non-null values in the dataframe\n",
    "display(orders_df.select([count(when(col(c).isNotNull(), c)).alias(c) for c in orders_df.columns]))"
   ]
  },
  {
   "cell_type": "code",
   "execution_count": null,
   "metadata": {
    "application/vnd.databricks.v1+cell": {
     "cellMetadata": {
      "byteLimit": 2048000,
      "rowLimit": 10000
     },
     "inputWidgets": {},
     "nuid": "4ec687a7-18aa-4d6f-92b7-7e7646c46f54",
     "showTitle": false,
     "title": ""
    }
   },
   "outputs": [
    {
     "name": "stdout",
     "output_type": "stream",
     "text": [
      "root\n",
      " |-- order_id: string (nullable = true)\n",
      " |-- customer_id: string (nullable = true)\n",
      " |-- order_status: string (nullable = true)\n",
      " |-- order_purchase_timestamp: timestamp (nullable = true)\n",
      " |-- order_approved_at: timestamp (nullable = true)\n",
      " |-- order_delivered_carrier_date: timestamp (nullable = true)\n",
      " |-- order_delivered_customer_date: timestamp (nullable = true)\n",
      " |-- order_estimated_delivery_date: timestamp (nullable = true)\n",
      "\n"
     ]
    }
   ],
   "source": [
    "orders_df.printSchema()"
   ]
  },
  {
   "cell_type": "code",
   "execution_count": null,
   "metadata": {
    "application/vnd.databricks.v1+cell": {
     "cellMetadata": {
      "byteLimit": 2048000,
      "rowLimit": 10000
     },
     "inputWidgets": {},
     "nuid": "e0d32c30-8ef4-4a24-8fd9-1528662b95cc",
     "showTitle": false,
     "title": ""
    }
   },
   "outputs": [
    {
     "data": {
      "text/html": [
       "<style scoped>\n",
       "  .table-result-container {\n",
       "    max-height: 300px;\n",
       "    overflow: auto;\n",
       "  }\n",
       "  table, th, td {\n",
       "    border: 1px solid black;\n",
       "    border-collapse: collapse;\n",
       "  }\n",
       "  th, td {\n",
       "    padding: 5px;\n",
       "  }\n",
       "  th {\n",
       "    text-align: left;\n",
       "  }\n",
       "</style><div class='table-result-container'><table class='table-result'><thead style='background-color: white'><tr><th>order_id</th><th>customer_id</th><th>order_status</th><th>order_purchase_timestamp</th><th>order_approved_at</th><th>order_delivered_carrier_date</th><th>order_delivered_customer_date</th><th>order_estimated_delivery_date</th></tr></thead><tbody><tr><td>e481f51cbdc54678b7cc49136f2d6af7</td><td>9ef432eb6251297304e76186b10a928d</td><td>delivered</td><td>2017-10-02T10:56:33Z</td><td>2017-10-02T11:07:15Z</td><td>2017-10-04T19:55:00Z</td><td>2017-10-10T21:25:13Z</td><td>2017-10-18T00:00:00Z</td></tr><tr><td>53cdb2fc8bc7dce0b6741e2150273451</td><td>b0830fb4747a6c6d20dea0b8c802d7ef</td><td>delivered</td><td>2018-07-24T20:41:37Z</td><td>2018-07-26T03:24:27Z</td><td>2018-07-26T14:31:00Z</td><td>2018-08-07T15:27:45Z</td><td>2018-08-13T00:00:00Z</td></tr><tr><td>47770eb9100c2d0c44946d9cf07ec65d</td><td>41ce2a54c0b03bf3443c3d931a367089</td><td>delivered</td><td>2018-08-08T08:38:49Z</td><td>2018-08-08T08:55:23Z</td><td>2018-08-08T13:50:00Z</td><td>2018-08-17T18:06:29Z</td><td>2018-09-04T00:00:00Z</td></tr><tr><td>949d5b44dbf5de918fe9c16f97b45f8a</td><td>f88197465ea7920adcdbec7375364d82</td><td>delivered</td><td>2017-11-18T19:28:06Z</td><td>2017-11-18T19:45:59Z</td><td>2017-11-22T13:39:59Z</td><td>2017-12-02T00:28:42Z</td><td>2017-12-15T00:00:00Z</td></tr><tr><td>ad21c59c0840e6cb83a9ceb5573f8159</td><td>8ab97904e6daea8866dbdbc4fb7aad2c</td><td>delivered</td><td>2018-02-13T21:18:39Z</td><td>2018-02-13T22:20:29Z</td><td>2018-02-14T19:46:34Z</td><td>2018-02-16T18:17:02Z</td><td>2018-02-26T00:00:00Z</td></tr><tr><td>a4591c265e18cb1dcee52889e2d8acc3</td><td>503740e9ca751ccdda7ba28e9ab8f608</td><td>delivered</td><td>2017-07-09T21:57:05Z</td><td>2017-07-09T22:10:13Z</td><td>2017-07-11T14:58:04Z</td><td>2017-07-26T10:57:55Z</td><td>2017-08-01T00:00:00Z</td></tr><tr><td>136cce7faa42fdb2cefd53fdc79a6098</td><td>ed0271e0b7da060a393796590e7b737a</td><td>invoiced</td><td>2017-04-11T12:22:08Z</td><td>2017-04-13T13:25:17Z</td><td>null</td><td>null</td><td>2017-05-09T00:00:00Z</td></tr><tr><td>6514b8ad8028c9f2cc2374ded245783f</td><td>9bdf08b4b3b52b5526ff42d37d47f222</td><td>delivered</td><td>2017-05-16T13:10:30Z</td><td>2017-05-16T13:22:11Z</td><td>2017-05-22T10:07:46Z</td><td>2017-05-26T12:55:51Z</td><td>2017-06-07T00:00:00Z</td></tr><tr><td>76c6e866289321a7c93b82b54852dc33</td><td>f54a9f0e6b351c431402b8461ea51999</td><td>delivered</td><td>2017-01-23T18:29:09Z</td><td>2017-01-25T02:50:47Z</td><td>2017-01-26T14:16:31Z</td><td>2017-02-02T14:08:10Z</td><td>2017-03-06T00:00:00Z</td></tr><tr><td>e69bfb5eb88e0ed6a785585b27e16dbf</td><td>31ad1d1b63eb9962463f764d4e6e0c9d</td><td>delivered</td><td>2017-07-29T11:55:02Z</td><td>2017-07-29T12:05:32Z</td><td>2017-08-10T19:45:24Z</td><td>2017-08-16T17:14:30Z</td><td>2017-08-23T00:00:00Z</td></tr></tbody></table></div>"
      ]
     },
     "metadata": {
      "application/vnd.databricks.v1+output": {
       "addedWidgets": {},
       "aggData": [],
       "aggError": "",
       "aggOverflow": false,
       "aggSchema": [],
       "aggSeriesLimitReached": false,
       "aggType": "",
       "arguments": {},
       "columnCustomDisplayInfos": {},
       "data": [
        [
         "e481f51cbdc54678b7cc49136f2d6af7",
         "9ef432eb6251297304e76186b10a928d",
         "delivered",
         "2017-10-02T10:56:33Z",
         "2017-10-02T11:07:15Z",
         "2017-10-04T19:55:00Z",
         "2017-10-10T21:25:13Z",
         "2017-10-18T00:00:00Z"
        ],
        [
         "53cdb2fc8bc7dce0b6741e2150273451",
         "b0830fb4747a6c6d20dea0b8c802d7ef",
         "delivered",
         "2018-07-24T20:41:37Z",
         "2018-07-26T03:24:27Z",
         "2018-07-26T14:31:00Z",
         "2018-08-07T15:27:45Z",
         "2018-08-13T00:00:00Z"
        ],
        [
         "47770eb9100c2d0c44946d9cf07ec65d",
         "41ce2a54c0b03bf3443c3d931a367089",
         "delivered",
         "2018-08-08T08:38:49Z",
         "2018-08-08T08:55:23Z",
         "2018-08-08T13:50:00Z",
         "2018-08-17T18:06:29Z",
         "2018-09-04T00:00:00Z"
        ],
        [
         "949d5b44dbf5de918fe9c16f97b45f8a",
         "f88197465ea7920adcdbec7375364d82",
         "delivered",
         "2017-11-18T19:28:06Z",
         "2017-11-18T19:45:59Z",
         "2017-11-22T13:39:59Z",
         "2017-12-02T00:28:42Z",
         "2017-12-15T00:00:00Z"
        ],
        [
         "ad21c59c0840e6cb83a9ceb5573f8159",
         "8ab97904e6daea8866dbdbc4fb7aad2c",
         "delivered",
         "2018-02-13T21:18:39Z",
         "2018-02-13T22:20:29Z",
         "2018-02-14T19:46:34Z",
         "2018-02-16T18:17:02Z",
         "2018-02-26T00:00:00Z"
        ],
        [
         "a4591c265e18cb1dcee52889e2d8acc3",
         "503740e9ca751ccdda7ba28e9ab8f608",
         "delivered",
         "2017-07-09T21:57:05Z",
         "2017-07-09T22:10:13Z",
         "2017-07-11T14:58:04Z",
         "2017-07-26T10:57:55Z",
         "2017-08-01T00:00:00Z"
        ],
        [
         "136cce7faa42fdb2cefd53fdc79a6098",
         "ed0271e0b7da060a393796590e7b737a",
         "invoiced",
         "2017-04-11T12:22:08Z",
         "2017-04-13T13:25:17Z",
         null,
         null,
         "2017-05-09T00:00:00Z"
        ],
        [
         "6514b8ad8028c9f2cc2374ded245783f",
         "9bdf08b4b3b52b5526ff42d37d47f222",
         "delivered",
         "2017-05-16T13:10:30Z",
         "2017-05-16T13:22:11Z",
         "2017-05-22T10:07:46Z",
         "2017-05-26T12:55:51Z",
         "2017-06-07T00:00:00Z"
        ],
        [
         "76c6e866289321a7c93b82b54852dc33",
         "f54a9f0e6b351c431402b8461ea51999",
         "delivered",
         "2017-01-23T18:29:09Z",
         "2017-01-25T02:50:47Z",
         "2017-01-26T14:16:31Z",
         "2017-02-02T14:08:10Z",
         "2017-03-06T00:00:00Z"
        ],
        [
         "e69bfb5eb88e0ed6a785585b27e16dbf",
         "31ad1d1b63eb9962463f764d4e6e0c9d",
         "delivered",
         "2017-07-29T11:55:02Z",
         "2017-07-29T12:05:32Z",
         "2017-08-10T19:45:24Z",
         "2017-08-16T17:14:30Z",
         "2017-08-23T00:00:00Z"
        ]
       ],
       "datasetInfos": [],
       "dbfsResultPath": null,
       "isJsonSchema": true,
       "metadata": {},
       "overflow": false,
       "plotOptions": {
        "customPlotOptions": {},
        "displayType": "table",
        "pivotAggregation": null,
        "pivotColumns": null,
        "xColumns": null,
        "yColumns": null
       },
       "removedWidgets": [],
       "schema": [
        {
         "metadata": "{}",
         "name": "order_id",
         "type": "\"string\""
        },
        {
         "metadata": "{}",
         "name": "customer_id",
         "type": "\"string\""
        },
        {
         "metadata": "{}",
         "name": "order_status",
         "type": "\"string\""
        },
        {
         "metadata": "{}",
         "name": "order_purchase_timestamp",
         "type": "\"timestamp\""
        },
        {
         "metadata": "{}",
         "name": "order_approved_at",
         "type": "\"timestamp\""
        },
        {
         "metadata": "{}",
         "name": "order_delivered_carrier_date",
         "type": "\"timestamp\""
        },
        {
         "metadata": "{}",
         "name": "order_delivered_customer_date",
         "type": "\"timestamp\""
        },
        {
         "metadata": "{}",
         "name": "order_estimated_delivery_date",
         "type": "\"timestamp\""
        }
       ],
       "type": "table"
      }
     },
     "output_type": "display_data"
    }
   ],
   "source": [
    "display(orders_df.limit(10))"
   ]
  },
  {
   "cell_type": "code",
   "execution_count": null,
   "metadata": {
    "application/vnd.databricks.v1+cell": {
     "cellMetadata": {
      "byteLimit": 2048000,
      "rowLimit": 10000
     },
     "inputWidgets": {},
     "nuid": "3e46ad79-ab42-4913-b969-e176240936aa",
     "showTitle": false,
     "title": ""
    }
   },
   "outputs": [
    {
     "data": {
      "text/plain": [
       "99441"
      ]
     },
     "execution_count": 40,
     "metadata": {},
     "output_type": "execute_result"
    }
   ],
   "source": [
    "before_transform_row_count = orders_df.count()\n",
    "before_transform_row_count"
   ]
  },
  {
   "cell_type": "markdown",
   "metadata": {
    "application/vnd.databricks.v1+cell": {
     "cellMetadata": {
      "byteLimit": 2048000,
      "rowLimit": 10000
     },
     "inputWidgets": {},
     "nuid": "11cc5ffa-4ad1-4cf9-945a-eef480abc4c0",
     "showTitle": false,
     "title": ""
    }
   },
   "source": [
    "#### Problems and Possible Improvements:\n",
    "\n",
    "As seen in the outputs from the cells above, there are some things that we needs to be fixed and some improvements that can be done:\n",
    "\n",
    "1. We need to change the data type of the `order_estimated_delivery_date` column. Judging from the data, we need to convert them into the Date data type.\n",
    "\n",
    "2. We need to check if the data under the `customer_id` column do exist inside the `customers_df` DataFrame."
   ]
  },
  {
   "cell_type": "markdown",
   "metadata": {
    "application/vnd.databricks.v1+cell": {
     "cellMetadata": {
      "byteLimit": 2048000,
      "rowLimit": 10000
     },
     "inputWidgets": {},
     "nuid": "98d4c59c-914f-4893-9e46-2ce56540b476",
     "showTitle": false,
     "title": ""
    }
   },
   "source": [
    "#### Change the data type of the `order_estimated_delivery_date` column to `DateType()`."
   ]
  },
  {
   "cell_type": "code",
   "execution_count": null,
   "metadata": {
    "application/vnd.databricks.v1+cell": {
     "cellMetadata": {
      "byteLimit": 2048000,
      "rowLimit": 10000
     },
     "inputWidgets": {},
     "nuid": "b46542a0-6c4e-4bdc-bf70-60a81ee53a9b",
     "showTitle": false,
     "title": ""
    }
   },
   "outputs": [
    {
     "name": "stdout",
     "output_type": "stream",
     "text": [
      "root\n",
      " |-- order_id: string (nullable = true)\n",
      " |-- customer_id: string (nullable = true)\n",
      " |-- order_status: string (nullable = true)\n",
      " |-- order_purchase_timestamp: timestamp (nullable = true)\n",
      " |-- order_approved_at: timestamp (nullable = true)\n",
      " |-- order_delivered_carrier_date: timestamp (nullable = true)\n",
      " |-- order_delivered_customer_date: timestamp (nullable = true)\n",
      " |-- order_estimated_delivery_date: date (nullable = true)\n",
      "\n"
     ]
    }
   ],
   "source": [
    "orders_df = orders_df.withColumn(\n",
    "    \"order_estimated_delivery_date\", \n",
    "    orders_df[\"order_estimated_delivery_date\"].cast(DateType())\n",
    ")\n",
    "\n",
    "orders_df.printSchema()"
   ]
  },
  {
   "cell_type": "markdown",
   "metadata": {
    "application/vnd.databricks.v1+cell": {
     "cellMetadata": {
      "byteLimit": 2048000,
      "rowLimit": 10000
     },
     "inputWidgets": {},
     "nuid": "c0e611b8-9209-479d-9277-c9d393bd60f1",
     "showTitle": false,
     "title": ""
    }
   },
   "source": [
    "#### Find rows where the `customer_id` does not exist inside the `customers_df` DataFrame.\n",
    "\n",
    "Fortunately, from the cell below, we found that there are no invalid `customer_id`."
   ]
  },
  {
   "cell_type": "code",
   "execution_count": null,
   "metadata": {
    "application/vnd.databricks.v1+cell": {
     "cellMetadata": {
      "byteLimit": 2048000,
      "rowLimit": 10000
     },
     "inputWidgets": {},
     "nuid": "9ae32fc8-5db0-4674-858a-ad4d56ceb602",
     "showTitle": false,
     "title": ""
    }
   },
   "outputs": [
    {
     "name": "stdout",
     "output_type": "stream",
     "text": [
      "Number of inconsistent rows: 0\n"
     ]
    },
    {
     "data": {
      "text/html": [
       "<style scoped>\n",
       "  .table-result-container {\n",
       "    max-height: 300px;\n",
       "    overflow: auto;\n",
       "  }\n",
       "  table, th, td {\n",
       "    border: 1px solid black;\n",
       "    border-collapse: collapse;\n",
       "  }\n",
       "  th, td {\n",
       "    padding: 5px;\n",
       "  }\n",
       "  th {\n",
       "    text-align: left;\n",
       "  }\n",
       "</style><div class='table-result-container'><table class='table-result'><thead style='background-color: white'><tr><th>order_id</th><th>customer_id</th><th>order_status</th><th>order_purchase_timestamp</th><th>order_approved_at</th><th>order_delivered_carrier_date</th><th>order_delivered_customer_date</th><th>order_estimated_delivery_date</th></tr></thead><tbody></tbody></table></div>"
      ]
     },
     "metadata": {
      "application/vnd.databricks.v1+output": {
       "addedWidgets": {},
       "aggData": [],
       "aggError": "",
       "aggOverflow": false,
       "aggSchema": [],
       "aggSeriesLimitReached": false,
       "aggType": "",
       "arguments": {},
       "columnCustomDisplayInfos": {},
       "data": [],
       "datasetInfos": [],
       "dbfsResultPath": null,
       "isJsonSchema": true,
       "metadata": {},
       "overflow": false,
       "plotOptions": {
        "customPlotOptions": {},
        "displayType": "table",
        "pivotAggregation": null,
        "pivotColumns": null,
        "xColumns": null,
        "yColumns": null
       },
       "removedWidgets": [],
       "schema": [
        {
         "metadata": "{}",
         "name": "order_id",
         "type": "\"string\""
        },
        {
         "metadata": "{}",
         "name": "customer_id",
         "type": "\"string\""
        },
        {
         "metadata": "{}",
         "name": "order_status",
         "type": "\"string\""
        },
        {
         "metadata": "{}",
         "name": "order_purchase_timestamp",
         "type": "\"timestamp\""
        },
        {
         "metadata": "{}",
         "name": "order_approved_at",
         "type": "\"timestamp\""
        },
        {
         "metadata": "{}",
         "name": "order_delivered_carrier_date",
         "type": "\"timestamp\""
        },
        {
         "metadata": "{}",
         "name": "order_delivered_customer_date",
         "type": "\"timestamp\""
        },
        {
         "metadata": "{}",
         "name": "order_estimated_delivery_date",
         "type": "\"date\""
        }
       ],
       "type": "table"
      }
     },
     "output_type": "display_data"
    }
   ],
   "source": [
    "# Join orders_df with customers_df to find non-matching customer_id\n",
    "inconsistent_rows = orders_df.join(\n",
    "    customers_df,\n",
    "    orders_df['customer_id'] == customers_df['customer_id'],\n",
    "    'left_anti'\n",
    ")\n",
    "\n",
    "print(f\"Number of inconsistent rows: {inconsistent_rows.count()}\")\n",
    "display(inconsistent_rows)"
   ]
  },
  {
   "cell_type": "markdown",
   "metadata": {
    "application/vnd.databricks.v1+cell": {
     "cellMetadata": {
      "byteLimit": 2048000,
      "rowLimit": 10000
     },
     "inputWidgets": {},
     "nuid": "2bfed710-35fa-4f59-93a1-01051fc428ae",
     "showTitle": false,
     "title": ""
    }
   },
   "source": [
    "#### As you can see below, no data in `orders_df` is lost during the transformation process."
   ]
  },
  {
   "cell_type": "code",
   "execution_count": null,
   "metadata": {
    "application/vnd.databricks.v1+cell": {
     "cellMetadata": {
      "byteLimit": 2048000,
      "rowLimit": 10000
     },
     "inputWidgets": {},
     "nuid": "8b04f8bc-3a62-49a2-860b-c149ca9889a1",
     "showTitle": false,
     "title": ""
    }
   },
   "outputs": [
    {
     "name": "stdout",
     "output_type": "stream",
     "text": [
      "Before cleaning: 99441\n",
      "After cleaning:  99441\n",
      "Lost records:    0\n"
     ]
    }
   ],
   "source": [
    "print(f\"Before cleaning: {before_transform_row_count}\")\n",
    "print(f\"After cleaning:  {orders_df.count()}\")\n",
    "print(f\"Lost records:    {before_transform_row_count - orders_df.count()}\")"
   ]
  },
  {
   "cell_type": "markdown",
   "metadata": {
    "application/vnd.databricks.v1+cell": {
     "cellMetadata": {
      "byteLimit": 2048000,
      "rowLimit": 10000
     },
     "inputWidgets": {},
     "nuid": "062bdadd-651f-4442-ad82-56c91cc165cf",
     "showTitle": false,
     "title": ""
    }
   },
   "source": [
    "<section id=\"section_2f\">\n",
    "    <h3 style=\"text-align: center\">Section 2-F: The <code>product_category_name_translation</code> data</h3>\n",
    "    <h4>Read in the parquet file and store inside a DataFrame called <code>product_categories_df</code></h4>\n",
    "</section>"
   ]
  },
  {
   "cell_type": "code",
   "execution_count": null,
   "metadata": {
    "application/vnd.databricks.v1+cell": {
     "cellMetadata": {
      "byteLimit": 2048000,
      "rowLimit": 10000
     },
     "inputWidgets": {},
     "nuid": "e16dc9c7-5109-4ff5-a0c9-f5eaf4867a71",
     "showTitle": false,
     "title": ""
    }
   },
   "outputs": [
    {
     "name": "stdout",
     "output_type": "stream",
     "text": [
      "Product category data loaded successfully.\n"
     ]
    }
   ],
   "source": [
    "product_categories_df = spark.read.format('parquet')\\\n",
    "                                  .options(nullValues='', sep=\",\")\\\n",
    "                                  .load(f\"{read_path}{product_category_name_translations}/{product_category_name_translations}.parquet\")\n",
    "\n",
    "logging.info(\"Product category data loaded successfully.\")\n",
    "print(\"Product category data loaded successfully.\")\n",
    "\n",
    "# get columns with NULL values\n",
    "product_categories_null_columns = {col: product_categories_df.filter(product_categories_df[col].isNull()).count() > 0 for col in product_categories_df.columns}\n",
    "if True in product_categories_null_columns.values():\n",
    "    na_columns = [col for col in product_categories_null_columns.keys() if product_categories_null_columns[col] == True]\n",
    "    na_columns = ', '.join(na_columns)\n",
    "    logging.warning(f\"Detected columns with NA values: {na_columns}\")"
   ]
  },
  {
   "cell_type": "code",
   "execution_count": null,
   "metadata": {
    "application/vnd.databricks.v1+cell": {
     "cellMetadata": {
      "byteLimit": 2048000,
      "rowLimit": 10000
     },
     "inputWidgets": {},
     "nuid": "a8ec3b03-0f2e-4499-8129-b370f9693a4b",
     "showTitle": false,
     "title": ""
    }
   },
   "outputs": [
    {
     "data": {
      "text/html": [
       "<style scoped>\n",
       "  .table-result-container {\n",
       "    max-height: 300px;\n",
       "    overflow: auto;\n",
       "  }\n",
       "  table, th, td {\n",
       "    border: 1px solid black;\n",
       "    border-collapse: collapse;\n",
       "  }\n",
       "  th, td {\n",
       "    padding: 5px;\n",
       "  }\n",
       "  th {\n",
       "    text-align: left;\n",
       "  }\n",
       "</style><div class='table-result-container'><table class='table-result'><thead style='background-color: white'><tr><th>product_category_name</th><th>product_category_name_english</th></tr></thead><tbody><tr><td>71</td><td>71</td></tr></tbody></table></div>"
      ]
     },
     "metadata": {
      "application/vnd.databricks.v1+output": {
       "addedWidgets": {},
       "aggData": [],
       "aggError": "",
       "aggOverflow": false,
       "aggSchema": [],
       "aggSeriesLimitReached": false,
       "aggType": "",
       "arguments": {},
       "columnCustomDisplayInfos": {},
       "data": [
        [
         71,
         71
        ]
       ],
       "datasetInfos": [],
       "dbfsResultPath": null,
       "isJsonSchema": true,
       "metadata": {},
       "overflow": false,
       "plotOptions": {
        "customPlotOptions": {},
        "displayType": "table",
        "pivotAggregation": null,
        "pivotColumns": null,
        "xColumns": null,
        "yColumns": null
       },
       "removedWidgets": [],
       "schema": [
        {
         "metadata": "{}",
         "name": "product_category_name",
         "type": "\"long\""
        },
        {
         "metadata": "{}",
         "name": "product_category_name_english",
         "type": "\"long\""
        }
       ],
       "type": "table"
      }
     },
     "output_type": "display_data"
    }
   ],
   "source": [
    "from pyspark.sql.functions import *\n",
    "\n",
    "# prints the number of non-null values in the dataframe\n",
    "display(product_categories_df.select([count(when(col(c).isNotNull(), c)).alias(c) for c in product_categories_df.columns]))"
   ]
  },
  {
   "cell_type": "code",
   "execution_count": null,
   "metadata": {
    "application/vnd.databricks.v1+cell": {
     "cellMetadata": {
      "byteLimit": 2048000,
      "rowLimit": 10000
     },
     "inputWidgets": {},
     "nuid": "4728ff16-cee0-4822-8ea7-b031e9db19c8",
     "showTitle": false,
     "title": ""
    }
   },
   "outputs": [
    {
     "name": "stdout",
     "output_type": "stream",
     "text": [
      "root\n",
      " |-- product_category_name: string (nullable = true)\n",
      " |-- product_category_name_english: string (nullable = true)\n",
      "\n"
     ]
    }
   ],
   "source": [
    "product_categories_df.printSchema()"
   ]
  },
  {
   "cell_type": "code",
   "execution_count": null,
   "metadata": {
    "application/vnd.databricks.v1+cell": {
     "cellMetadata": {
      "byteLimit": 2048000,
      "rowLimit": 10000
     },
     "inputWidgets": {},
     "nuid": "ebd6c9cf-b898-4a30-ad7e-afd3ecfcd893",
     "showTitle": false,
     "title": ""
    }
   },
   "outputs": [
    {
     "data": {
      "text/html": [
       "<style scoped>\n",
       "  .table-result-container {\n",
       "    max-height: 300px;\n",
       "    overflow: auto;\n",
       "  }\n",
       "  table, th, td {\n",
       "    border: 1px solid black;\n",
       "    border-collapse: collapse;\n",
       "  }\n",
       "  th, td {\n",
       "    padding: 5px;\n",
       "  }\n",
       "  th {\n",
       "    text-align: left;\n",
       "  }\n",
       "</style><div class='table-result-container'><table class='table-result'><thead style='background-color: white'><tr><th>product_category_name</th><th>product_category_name_english</th></tr></thead><tbody><tr><td>fashion_roupa_infanto_juvenil</td><td>fashion_childrens_clothes</td></tr><tr><td>fashion_bolsas_e_acessorios</td><td>fashion_bags_accessories</td></tr><tr><td>fashion_roupa_feminina</td><td>fashio_female_clothing</td></tr><tr><td>eletronicos</td><td>electronics</td></tr><tr><td>dvds_blu_ray</td><td>dvds_blu_ray</td></tr><tr><td>bebidas</td><td>drinks</td></tr><tr><td>fraldas_higiene</td><td>diapers_and_hygiene</td></tr><tr><td>construcao_ferramentas_ferramentas</td><td>costruction_tools_tools</td></tr><tr><td>construcao_ferramentas_jardim</td><td>costruction_tools_garden</td></tr><tr><td>cool_stuff</td><td>cool_stuff</td></tr></tbody></table></div>"
      ]
     },
     "metadata": {
      "application/vnd.databricks.v1+output": {
       "addedWidgets": {},
       "aggData": [],
       "aggError": "",
       "aggOverflow": false,
       "aggSchema": [],
       "aggSeriesLimitReached": false,
       "aggType": "",
       "arguments": {},
       "columnCustomDisplayInfos": {},
       "data": [
        [
         "fashion_roupa_infanto_juvenil",
         "fashion_childrens_clothes"
        ],
        [
         "fashion_bolsas_e_acessorios",
         "fashion_bags_accessories"
        ],
        [
         "fashion_roupa_feminina",
         "fashio_female_clothing"
        ],
        [
         "eletronicos",
         "electronics"
        ],
        [
         "dvds_blu_ray",
         "dvds_blu_ray"
        ],
        [
         "bebidas",
         "drinks"
        ],
        [
         "fraldas_higiene",
         "diapers_and_hygiene"
        ],
        [
         "construcao_ferramentas_ferramentas",
         "costruction_tools_tools"
        ],
        [
         "construcao_ferramentas_jardim",
         "costruction_tools_garden"
        ],
        [
         "cool_stuff",
         "cool_stuff"
        ]
       ],
       "datasetInfos": [],
       "dbfsResultPath": null,
       "isJsonSchema": true,
       "metadata": {},
       "overflow": false,
       "plotOptions": {
        "customPlotOptions": {},
        "displayType": "table",
        "pivotAggregation": null,
        "pivotColumns": null,
        "xColumns": null,
        "yColumns": null
       },
       "removedWidgets": [],
       "schema": [
        {
         "metadata": "{}",
         "name": "product_category_name",
         "type": "\"string\""
        },
        {
         "metadata": "{}",
         "name": "product_category_name_english",
         "type": "\"string\""
        }
       ],
       "type": "table"
      }
     },
     "output_type": "display_data"
    }
   ],
   "source": [
    "temp_prod_cat = product_categories_df.sort(asc('product_category_name_english')).limit(30)\n",
    "display(temp_prod_cat.sort(desc('product_category_name_english')).limit(10))"
   ]
  },
  {
   "cell_type": "markdown",
   "metadata": {
    "application/vnd.databricks.v1+cell": {
     "cellMetadata": {
      "byteLimit": 2048000,
      "rowLimit": 10000
     },
     "inputWidgets": {},
     "nuid": "07ef5d21-7f98-438c-8eb1-395a2358dd66",
     "showTitle": false,
     "title": ""
    }
   },
   "source": [
    "#### Problems and Possible Improvements:\n",
    "\n",
    "As seen in the outputs from the cells above, there are some things that we needs to be fixed and some improvements that can be done:\n",
    "\n",
    "1. We need to remove the `_` underscore from the string values in the dataset.\n",
    "\n",
    "2. As you can see in the output of the DataFrame above, some of the English words are misspelled so we need to rectify the spelling."
   ]
  },
  {
   "cell_type": "markdown",
   "metadata": {
    "application/vnd.databricks.v1+cell": {
     "cellMetadata": {
      "byteLimit": 2048000,
      "rowLimit": 10000
     },
     "inputWidgets": {},
     "nuid": "217f4c19-1984-4510-86b1-f10d34e062ac",
     "showTitle": false,
     "title": ""
    }
   },
   "source": [
    "#### Remove the `_` underscore from the string values."
   ]
  },
  {
   "cell_type": "code",
   "execution_count": null,
   "metadata": {
    "application/vnd.databricks.v1+cell": {
     "cellMetadata": {
      "byteLimit": 2048000,
      "rowLimit": 10000
     },
     "inputWidgets": {},
     "nuid": "c4c52ec7-d7d3-4641-a1a9-b229ae39bf72",
     "showTitle": false,
     "title": ""
    }
   },
   "outputs": [
    {
     "data": {
      "text/html": [
       "<style scoped>\n",
       "  .table-result-container {\n",
       "    max-height: 300px;\n",
       "    overflow: auto;\n",
       "  }\n",
       "  table, th, td {\n",
       "    border: 1px solid black;\n",
       "    border-collapse: collapse;\n",
       "  }\n",
       "  th, td {\n",
       "    padding: 5px;\n",
       "  }\n",
       "  th {\n",
       "    text-align: left;\n",
       "  }\n",
       "</style><div class='table-result-container'><table class='table-result'><thead style='background-color: white'><tr><th>product_category_name</th><th>product_category_name_english</th></tr></thead><tbody><tr><td>beleza saude</td><td>health beauty</td></tr><tr><td>informatica acessorios</td><td>computers accessories</td></tr><tr><td>automotivo</td><td>auto</td></tr><tr><td>cama mesa banho</td><td>bed bath table</td></tr><tr><td>moveis decoracao</td><td>furniture decor</td></tr></tbody></table></div>"
      ]
     },
     "metadata": {
      "application/vnd.databricks.v1+output": {
       "addedWidgets": {},
       "aggData": [],
       "aggError": "",
       "aggOverflow": false,
       "aggSchema": [],
       "aggSeriesLimitReached": false,
       "aggType": "",
       "arguments": {},
       "columnCustomDisplayInfos": {},
       "data": [
        [
         "beleza saude",
         "health beauty"
        ],
        [
         "informatica acessorios",
         "computers accessories"
        ],
        [
         "automotivo",
         "auto"
        ],
        [
         "cama mesa banho",
         "bed bath table"
        ],
        [
         "moveis decoracao",
         "furniture decor"
        ]
       ],
       "datasetInfos": [],
       "dbfsResultPath": null,
       "isJsonSchema": true,
       "metadata": {},
       "overflow": false,
       "plotOptions": {
        "customPlotOptions": {},
        "displayType": "table",
        "pivotAggregation": null,
        "pivotColumns": null,
        "xColumns": null,
        "yColumns": null
       },
       "removedWidgets": [],
       "schema": [
        {
         "metadata": "{}",
         "name": "product_category_name",
         "type": "\"string\""
        },
        {
         "metadata": "{}",
         "name": "product_category_name_english",
         "type": "\"string\""
        }
       ],
       "type": "table"
      }
     },
     "output_type": "display_data"
    }
   ],
   "source": [
    "product_categories_df = product_categories_df.withColumn(\n",
    "                            'product_category_name', \n",
    "                            translate(product_categories_df['product_category_name'], '_', ' ')\n",
    "                        )\n",
    "product_categories_df = product_categories_df.withColumn(\n",
    "                            'product_category_name_english', \n",
    "                            translate(product_categories_df['product_category_name_english'], '_',' ')\n",
    "                        )\n",
    "\n",
    "display(product_categories_df.limit(5))"
   ]
  },
  {
   "cell_type": "markdown",
   "metadata": {
    "application/vnd.databricks.v1+cell": {
     "cellMetadata": {
      "byteLimit": 2048000,
      "rowLimit": 10000
     },
     "inputWidgets": {},
     "nuid": "ddb5c542-201b-4276-ad94-19a645a4cb66",
     "showTitle": false,
     "title": ""
    }
   },
   "source": [
    "#### Define the SpellChecker method\n",
    "\n",
    "We use the SpellChecker library to check the spelling of the English words found under the `product_category_name_english` column.\n",
    "\n",
    "We also found that some of the terms under the column are correct terms such as `blu`, `cd`, `christmas`, and `dvd`. However, they are deemed incorrect by SpellChecker and are changed to different words. So, we made a list with all these extra words to prevent them from being corrected by SpellChecker."
   ]
  },
  {
   "cell_type": "code",
   "execution_count": null,
   "metadata": {
    "application/vnd.databricks.v1+cell": {
     "cellMetadata": {
      "byteLimit": 2048000,
      "rowLimit": 10000
     },
     "inputWidgets": {},
     "nuid": "c48ae9cd-96b0-4546-960b-804c0a79986f",
     "showTitle": false,
     "title": ""
    }
   },
   "outputs": [],
   "source": [
    "spell = SpellChecker()\n",
    "# load in additional words that we deemed to be correct which the SpellChecker does not\n",
    "acceptable_words = [\n",
    "    'dvd',\n",
    "    'dvds',\n",
    "    'agro',\n",
    "    'christmas',\n",
    "    'cd',\n",
    "    'cds',\n",
    "    'blu'\n",
    "] \n",
    "spell.word_frequency.load_words(acceptable_words)\n",
    "\n",
    "# we split the text into individual words and check the words one by one\n",
    "# afterwards, we join them back together to a single string and return it\n",
    "def correct_spelling(text):\n",
    "    list_of_words = text.split()\n",
    "    for i in range(len(list_of_words)):\n",
    "        word = list_of_words[i]\n",
    "        list_of_words[i] = spell.correction(word)\n",
    "    return ' '.join(list_of_words)\n",
    "\n",
    "# Register the UDF\n",
    "correct_spelling_udf = udf(correct_spelling, StringType())"
   ]
  },
  {
   "cell_type": "markdown",
   "metadata": {
    "application/vnd.databricks.v1+cell": {
     "cellMetadata": {
      "byteLimit": 2048000,
      "rowLimit": 10000
     },
     "inputWidgets": {},
     "nuid": "e1c179dd-aabe-4398-9bb2-5aaaef2c3d25",
     "showTitle": false,
     "title": ""
    }
   },
   "source": [
    "#### Apply the SpellChecker method on the `product_category_name_english` column\n",
    "\n",
    "As you can see in the output below, the spelling of the English words are corrected."
   ]
  },
  {
   "cell_type": "code",
   "execution_count": null,
   "metadata": {
    "application/vnd.databricks.v1+cell": {
     "cellMetadata": {
      "byteLimit": 2048000,
      "rowLimit": 10000
     },
     "inputWidgets": {},
     "nuid": "3ac18d02-b924-41b4-9241-014249651eff",
     "showTitle": false,
     "title": ""
    }
   },
   "outputs": [
    {
     "data": {
      "text/html": [
       "<style scoped>\n",
       "  .table-result-container {\n",
       "    max-height: 300px;\n",
       "    overflow: auto;\n",
       "  }\n",
       "  table, th, td {\n",
       "    border: 1px solid black;\n",
       "    border-collapse: collapse;\n",
       "  }\n",
       "  th, td {\n",
       "    padding: 5px;\n",
       "  }\n",
       "  th {\n",
       "    text-align: left;\n",
       "  }\n",
       "</style><div class='table-result-container'><table class='table-result'><thead style='background-color: white'><tr><th>product_category_name</th><th>product_category_name_english</th></tr></thead><tbody><tr><td>fashion roupa feminina</td><td>fashion female clothing</td></tr><tr><td>fashion roupa infanto juvenil</td><td>fashion children clothes</td></tr><tr><td>fashion bolsas e acessorios</td><td>fashion bags accessories</td></tr><tr><td>eletronicos</td><td>electronics</td></tr><tr><td>dvds blu ray</td><td>dvds blu ray</td></tr><tr><td>bebidas</td><td>drinks</td></tr><tr><td>fraldas higiene</td><td>diapers and hygiene</td></tr><tr><td>cool stuff</td><td>cool stuff</td></tr><tr><td>construcao ferramentas ferramentas</td><td>construction tools tools</td></tr><tr><td>construcao ferramentas seguranca</td><td>construction tools safety</td></tr></tbody></table></div>"
      ]
     },
     "metadata": {
      "application/vnd.databricks.v1+output": {
       "addedWidgets": {},
       "aggData": [],
       "aggError": "",
       "aggOverflow": false,
       "aggSchema": [],
       "aggSeriesLimitReached": false,
       "aggType": "",
       "arguments": {},
       "columnCustomDisplayInfos": {},
       "data": [
        [
         "fashion roupa feminina",
         "fashion female clothing"
        ],
        [
         "fashion roupa infanto juvenil",
         "fashion children clothes"
        ],
        [
         "fashion bolsas e acessorios",
         "fashion bags accessories"
        ],
        [
         "eletronicos",
         "electronics"
        ],
        [
         "dvds blu ray",
         "dvds blu ray"
        ],
        [
         "bebidas",
         "drinks"
        ],
        [
         "fraldas higiene",
         "diapers and hygiene"
        ],
        [
         "cool stuff",
         "cool stuff"
        ],
        [
         "construcao ferramentas ferramentas",
         "construction tools tools"
        ],
        [
         "construcao ferramentas seguranca",
         "construction tools safety"
        ]
       ],
       "datasetInfos": [],
       "dbfsResultPath": null,
       "isJsonSchema": true,
       "metadata": {},
       "overflow": false,
       "plotOptions": {
        "customPlotOptions": {},
        "displayType": "table",
        "pivotAggregation": null,
        "pivotColumns": null,
        "xColumns": null,
        "yColumns": null
       },
       "removedWidgets": [],
       "schema": [
        {
         "metadata": "{}",
         "name": "product_category_name",
         "type": "\"string\""
        },
        {
         "metadata": "{}",
         "name": "product_category_name_english",
         "type": "\"string\""
        }
       ],
       "type": "table"
      }
     },
     "output_type": "display_data"
    }
   ],
   "source": [
    "product_categories_df = product_categories_df.withColumn(\n",
    "                                'product_category_name_english', \n",
    "                                correct_spelling_udf(product_categories_df['product_category_name_english'])\n",
    "                        )\n",
    "\n",
    "temp_prod_cat = product_categories_df.sort(asc('product_category_name_english')).limit(30)\n",
    "display(temp_prod_cat.sort(desc('product_category_name_english')).limit(10))"
   ]
  },
  {
   "cell_type": "markdown",
   "metadata": {
    "application/vnd.databricks.v1+cell": {
     "cellMetadata": {
      "byteLimit": 2048000,
      "rowLimit": 10000
     },
     "inputWidgets": {},
     "nuid": "84e39b71-0a24-4d46-985b-68111519c920",
     "showTitle": false,
     "title": ""
    }
   },
   "source": [
    "#### As there are no problems with membership constraints with other DataFrames and missing values, there are no difference in the number of records before and after cleaning the data for `product_categories_df`."
   ]
  },
  {
   "cell_type": "markdown",
   "metadata": {
    "application/vnd.databricks.v1+cell": {
     "cellMetadata": {
      "byteLimit": 2048000,
      "rowLimit": 10000
     },
     "inputWidgets": {},
     "nuid": "74105e9c-0dce-4d07-82d5-376d72ed18f1",
     "showTitle": false,
     "title": ""
    }
   },
   "source": [
    "<section id=\"section_2g\">\n",
    "    <h3 style=\"text-align: center\">Section 2-G: The <code>products</code> data</h3>\n",
    "    <h4>Read in the parquet file and store inside a DataFrame called <code>products_df</code></h4>\n",
    "</section>"
   ]
  },
  {
   "cell_type": "code",
   "execution_count": null,
   "metadata": {
    "application/vnd.databricks.v1+cell": {
     "cellMetadata": {
      "byteLimit": 2048000,
      "rowLimit": 10000
     },
     "inputWidgets": {},
     "nuid": "3d739046-d4f0-4ead-9288-405ba1213227",
     "showTitle": false,
     "title": ""
    }
   },
   "outputs": [
    {
     "name": "stdout",
     "output_type": "stream",
     "text": [
      "Product data loaded successfully.\n"
     ]
    }
   ],
   "source": [
    "products_df = spark.read.format('parquet')\\\n",
    "                        .options(nullValues='', sep=\",\")\\\n",
    "                        .load(f\"{read_path}{products}/{products}.parquet\")\n",
    "\n",
    "logging.info(\"Product data loaded successfully.\")\n",
    "print(\"Product data loaded successfully.\")\n",
    "\n",
    "# get columns with NULL values\n",
    "products_null_columns = {col: products_df.filter(products_df[col].isNull()).count() > 0 for col in products_df.columns}\n",
    "if True in products_null_columns.values():\n",
    "    na_columns = [col for col in products_null_columns.keys() if products_null_columns[col] == True]\n",
    "    na_columns = ', '.join(na_columns)\n",
    "    logging.warning(f\"Detected columns with NA values: {na_columns}\")"
   ]
  },
  {
   "cell_type": "code",
   "execution_count": null,
   "metadata": {
    "application/vnd.databricks.v1+cell": {
     "cellMetadata": {
      "byteLimit": 2048000,
      "rowLimit": 10000
     },
     "inputWidgets": {},
     "nuid": "08042a42-f0d9-4063-8aa8-af0083d87ed2",
     "showTitle": false,
     "title": ""
    }
   },
   "outputs": [
    {
     "data": {
      "text/html": [
       "<style scoped>\n",
       "  .table-result-container {\n",
       "    max-height: 300px;\n",
       "    overflow: auto;\n",
       "  }\n",
       "  table, th, td {\n",
       "    border: 1px solid black;\n",
       "    border-collapse: collapse;\n",
       "  }\n",
       "  th, td {\n",
       "    padding: 5px;\n",
       "  }\n",
       "  th {\n",
       "    text-align: left;\n",
       "  }\n",
       "</style><div class='table-result-container'><table class='table-result'><thead style='background-color: white'><tr><th>product_id</th><th>product_category_name</th><th>product_name_lenght</th><th>product_description_lenght</th><th>product_photos_qty</th><th>product_weight_g</th><th>product_length_cm</th><th>product_height_cm</th><th>product_width_cm</th></tr></thead><tbody><tr><td>32951</td><td>32341</td><td>32341</td><td>32341</td><td>32341</td><td>32949</td><td>32949</td><td>32949</td><td>32949</td></tr></tbody></table></div>"
      ]
     },
     "metadata": {
      "application/vnd.databricks.v1+output": {
       "addedWidgets": {},
       "aggData": [],
       "aggError": "",
       "aggOverflow": false,
       "aggSchema": [],
       "aggSeriesLimitReached": false,
       "aggType": "",
       "arguments": {},
       "columnCustomDisplayInfos": {},
       "data": [
        [
         32951,
         32341,
         32341,
         32341,
         32341,
         32949,
         32949,
         32949,
         32949
        ]
       ],
       "datasetInfos": [],
       "dbfsResultPath": null,
       "isJsonSchema": true,
       "metadata": {},
       "overflow": false,
       "plotOptions": {
        "customPlotOptions": {},
        "displayType": "table",
        "pivotAggregation": null,
        "pivotColumns": null,
        "xColumns": null,
        "yColumns": null
       },
       "removedWidgets": [],
       "schema": [
        {
         "metadata": "{}",
         "name": "product_id",
         "type": "\"long\""
        },
        {
         "metadata": "{}",
         "name": "product_category_name",
         "type": "\"long\""
        },
        {
         "metadata": "{}",
         "name": "product_name_lenght",
         "type": "\"long\""
        },
        {
         "metadata": "{}",
         "name": "product_description_lenght",
         "type": "\"long\""
        },
        {
         "metadata": "{}",
         "name": "product_photos_qty",
         "type": "\"long\""
        },
        {
         "metadata": "{}",
         "name": "product_weight_g",
         "type": "\"long\""
        },
        {
         "metadata": "{}",
         "name": "product_length_cm",
         "type": "\"long\""
        },
        {
         "metadata": "{}",
         "name": "product_height_cm",
         "type": "\"long\""
        },
        {
         "metadata": "{}",
         "name": "product_width_cm",
         "type": "\"long\""
        }
       ],
       "type": "table"
      }
     },
     "output_type": "display_data"
    }
   ],
   "source": [
    "from pyspark.sql.functions import *\n",
    "\n",
    "# prints the number of non-null values in the dataframe\n",
    "display(products_df.select([count(when(col(c).isNotNull(), c)).alias(c) for c in products_df.columns]))"
   ]
  },
  {
   "cell_type": "code",
   "execution_count": null,
   "metadata": {
    "application/vnd.databricks.v1+cell": {
     "cellMetadata": {
      "byteLimit": 2048000,
      "rowLimit": 10000
     },
     "inputWidgets": {},
     "nuid": "416e4766-1106-43ad-89d8-a4a4a80bdd34",
     "showTitle": false,
     "title": ""
    }
   },
   "outputs": [
    {
     "name": "stdout",
     "output_type": "stream",
     "text": [
      "root\n",
      " |-- product_id: string (nullable = true)\n",
      " |-- product_category_name: string (nullable = true)\n",
      " |-- product_name_lenght: integer (nullable = true)\n",
      " |-- product_description_lenght: integer (nullable = true)\n",
      " |-- product_photos_qty: integer (nullable = true)\n",
      " |-- product_weight_g: integer (nullable = true)\n",
      " |-- product_length_cm: integer (nullable = true)\n",
      " |-- product_height_cm: integer (nullable = true)\n",
      " |-- product_width_cm: integer (nullable = true)\n",
      "\n"
     ]
    }
   ],
   "source": [
    "products_df.printSchema()"
   ]
  },
  {
   "cell_type": "code",
   "execution_count": null,
   "metadata": {
    "application/vnd.databricks.v1+cell": {
     "cellMetadata": {
      "byteLimit": 2048000,
      "rowLimit": 10000
     },
     "inputWidgets": {},
     "nuid": "13b41785-bb48-4b69-bde0-577ebc27cd1c",
     "showTitle": false,
     "title": ""
    }
   },
   "outputs": [
    {
     "data": {
      "text/html": [
       "<style scoped>\n",
       "  .table-result-container {\n",
       "    max-height: 300px;\n",
       "    overflow: auto;\n",
       "  }\n",
       "  table, th, td {\n",
       "    border: 1px solid black;\n",
       "    border-collapse: collapse;\n",
       "  }\n",
       "  th, td {\n",
       "    padding: 5px;\n",
       "  }\n",
       "  th {\n",
       "    text-align: left;\n",
       "  }\n",
       "</style><div class='table-result-container'><table class='table-result'><thead style='background-color: white'><tr><th>product_id</th><th>product_category_name</th><th>product_name_lenght</th><th>product_description_lenght</th><th>product_photos_qty</th><th>product_weight_g</th><th>product_length_cm</th><th>product_height_cm</th><th>product_width_cm</th></tr></thead><tbody><tr><td>1e9e8ef04dbcff4541ed26657ea517e5</td><td>perfumaria</td><td>40</td><td>287</td><td>1</td><td>225</td><td>16</td><td>10</td><td>14</td></tr><tr><td>3aa071139cb16b67ca9e5dea641aaa2f</td><td>artes</td><td>44</td><td>276</td><td>1</td><td>1000</td><td>30</td><td>18</td><td>20</td></tr><tr><td>96bd76ec8810374ed1b65e291975717f</td><td>esporte_lazer</td><td>46</td><td>250</td><td>1</td><td>154</td><td>18</td><td>9</td><td>15</td></tr><tr><td>cef67bcfe19066a932b7673e239eb23d</td><td>bebes</td><td>27</td><td>261</td><td>1</td><td>371</td><td>26</td><td>4</td><td>26</td></tr><tr><td>9dc1a7de274444849c219cff195d0b71</td><td>utilidades_domesticas</td><td>37</td><td>402</td><td>4</td><td>625</td><td>20</td><td>17</td><td>13</td></tr></tbody></table></div>"
      ]
     },
     "metadata": {
      "application/vnd.databricks.v1+output": {
       "addedWidgets": {},
       "aggData": [],
       "aggError": "",
       "aggOverflow": false,
       "aggSchema": [],
       "aggSeriesLimitReached": false,
       "aggType": "",
       "arguments": {},
       "columnCustomDisplayInfos": {},
       "data": [
        [
         "1e9e8ef04dbcff4541ed26657ea517e5",
         "perfumaria",
         40,
         287,
         1,
         225,
         16,
         10,
         14
        ],
        [
         "3aa071139cb16b67ca9e5dea641aaa2f",
         "artes",
         44,
         276,
         1,
         1000,
         30,
         18,
         20
        ],
        [
         "96bd76ec8810374ed1b65e291975717f",
         "esporte_lazer",
         46,
         250,
         1,
         154,
         18,
         9,
         15
        ],
        [
         "cef67bcfe19066a932b7673e239eb23d",
         "bebes",
         27,
         261,
         1,
         371,
         26,
         4,
         26
        ],
        [
         "9dc1a7de274444849c219cff195d0b71",
         "utilidades_domesticas",
         37,
         402,
         4,
         625,
         20,
         17,
         13
        ]
       ],
       "datasetInfos": [],
       "dbfsResultPath": null,
       "isJsonSchema": true,
       "metadata": {},
       "overflow": false,
       "plotOptions": {
        "customPlotOptions": {},
        "displayType": "table",
        "pivotAggregation": null,
        "pivotColumns": null,
        "xColumns": null,
        "yColumns": null
       },
       "removedWidgets": [],
       "schema": [
        {
         "metadata": "{}",
         "name": "product_id",
         "type": "\"string\""
        },
        {
         "metadata": "{}",
         "name": "product_category_name",
         "type": "\"string\""
        },
        {
         "metadata": "{}",
         "name": "product_name_lenght",
         "type": "\"integer\""
        },
        {
         "metadata": "{}",
         "name": "product_description_lenght",
         "type": "\"integer\""
        },
        {
         "metadata": "{}",
         "name": "product_photos_qty",
         "type": "\"integer\""
        },
        {
         "metadata": "{}",
         "name": "product_weight_g",
         "type": "\"integer\""
        },
        {
         "metadata": "{}",
         "name": "product_length_cm",
         "type": "\"integer\""
        },
        {
         "metadata": "{}",
         "name": "product_height_cm",
         "type": "\"integer\""
        },
        {
         "metadata": "{}",
         "name": "product_width_cm",
         "type": "\"integer\""
        }
       ],
       "type": "table"
      }
     },
     "output_type": "display_data"
    }
   ],
   "source": [
    "display(products_df.limit(5))"
   ]
  },
  {
   "cell_type": "code",
   "execution_count": null,
   "metadata": {
    "application/vnd.databricks.v1+cell": {
     "cellMetadata": {
      "byteLimit": 2048000,
      "rowLimit": 10000
     },
     "inputWidgets": {},
     "nuid": "6dd61bf7-d39b-43f5-b5ef-0865ef14cae5",
     "showTitle": false,
     "title": ""
    }
   },
   "outputs": [
    {
     "data": {
      "text/plain": [
       "32951"
      ]
     },
     "execution_count": 55,
     "metadata": {},
     "output_type": "execute_result"
    }
   ],
   "source": [
    "before_transform_row_count = products_df.count()\n",
    "before_transform_row_count"
   ]
  },
  {
   "cell_type": "markdown",
   "metadata": {
    "application/vnd.databricks.v1+cell": {
     "cellMetadata": {
      "byteLimit": 2048000,
      "rowLimit": 10000
     },
     "inputWidgets": {},
     "nuid": "740a77f4-232f-4a69-8321-5e9a4006db04",
     "showTitle": false,
     "title": ""
    }
   },
   "source": [
    "#### Problems and Possible Improvements:\n",
    "\n",
    "As seen in the outputs from the cells above, there are some things that we needs to be fixed and some improvements that can be done:\n",
    "\n",
    "1. There are some rows that have `null` values under the `product_category_name` so we need to remove them.\n",
    "\n",
    "2. There are null values under the integer columns so we need to set them as `0`.\n",
    "\n",
    "3. The columns `product_name_lenght` and `product_description_lenght` have wrong spellings for the word `length`.\n",
    "\n",
    "4. Since we remove the `_` underscore from the `product_category_name` in the `product_categories_df`, we need to do the same to the same column in this DataFrame.\n",
    "\n",
    "5. We need to check if the values under the `product_category_name` exists inside the `product_categories_df`."
   ]
  },
  {
   "cell_type": "markdown",
   "metadata": {
    "application/vnd.databricks.v1+cell": {
     "cellMetadata": {
      "byteLimit": 2048000,
      "rowLimit": 10000
     },
     "inputWidgets": {},
     "nuid": "f5bea1bb-a7d6-4070-bba6-34e65a533ff3",
     "showTitle": false,
     "title": ""
    }
   },
   "source": [
    "#### Remove rows with null values under the `product_category_name` and fill in the null values under quantitative columns as `0`.\n",
    "\n",
    "We decided to remove rows with null values under the `product_category_name` since it makes the data incomplete.\n",
    "\n",
    "As for the quantitative columns with null values, we need to fill them with a number (zero / 0) before changing their data type to integer. If we change the data type before filling the null values, they will raise an error."
   ]
  },
  {
   "cell_type": "code",
   "execution_count": null,
   "metadata": {
    "application/vnd.databricks.v1+cell": {
     "cellMetadata": {
      "byteLimit": 2048000,
      "rowLimit": 10000
     },
     "inputWidgets": {},
     "nuid": "2a036d1d-c27f-4e16-8f9e-cfe765e08388",
     "showTitle": false,
     "title": ""
    }
   },
   "outputs": [
    {
     "data": {
      "text/html": [
       "<style scoped>\n",
       "  .table-result-container {\n",
       "    max-height: 300px;\n",
       "    overflow: auto;\n",
       "  }\n",
       "  table, th, td {\n",
       "    border: 1px solid black;\n",
       "    border-collapse: collapse;\n",
       "  }\n",
       "  th, td {\n",
       "    padding: 5px;\n",
       "  }\n",
       "  th {\n",
       "    text-align: left;\n",
       "  }\n",
       "</style><div class='table-result-container'><table class='table-result'><thead style='background-color: white'><tr><th>product_id</th><th>product_category_name</th><th>product_name_lenght</th><th>product_description_lenght</th><th>product_photos_qty</th><th>product_weight_g</th><th>product_length_cm</th><th>product_height_cm</th><th>product_width_cm</th></tr></thead><tbody><tr><td>32341</td><td>32341</td><td>32341</td><td>32341</td><td>32341</td><td>32341</td><td>32341</td><td>32341</td><td>32341</td></tr></tbody></table></div>"
      ]
     },
     "metadata": {
      "application/vnd.databricks.v1+output": {
       "addedWidgets": {},
       "aggData": [],
       "aggError": "",
       "aggOverflow": false,
       "aggSchema": [],
       "aggSeriesLimitReached": false,
       "aggType": "",
       "arguments": {},
       "columnCustomDisplayInfos": {},
       "data": [
        [
         32341,
         32341,
         32341,
         32341,
         32341,
         32341,
         32341,
         32341,
         32341
        ]
       ],
       "datasetInfos": [],
       "dbfsResultPath": null,
       "isJsonSchema": true,
       "metadata": {},
       "overflow": false,
       "plotOptions": {
        "customPlotOptions": {},
        "displayType": "table",
        "pivotAggregation": null,
        "pivotColumns": null,
        "xColumns": null,
        "yColumns": null
       },
       "removedWidgets": [],
       "schema": [
        {
         "metadata": "{}",
         "name": "product_id",
         "type": "\"long\""
        },
        {
         "metadata": "{}",
         "name": "product_category_name",
         "type": "\"long\""
        },
        {
         "metadata": "{}",
         "name": "product_name_lenght",
         "type": "\"long\""
        },
        {
         "metadata": "{}",
         "name": "product_description_lenght",
         "type": "\"long\""
        },
        {
         "metadata": "{}",
         "name": "product_photos_qty",
         "type": "\"long\""
        },
        {
         "metadata": "{}",
         "name": "product_weight_g",
         "type": "\"long\""
        },
        {
         "metadata": "{}",
         "name": "product_length_cm",
         "type": "\"long\""
        },
        {
         "metadata": "{}",
         "name": "product_height_cm",
         "type": "\"long\""
        },
        {
         "metadata": "{}",
         "name": "product_width_cm",
         "type": "\"long\""
        }
       ],
       "type": "table"
      }
     },
     "output_type": "display_data"
    }
   ],
   "source": [
    "# Remove rows with missing values under product_category_name\n",
    "products_df = products_df.dropna(subset=['product_category_name'])\n",
    "\n",
    "# Fill missing values with 0\n",
    "products_na_values = {\n",
    "    \"product_name_lenght\": 0,\n",
    "    \"product_description_lenght\": 0,\n",
    "    \"product_photos_qty\": 0,\n",
    "    \"product_weight_g\": 0,\n",
    "    \"product_length_cm\": 0,\n",
    "    \"product_height_cm\": 0,\n",
    "    \"product_width_cm\": 0\n",
    "}\n",
    "products_df = products_df.fillna(products_na_values)\n",
    "\n",
    "from pyspark.sql.functions import *\n",
    "# prints the number of non-null values in the dataframe\n",
    "display(products_df.select([count(when(col(c).isNotNull(), c)).alias(c) for c in products_df.columns]))"
   ]
  },
  {
   "cell_type": "markdown",
   "metadata": {
    "application/vnd.databricks.v1+cell": {
     "cellMetadata": {
      "byteLimit": 2048000,
      "rowLimit": 10000
     },
     "inputWidgets": {},
     "nuid": "a9d4e570-887b-4586-bf17-9e47fdeeb4f7",
     "showTitle": false,
     "title": ""
    }
   },
   "source": [
    "#### Correct the spelling of the columns `product_name_lenght` and `product_description_lenght` for the word `length`"
   ]
  },
  {
   "cell_type": "code",
   "execution_count": null,
   "metadata": {
    "application/vnd.databricks.v1+cell": {
     "cellMetadata": {
      "byteLimit": 2048000,
      "rowLimit": 10000
     },
     "inputWidgets": {},
     "nuid": "733df1f7-b6e3-4ac7-a1a8-a4b230bf0d90",
     "showTitle": false,
     "title": ""
    }
   },
   "outputs": [
    {
     "name": "stdout",
     "output_type": "stream",
     "text": [
      "root\n",
      " |-- product_id: string (nullable = true)\n",
      " |-- product_category_name: string (nullable = true)\n",
      " |-- product_name_length: integer (nullable = false)\n",
      " |-- product_description_length: integer (nullable = false)\n",
      " |-- product_photos_qty: integer (nullable = false)\n",
      " |-- product_weight_g: integer (nullable = false)\n",
      " |-- product_length_cm: integer (nullable = false)\n",
      " |-- product_height_cm: integer (nullable = false)\n",
      " |-- product_width_cm: integer (nullable = false)\n",
      "\n"
     ]
    }
   ],
   "source": [
    "products_col_names = {\n",
    "    \"product_name_lenght\": \"product_name_length\",\n",
    "    \"product_description_lenght\": \"product_description_length\"\n",
    "}\n",
    "\n",
    "for old_col, new_col in products_col_names.items():\n",
    "    products_df = products_df.withColumnRenamed(old_col, new_col)\n",
    "\n",
    "products_df.printSchema()"
   ]
  },
  {
   "cell_type": "markdown",
   "metadata": {
    "application/vnd.databricks.v1+cell": {
     "cellMetadata": {
      "byteLimit": 2048000,
      "rowLimit": 10000
     },
     "inputWidgets": {},
     "nuid": "792216bf-6cfe-44ce-910c-05f0524344d7",
     "showTitle": false,
     "title": ""
    }
   },
   "source": [
    "#### Remove the `_` underscore from the values under `product_category_name`"
   ]
  },
  {
   "cell_type": "code",
   "execution_count": null,
   "metadata": {
    "application/vnd.databricks.v1+cell": {
     "cellMetadata": {
      "byteLimit": 2048000,
      "rowLimit": 10000
     },
     "inputWidgets": {},
     "nuid": "d3db084e-084e-4edb-aba7-e8d251c8370a",
     "showTitle": false,
     "title": ""
    }
   },
   "outputs": [
    {
     "data": {
      "text/html": [
       "<style scoped>\n",
       "  .table-result-container {\n",
       "    max-height: 300px;\n",
       "    overflow: auto;\n",
       "  }\n",
       "  table, th, td {\n",
       "    border: 1px solid black;\n",
       "    border-collapse: collapse;\n",
       "  }\n",
       "  th, td {\n",
       "    padding: 5px;\n",
       "  }\n",
       "  th {\n",
       "    text-align: left;\n",
       "  }\n",
       "</style><div class='table-result-container'><table class='table-result'><thead style='background-color: white'><tr><th>product_id</th><th>product_category_name</th><th>product_name_length</th><th>product_description_length</th><th>product_photos_qty</th><th>product_weight_g</th><th>product_length_cm</th><th>product_height_cm</th><th>product_width_cm</th></tr></thead><tbody><tr><td>1e9e8ef04dbcff4541ed26657ea517e5</td><td>perfumaria</td><td>40</td><td>287</td><td>1</td><td>225</td><td>16</td><td>10</td><td>14</td></tr><tr><td>3aa071139cb16b67ca9e5dea641aaa2f</td><td>artes</td><td>44</td><td>276</td><td>1</td><td>1000</td><td>30</td><td>18</td><td>20</td></tr><tr><td>96bd76ec8810374ed1b65e291975717f</td><td>esporte lazer</td><td>46</td><td>250</td><td>1</td><td>154</td><td>18</td><td>9</td><td>15</td></tr><tr><td>cef67bcfe19066a932b7673e239eb23d</td><td>bebes</td><td>27</td><td>261</td><td>1</td><td>371</td><td>26</td><td>4</td><td>26</td></tr><tr><td>9dc1a7de274444849c219cff195d0b71</td><td>utilidades domesticas</td><td>37</td><td>402</td><td>4</td><td>625</td><td>20</td><td>17</td><td>13</td></tr><tr><td>41d3672d4792049fa1779bb35283ed13</td><td>instrumentos musicais</td><td>60</td><td>745</td><td>1</td><td>200</td><td>38</td><td>5</td><td>11</td></tr><tr><td>732bd381ad09e530fe0a5f457d81becb</td><td>cool stuff</td><td>56</td><td>1272</td><td>4</td><td>18350</td><td>70</td><td>24</td><td>44</td></tr><tr><td>2548af3e6e77a690cf3eb6368e9ab61e</td><td>moveis decoracao</td><td>56</td><td>184</td><td>2</td><td>900</td><td>40</td><td>8</td><td>40</td></tr><tr><td>37cc742be07708b53a98702e77a21a02</td><td>eletrodomesticos</td><td>57</td><td>163</td><td>1</td><td>400</td><td>27</td><td>13</td><td>17</td></tr><tr><td>8c92109888e8cdf9d66dc7e463025574</td><td>brinquedos</td><td>36</td><td>1156</td><td>1</td><td>600</td><td>17</td><td>10</td><td>12</td></tr></tbody></table></div>"
      ]
     },
     "metadata": {
      "application/vnd.databricks.v1+output": {
       "addedWidgets": {},
       "aggData": [],
       "aggError": "",
       "aggOverflow": false,
       "aggSchema": [],
       "aggSeriesLimitReached": false,
       "aggType": "",
       "arguments": {},
       "columnCustomDisplayInfos": {},
       "data": [
        [
         "1e9e8ef04dbcff4541ed26657ea517e5",
         "perfumaria",
         40,
         287,
         1,
         225,
         16,
         10,
         14
        ],
        [
         "3aa071139cb16b67ca9e5dea641aaa2f",
         "artes",
         44,
         276,
         1,
         1000,
         30,
         18,
         20
        ],
        [
         "96bd76ec8810374ed1b65e291975717f",
         "esporte lazer",
         46,
         250,
         1,
         154,
         18,
         9,
         15
        ],
        [
         "cef67bcfe19066a932b7673e239eb23d",
         "bebes",
         27,
         261,
         1,
         371,
         26,
         4,
         26
        ],
        [
         "9dc1a7de274444849c219cff195d0b71",
         "utilidades domesticas",
         37,
         402,
         4,
         625,
         20,
         17,
         13
        ],
        [
         "41d3672d4792049fa1779bb35283ed13",
         "instrumentos musicais",
         60,
         745,
         1,
         200,
         38,
         5,
         11
        ],
        [
         "732bd381ad09e530fe0a5f457d81becb",
         "cool stuff",
         56,
         1272,
         4,
         18350,
         70,
         24,
         44
        ],
        [
         "2548af3e6e77a690cf3eb6368e9ab61e",
         "moveis decoracao",
         56,
         184,
         2,
         900,
         40,
         8,
         40
        ],
        [
         "37cc742be07708b53a98702e77a21a02",
         "eletrodomesticos",
         57,
         163,
         1,
         400,
         27,
         13,
         17
        ],
        [
         "8c92109888e8cdf9d66dc7e463025574",
         "brinquedos",
         36,
         1156,
         1,
         600,
         17,
         10,
         12
        ]
       ],
       "datasetInfos": [],
       "dbfsResultPath": null,
       "isJsonSchema": true,
       "metadata": {},
       "overflow": false,
       "plotOptions": {
        "customPlotOptions": {},
        "displayType": "table",
        "pivotAggregation": null,
        "pivotColumns": null,
        "xColumns": null,
        "yColumns": null
       },
       "removedWidgets": [],
       "schema": [
        {
         "metadata": "{}",
         "name": "product_id",
         "type": "\"string\""
        },
        {
         "metadata": "{}",
         "name": "product_category_name",
         "type": "\"string\""
        },
        {
         "metadata": "{}",
         "name": "product_name_length",
         "type": "\"integer\""
        },
        {
         "metadata": "{}",
         "name": "product_description_length",
         "type": "\"integer\""
        },
        {
         "metadata": "{}",
         "name": "product_photos_qty",
         "type": "\"integer\""
        },
        {
         "metadata": "{}",
         "name": "product_weight_g",
         "type": "\"integer\""
        },
        {
         "metadata": "{}",
         "name": "product_length_cm",
         "type": "\"integer\""
        },
        {
         "metadata": "{}",
         "name": "product_height_cm",
         "type": "\"integer\""
        },
        {
         "metadata": "{}",
         "name": "product_width_cm",
         "type": "\"integer\""
        }
       ],
       "type": "table"
      }
     },
     "output_type": "display_data"
    }
   ],
   "source": [
    "products_df = products_df.withColumn(\n",
    "    'product_category_name', \n",
    "    translate(products_df['product_category_name'], '_', ' ')\n",
    ")\n",
    "\n",
    "display(products_df.limit(10))"
   ]
  },
  {
   "cell_type": "markdown",
   "metadata": {
    "application/vnd.databricks.v1+cell": {
     "cellMetadata": {
      "byteLimit": 2048000,
      "rowLimit": 10000
     },
     "inputWidgets": {},
     "nuid": "59d60d0b-137a-4189-a1b0-333adfbd7c00",
     "showTitle": false,
     "title": ""
    }
   },
   "source": [
    "#### Find rows where the `product_category_name` does not exist inside the `product_categories_df` DataFrame.\n",
    "\n",
    "From the cell below, we found that there are **13** rows that has `product_category_name` which does not exist inside the `product_categories_df`. \n",
    "\n",
    "What do we do with these so-called invalid `product_category_name` values? \n",
    "\n",
    "We will add them into the `product_categories_df` DataFrame so that we don't lose any data from the `products_df` DataFrame. We will do this later."
   ]
  },
  {
   "cell_type": "code",
   "execution_count": null,
   "metadata": {
    "application/vnd.databricks.v1+cell": {
     "cellMetadata": {
      "byteLimit": 2048000,
      "rowLimit": 10000
     },
     "inputWidgets": {},
     "nuid": "10ee638e-0a3a-4639-a10d-0f7debba9cee",
     "showTitle": false,
     "title": ""
    }
   },
   "outputs": [
    {
     "name": "stdout",
     "output_type": "stream",
     "text": [
      "Number of inconsistent rows: 13\n"
     ]
    },
    {
     "data": {
      "text/html": [
       "<style scoped>\n",
       "  .table-result-container {\n",
       "    max-height: 300px;\n",
       "    overflow: auto;\n",
       "  }\n",
       "  table, th, td {\n",
       "    border: 1px solid black;\n",
       "    border-collapse: collapse;\n",
       "  }\n",
       "  th, td {\n",
       "    padding: 5px;\n",
       "  }\n",
       "  th {\n",
       "    text-align: left;\n",
       "  }\n",
       "</style><div class='table-result-container'><table class='table-result'><thead style='background-color: white'><tr><th>product_id</th><th>product_category_name</th><th>product_name_length</th><th>product_description_length</th><th>product_photos_qty</th><th>product_weight_g</th><th>product_length_cm</th><th>product_height_cm</th><th>product_width_cm</th></tr></thead><tbody><tr><td>0105b5323d24fc655f73052694dbbb3a</td><td>pc gamer</td><td>59</td><td>621</td><td>4</td><td>2839</td><td>19</td><td>16</td><td>18</td></tr><tr><td>6fd83eb3e0799b775e4f946bd66657c0</td><td>portateis cozinha e preparadores de alimentos</td><td>52</td><td>280</td><td>1</td><td>1200</td><td>25</td><td>33</td><td>25</td></tr><tr><td>5d923ead886c44b86845f69e50520c3e</td><td>portateis cozinha e preparadores de alimentos</td><td>58</td><td>284</td><td>1</td><td>1200</td><td>25</td><td>33</td><td>25</td></tr><tr><td>6727051471a0fc4a0e7737b57bff2549</td><td>pc gamer</td><td>60</td><td>1532</td><td>3</td><td>650</td><td>16</td><td>22</td><td>20</td></tr><tr><td>bed164d9d628cf0593003389c535c6e0</td><td>portateis cozinha e preparadores de alimentos</td><td>54</td><td>382</td><td>2</td><td>850</td><td>30</td><td>21</td><td>22</td></tr><tr><td>1220978a08a6b29a202bc015b18250e9</td><td>portateis cozinha e preparadores de alimentos</td><td>46</td><td>280</td><td>1</td><td>1200</td><td>25</td><td>33</td><td>25</td></tr><tr><td>ae62bb0f95af63d64eae5f93dddea8d3</td><td>portateis cozinha e preparadores de alimentos</td><td>59</td><td>927</td><td>1</td><td>10600</td><td>40</td><td>20</td><td>38</td></tr><tr><td>1954739d84629e7323a4295812a3e0ec</td><td>portateis cozinha e preparadores de alimentos</td><td>58</td><td>792</td><td>4</td><td>750</td><td>30</td><td>30</td><td>30</td></tr><tr><td>dbe520fb381ad695a7e1f2807d20c765</td><td>pc gamer</td><td>60</td><td>840</td><td>6</td><td>800</td><td>18</td><td>22</td><td>22</td></tr><tr><td>c7a3f1a7f9eef146cc499368b578b884</td><td>portateis cozinha e preparadores de alimentos</td><td>52</td><td>1372</td><td>5</td><td>7350</td><td>40</td><td>30</td><td>23</td></tr><tr><td>7afdd65f79f63819ff5bee328843fa37</td><td>portateis cozinha e preparadores de alimentos</td><td>48</td><td>305</td><td>1</td><td>750</td><td>20</td><td>20</td><td>20</td></tr><tr><td>a4756663d007b0cd1af865754d08d968</td><td>portateis cozinha e preparadores de alimentos</td><td>60</td><td>1304</td><td>4</td><td>650</td><td>22</td><td>6</td><td>14</td></tr><tr><td>cb9d764f38ee4d0c00af64d5c388f837</td><td>portateis cozinha e preparadores de alimentos</td><td>57</td><td>306</td><td>1</td><td>625</td><td>28</td><td>27</td><td>24</td></tr></tbody></table></div>"
      ]
     },
     "metadata": {
      "application/vnd.databricks.v1+output": {
       "addedWidgets": {},
       "aggData": [],
       "aggError": "",
       "aggOverflow": false,
       "aggSchema": [],
       "aggSeriesLimitReached": false,
       "aggType": "",
       "arguments": {},
       "columnCustomDisplayInfos": {},
       "data": [
        [
         "0105b5323d24fc655f73052694dbbb3a",
         "pc gamer",
         59,
         621,
         4,
         2839,
         19,
         16,
         18
        ],
        [
         "6fd83eb3e0799b775e4f946bd66657c0",
         "portateis cozinha e preparadores de alimentos",
         52,
         280,
         1,
         1200,
         25,
         33,
         25
        ],
        [
         "5d923ead886c44b86845f69e50520c3e",
         "portateis cozinha e preparadores de alimentos",
         58,
         284,
         1,
         1200,
         25,
         33,
         25
        ],
        [
         "6727051471a0fc4a0e7737b57bff2549",
         "pc gamer",
         60,
         1532,
         3,
         650,
         16,
         22,
         20
        ],
        [
         "bed164d9d628cf0593003389c535c6e0",
         "portateis cozinha e preparadores de alimentos",
         54,
         382,
         2,
         850,
         30,
         21,
         22
        ],
        [
         "1220978a08a6b29a202bc015b18250e9",
         "portateis cozinha e preparadores de alimentos",
         46,
         280,
         1,
         1200,
         25,
         33,
         25
        ],
        [
         "ae62bb0f95af63d64eae5f93dddea8d3",
         "portateis cozinha e preparadores de alimentos",
         59,
         927,
         1,
         10600,
         40,
         20,
         38
        ],
        [
         "1954739d84629e7323a4295812a3e0ec",
         "portateis cozinha e preparadores de alimentos",
         58,
         792,
         4,
         750,
         30,
         30,
         30
        ],
        [
         "dbe520fb381ad695a7e1f2807d20c765",
         "pc gamer",
         60,
         840,
         6,
         800,
         18,
         22,
         22
        ],
        [
         "c7a3f1a7f9eef146cc499368b578b884",
         "portateis cozinha e preparadores de alimentos",
         52,
         1372,
         5,
         7350,
         40,
         30,
         23
        ],
        [
         "7afdd65f79f63819ff5bee328843fa37",
         "portateis cozinha e preparadores de alimentos",
         48,
         305,
         1,
         750,
         20,
         20,
         20
        ],
        [
         "a4756663d007b0cd1af865754d08d968",
         "portateis cozinha e preparadores de alimentos",
         60,
         1304,
         4,
         650,
         22,
         6,
         14
        ],
        [
         "cb9d764f38ee4d0c00af64d5c388f837",
         "portateis cozinha e preparadores de alimentos",
         57,
         306,
         1,
         625,
         28,
         27,
         24
        ]
       ],
       "datasetInfos": [],
       "dbfsResultPath": null,
       "isJsonSchema": true,
       "metadata": {},
       "overflow": false,
       "plotOptions": {
        "customPlotOptions": {},
        "displayType": "table",
        "pivotAggregation": null,
        "pivotColumns": null,
        "xColumns": null,
        "yColumns": null
       },
       "removedWidgets": [],
       "schema": [
        {
         "metadata": "{}",
         "name": "product_id",
         "type": "\"string\""
        },
        {
         "metadata": "{}",
         "name": "product_category_name",
         "type": "\"string\""
        },
        {
         "metadata": "{}",
         "name": "product_name_length",
         "type": "\"integer\""
        },
        {
         "metadata": "{}",
         "name": "product_description_length",
         "type": "\"integer\""
        },
        {
         "metadata": "{}",
         "name": "product_photos_qty",
         "type": "\"integer\""
        },
        {
         "metadata": "{}",
         "name": "product_weight_g",
         "type": "\"integer\""
        },
        {
         "metadata": "{}",
         "name": "product_length_cm",
         "type": "\"integer\""
        },
        {
         "metadata": "{}",
         "name": "product_height_cm",
         "type": "\"integer\""
        },
        {
         "metadata": "{}",
         "name": "product_width_cm",
         "type": "\"integer\""
        }
       ],
       "type": "table"
      }
     },
     "output_type": "display_data"
    }
   ],
   "source": [
    "# Join products_df with product_categories_df to find non-matching product_category_name\n",
    "inconsistent_rows = products_df.join(\n",
    "    product_categories_df,\n",
    "    products_df['product_category_name'] == product_categories_df['product_category_name'],\n",
    "    'left_anti'\n",
    ")\n",
    "\n",
    "print(f\"Number of inconsistent rows: {inconsistent_rows.count()}\")\n",
    "display(inconsistent_rows)"
   ]
  },
  {
   "cell_type": "markdown",
   "metadata": {
    "application/vnd.databricks.v1+cell": {
     "cellMetadata": {
      "byteLimit": 2048000,
      "rowLimit": 10000
     },
     "inputWidgets": {},
     "nuid": "3262d0eb-2210-43a7-bf1e-454ea7a7f86c",
     "showTitle": false,
     "title": ""
    }
   },
   "source": [
    "#### Difference before and after cleaning:\n",
    "\n",
    "As you can see below, the `products_df` DataFrame lost **610** records due to missing `product_category_name` values from **32,951** records to **32,341** records."
   ]
  },
  {
   "cell_type": "code",
   "execution_count": null,
   "metadata": {
    "application/vnd.databricks.v1+cell": {
     "cellMetadata": {
      "byteLimit": 2048000,
      "rowLimit": 10000
     },
     "inputWidgets": {},
     "nuid": "450ab3ba-22f3-4ddc-b247-b80346c92b6a",
     "showTitle": false,
     "title": ""
    }
   },
   "outputs": [
    {
     "name": "stdout",
     "output_type": "stream",
     "text": [
      "Before cleaning: 32951\n",
      "After cleaning:  32341\n",
      "Lost records:    610\n"
     ]
    }
   ],
   "source": [
    "print(f\"Before cleaning: {before_transform_row_count}\")\n",
    "print(f\"After cleaning:  {products_df.count()}\")\n",
    "print(f\"Lost records:    {before_transform_row_count - products_df.count()}\")"
   ]
  },
  {
   "cell_type": "markdown",
   "metadata": {
    "application/vnd.databricks.v1+cell": {
     "cellMetadata": {
      "byteLimit": 2048000,
      "rowLimit": 10000
     },
     "inputWidgets": {},
     "nuid": "f04f8139-cbba-4c72-8703-5cbe1ff27fd8",
     "showTitle": false,
     "title": ""
    }
   },
   "source": [
    "<section id=\"section_2h\">\n",
    "    <h3 style=\"text-align: center\">Section 2-H: Appending new <code>product_category_name_translations</code> data</h3>\n",
    "</section>"
   ]
  },
  {
   "cell_type": "markdown",
   "metadata": {
    "application/vnd.databricks.v1+cell": {
     "cellMetadata": {
      "byteLimit": 2048000,
      "rowLimit": 10000
     },
     "inputWidgets": {},
     "nuid": "ddfd8ea1-7383-47f2-a694-89b781c35001",
     "showTitle": false,
     "title": ""
    }
   },
   "source": [
    "#### Preparing the `product_category_name` values before inserting into the `product_categories_df`.\n",
    "\n",
    "Before adding the new `product_category_name` values to the `product_categories_df`, we need to do a few things:\n",
    "- Get the distinct `product_category_name` values so we use the `distinct()` function\n",
    "- Define the Translator to translate the text to English\n",
    "- Translate the `product_category_name` values into English and store it in a new column called `product_category_name_english`"
   ]
  },
  {
   "cell_type": "code",
   "execution_count": null,
   "metadata": {
    "application/vnd.databricks.v1+cell": {
     "cellMetadata": {
      "byteLimit": 2048000,
      "rowLimit": 10000
     },
     "inputWidgets": {},
     "nuid": "4474f9e6-721a-4b7d-aec1-bebfa441e21f",
     "showTitle": false,
     "title": ""
    }
   },
   "outputs": [
    {
     "data": {
      "text/html": [
       "<style scoped>\n",
       "  .table-result-container {\n",
       "    max-height: 300px;\n",
       "    overflow: auto;\n",
       "  }\n",
       "  table, th, td {\n",
       "    border: 1px solid black;\n",
       "    border-collapse: collapse;\n",
       "  }\n",
       "  th, td {\n",
       "    padding: 5px;\n",
       "  }\n",
       "  th {\n",
       "    text-align: left;\n",
       "  }\n",
       "</style><div class='table-result-container'><table class='table-result'><thead style='background-color: white'><tr><th>product_category_name</th><th>product_category_name_english</th></tr></thead><tbody><tr><td>portateis cozinha e preparadores de alimentos</td><td>portable kitchen and food preparers</td></tr><tr><td>pc gamer</td><td>pc gamer</td></tr></tbody></table></div>"
      ]
     },
     "metadata": {
      "application/vnd.databricks.v1+output": {
       "addedWidgets": {},
       "aggData": [],
       "aggError": "",
       "aggOverflow": false,
       "aggSchema": [],
       "aggSeriesLimitReached": false,
       "aggType": "",
       "arguments": {},
       "columnCustomDisplayInfos": {},
       "data": [
        [
         "portateis cozinha e preparadores de alimentos",
         "portable kitchen and food preparers"
        ],
        [
         "pc gamer",
         "pc gamer"
        ]
       ],
       "datasetInfos": [],
       "dbfsResultPath": null,
       "isJsonSchema": true,
       "metadata": {},
       "overflow": false,
       "plotOptions": {
        "customPlotOptions": {},
        "displayType": "table",
        "pivotAggregation": null,
        "pivotColumns": null,
        "xColumns": null,
        "yColumns": null
       },
       "removedWidgets": [],
       "schema": [
        {
         "metadata": "{}",
         "name": "product_category_name",
         "type": "\"string\""
        },
        {
         "metadata": "{}",
         "name": "product_category_name_english",
         "type": "\"string\""
        }
       ],
       "type": "table"
      }
     },
     "output_type": "display_data"
    }
   ],
   "source": [
    "inconsistent_rows = inconsistent_rows[['product_category_name']].distinct()\n",
    "\n",
    "translator = GoogleTranslator(source='pt', target='en')\n",
    "\n",
    "# we split the text into individual words and check the words one by one\n",
    "# afterwards, we join them back together to a single string and return it\n",
    "def translate_text(text):\n",
    "    if text is None or not isinstance(text, str) or len(text) == 0:\n",
    "        return None\n",
    "    \n",
    "    # Translates some text into English\n",
    "    translated = translator.translate(text)\n",
    "    \n",
    "    if translated is None or not isinstance(translated, str) or len(translated) == 0:\n",
    "        return None\n",
    "    return translated.strip()\n",
    "\n",
    "# Register the UDF\n",
    "translation_udf = udf(translate_text, StringType())\n",
    "\n",
    "inconsistent_rows = inconsistent_rows.withColumn(\n",
    "        'product_category_name_english', \n",
    "        translation_udf(inconsistent_rows['product_category_name'])\n",
    ")\n",
    "\n",
    "display(inconsistent_rows)"
   ]
  },
  {
   "cell_type": "markdown",
   "metadata": {
    "application/vnd.databricks.v1+cell": {
     "cellMetadata": {
      "byteLimit": 2048000,
      "rowLimit": 10000
     },
     "inputWidgets": {},
     "nuid": "8c5b2223-3282-4fa4-858c-1463d92d8abb",
     "showTitle": false,
     "title": ""
    }
   },
   "source": [
    "#### Add the new `product_category_name` values into the `product_categories_df`"
   ]
  },
  {
   "cell_type": "code",
   "execution_count": null,
   "metadata": {
    "application/vnd.databricks.v1+cell": {
     "cellMetadata": {
      "byteLimit": 2048000,
      "rowLimit": 10000
     },
     "inputWidgets": {},
     "nuid": "a9e373e5-1907-4f5c-9e5e-35df9e8e4cc9",
     "showTitle": false,
     "title": ""
    }
   },
   "outputs": [
    {
     "name": "stdout",
     "output_type": "stream",
     "text": [
      "Number of rows before: 71\n",
      "Number of rows after:  73\n"
     ]
    },
    {
     "data": {
      "text/html": [
       "<style scoped>\n",
       "  .table-result-container {\n",
       "    max-height: 300px;\n",
       "    overflow: auto;\n",
       "  }\n",
       "  table, th, td {\n",
       "    border: 1px solid black;\n",
       "    border-collapse: collapse;\n",
       "  }\n",
       "  th, td {\n",
       "    padding: 5px;\n",
       "  }\n",
       "  th {\n",
       "    text-align: left;\n",
       "  }\n",
       "</style><div class='table-result-container'><table class='table-result'><thead style='background-color: white'><tr><th>product_category_name</th><th>product_category_name_english</th></tr></thead><tbody><tr><td>beleza saude</td><td>health beauty</td></tr><tr><td>informatica acessorios</td><td>computers accessories</td></tr><tr><td>automotivo</td><td>auto</td></tr><tr><td>cama mesa banho</td><td>bed bath table</td></tr><tr><td>moveis decoracao</td><td>furniture decor</td></tr><tr><td>esporte lazer</td><td>sports leisure</td></tr><tr><td>perfumaria</td><td>perfumery</td></tr><tr><td>utilidades domesticas</td><td>housewares</td></tr><tr><td>telefonia</td><td>telephony</td></tr><tr><td>relogios presentes</td><td>watches gifts</td></tr><tr><td>alimentos bebidas</td><td>food drink</td></tr><tr><td>bebes</td><td>baby</td></tr><tr><td>papelaria</td><td>stationery</td></tr><tr><td>tablets impressao imagem</td><td>tablets printing image</td></tr><tr><td>brinquedos</td><td>toys</td></tr><tr><td>telefonia fixa</td><td>fixed telephony</td></tr><tr><td>ferramentas jardim</td><td>garden tools</td></tr><tr><td>fashion bolsas e acessorios</td><td>fashion bags accessories</td></tr><tr><td>eletroportateis</td><td>small appliances</td></tr><tr><td>consoles games</td><td>consoles games</td></tr><tr><td>audio</td><td>audio</td></tr><tr><td>fashion calcados</td><td>fashion shoes</td></tr><tr><td>cool stuff</td><td>cool stuff</td></tr><tr><td>malas acessorios</td><td>luggage accessories</td></tr><tr><td>climatizacao</td><td>air conditioning</td></tr><tr><td>construcao ferramentas construcao</td><td>construction tools construction</td></tr><tr><td>moveis cozinha area de servico jantar e jardim</td><td>kitchen dining laundry garden furniture</td></tr><tr><td>construcao ferramentas jardim</td><td>construction tools garden</td></tr><tr><td>fashion roupa masculina</td><td>fashion male clothing</td></tr><tr><td>pet shop</td><td>pet shop</td></tr><tr><td>moveis escritorio</td><td>office furniture</td></tr><tr><td>market place</td><td>market place</td></tr><tr><td>eletronicos</td><td>electronics</td></tr><tr><td>eletrodomesticos</td><td>home appliances</td></tr><tr><td>artigos de festas</td><td>party supplies</td></tr><tr><td>casa conforto</td><td>home comfort</td></tr><tr><td>construcao ferramentas ferramentas</td><td>construction tools tools</td></tr><tr><td>agro industria e comercio</td><td>agro industry and commerce</td></tr><tr><td>moveis colchao e estofado</td><td>furniture mattress and upholstery</td></tr><tr><td>livros tecnicos</td><td>books technical</td></tr><tr><td>casa construcao</td><td>home construction</td></tr><tr><td>instrumentos musicais</td><td>musical instruments</td></tr><tr><td>moveis sala</td><td>furniture living room</td></tr><tr><td>construcao ferramentas iluminacao</td><td>construction tools lights</td></tr><tr><td>industria comercio e negocios</td><td>industry commerce and business</td></tr><tr><td>alimentos</td><td>food</td></tr><tr><td>artes</td><td>art</td></tr><tr><td>moveis quarto</td><td>furniture bedroom</td></tr><tr><td>livros interesse geral</td><td>books general interest</td></tr><tr><td>construcao ferramentas seguranca</td><td>construction tools safety</td></tr><tr><td>fashion underwear e moda praia</td><td>fashion underwear beach</td></tr><tr><td>fashion esporte</td><td>fashion sport</td></tr><tr><td>sinalizacao e seguranca</td><td>signaling and security</td></tr><tr><td>pcs</td><td>computers</td></tr><tr><td>artigos de natal</td><td>christmas supplies</td></tr><tr><td>fashion roupa feminina</td><td>fashion female clothing</td></tr><tr><td>eletrodomesticos 2</td><td>home appliances 2</td></tr><tr><td>livros importados</td><td>books imported</td></tr><tr><td>bebidas</td><td>drinks</td></tr><tr><td>cine foto</td><td>cine photo</td></tr><tr><td>la cuisine</td><td>la cuisine</td></tr><tr><td>musica</td><td>music</td></tr><tr><td>casa conforto 2</td><td>home comfort 2</td></tr><tr><td>portateis casa forno e cafe</td><td>small appliances home oven and coffee</td></tr><tr><td>cds dvds musicais</td><td>cds dvds musicals</td></tr><tr><td>dvds blu ray</td><td>dvds blu ray</td></tr><tr><td>flores</td><td>flowers</td></tr><tr><td>artes e artesanato</td><td>arts and craftsmanship</td></tr><tr><td>fraldas higiene</td><td>diapers and hygiene</td></tr><tr><td>fashion roupa infanto juvenil</td><td>fashion children clothes</td></tr><tr><td>seguros e servicos</td><td>security and services</td></tr><tr><td>portateis cozinha e preparadores de alimentos</td><td>portable kitchen and food preparers</td></tr><tr><td>pc gamer</td><td>pc gamer</td></tr></tbody></table></div>"
      ]
     },
     "metadata": {
      "application/vnd.databricks.v1+output": {
       "addedWidgets": {},
       "aggData": [],
       "aggError": "",
       "aggOverflow": false,
       "aggSchema": [],
       "aggSeriesLimitReached": false,
       "aggType": "",
       "arguments": {},
       "columnCustomDisplayInfos": {},
       "data": [
        [
         "beleza saude",
         "health beauty"
        ],
        [
         "informatica acessorios",
         "computers accessories"
        ],
        [
         "automotivo",
         "auto"
        ],
        [
         "cama mesa banho",
         "bed bath table"
        ],
        [
         "moveis decoracao",
         "furniture decor"
        ],
        [
         "esporte lazer",
         "sports leisure"
        ],
        [
         "perfumaria",
         "perfumery"
        ],
        [
         "utilidades domesticas",
         "housewares"
        ],
        [
         "telefonia",
         "telephony"
        ],
        [
         "relogios presentes",
         "watches gifts"
        ],
        [
         "alimentos bebidas",
         "food drink"
        ],
        [
         "bebes",
         "baby"
        ],
        [
         "papelaria",
         "stationery"
        ],
        [
         "tablets impressao imagem",
         "tablets printing image"
        ],
        [
         "brinquedos",
         "toys"
        ],
        [
         "telefonia fixa",
         "fixed telephony"
        ],
        [
         "ferramentas jardim",
         "garden tools"
        ],
        [
         "fashion bolsas e acessorios",
         "fashion bags accessories"
        ],
        [
         "eletroportateis",
         "small appliances"
        ],
        [
         "consoles games",
         "consoles games"
        ],
        [
         "audio",
         "audio"
        ],
        [
         "fashion calcados",
         "fashion shoes"
        ],
        [
         "cool stuff",
         "cool stuff"
        ],
        [
         "malas acessorios",
         "luggage accessories"
        ],
        [
         "climatizacao",
         "air conditioning"
        ],
        [
         "construcao ferramentas construcao",
         "construction tools construction"
        ],
        [
         "moveis cozinha area de servico jantar e jardim",
         "kitchen dining laundry garden furniture"
        ],
        [
         "construcao ferramentas jardim",
         "construction tools garden"
        ],
        [
         "fashion roupa masculina",
         "fashion male clothing"
        ],
        [
         "pet shop",
         "pet shop"
        ],
        [
         "moveis escritorio",
         "office furniture"
        ],
        [
         "market place",
         "market place"
        ],
        [
         "eletronicos",
         "electronics"
        ],
        [
         "eletrodomesticos",
         "home appliances"
        ],
        [
         "artigos de festas",
         "party supplies"
        ],
        [
         "casa conforto",
         "home comfort"
        ],
        [
         "construcao ferramentas ferramentas",
         "construction tools tools"
        ],
        [
         "agro industria e comercio",
         "agro industry and commerce"
        ],
        [
         "moveis colchao e estofado",
         "furniture mattress and upholstery"
        ],
        [
         "livros tecnicos",
         "books technical"
        ],
        [
         "casa construcao",
         "home construction"
        ],
        [
         "instrumentos musicais",
         "musical instruments"
        ],
        [
         "moveis sala",
         "furniture living room"
        ],
        [
         "construcao ferramentas iluminacao",
         "construction tools lights"
        ],
        [
         "industria comercio e negocios",
         "industry commerce and business"
        ],
        [
         "alimentos",
         "food"
        ],
        [
         "artes",
         "art"
        ],
        [
         "moveis quarto",
         "furniture bedroom"
        ],
        [
         "livros interesse geral",
         "books general interest"
        ],
        [
         "construcao ferramentas seguranca",
         "construction tools safety"
        ],
        [
         "fashion underwear e moda praia",
         "fashion underwear beach"
        ],
        [
         "fashion esporte",
         "fashion sport"
        ],
        [
         "sinalizacao e seguranca",
         "signaling and security"
        ],
        [
         "pcs",
         "computers"
        ],
        [
         "artigos de natal",
         "christmas supplies"
        ],
        [
         "fashion roupa feminina",
         "fashion female clothing"
        ],
        [
         "eletrodomesticos 2",
         "home appliances 2"
        ],
        [
         "livros importados",
         "books imported"
        ],
        [
         "bebidas",
         "drinks"
        ],
        [
         "cine foto",
         "cine photo"
        ],
        [
         "la cuisine",
         "la cuisine"
        ],
        [
         "musica",
         "music"
        ],
        [
         "casa conforto 2",
         "home comfort 2"
        ],
        [
         "portateis casa forno e cafe",
         "small appliances home oven and coffee"
        ],
        [
         "cds dvds musicais",
         "cds dvds musicals"
        ],
        [
         "dvds blu ray",
         "dvds blu ray"
        ],
        [
         "flores",
         "flowers"
        ],
        [
         "artes e artesanato",
         "arts and craftsmanship"
        ],
        [
         "fraldas higiene",
         "diapers and hygiene"
        ],
        [
         "fashion roupa infanto juvenil",
         "fashion children clothes"
        ],
        [
         "seguros e servicos",
         "security and services"
        ],
        [
         "portateis cozinha e preparadores de alimentos",
         "portable kitchen and food preparers"
        ],
        [
         "pc gamer",
         "pc gamer"
        ]
       ],
       "datasetInfos": [],
       "dbfsResultPath": null,
       "isJsonSchema": true,
       "metadata": {},
       "overflow": false,
       "plotOptions": {
        "customPlotOptions": {},
        "displayType": "table",
        "pivotAggregation": null,
        "pivotColumns": null,
        "xColumns": null,
        "yColumns": null
       },
       "removedWidgets": [],
       "schema": [
        {
         "metadata": "{}",
         "name": "product_category_name",
         "type": "\"string\""
        },
        {
         "metadata": "{}",
         "name": "product_category_name_english",
         "type": "\"string\""
        }
       ],
       "type": "table"
      }
     },
     "output_type": "display_data"
    }
   ],
   "source": [
    "before_transform_row_count = product_categories_df.count()\n",
    "product_categories_df = product_categories_df.union(inconsistent_rows)\n",
    "\n",
    "print(f\"Number of rows before: {before_transform_row_count}\")\n",
    "print(f\"Number of rows after:  {product_categories_df.count()}\")\n",
    "display(product_categories_df)"
   ]
  },
  {
   "cell_type": "markdown",
   "metadata": {
    "application/vnd.databricks.v1+cell": {
     "cellMetadata": {
      "byteLimit": 2048000,
      "rowLimit": 10000
     },
     "inputWidgets": {},
     "nuid": "33460fae-e630-4f63-bd0c-22aa21eed586",
     "showTitle": false,
     "title": ""
    }
   },
   "source": [
    "<section id=\"section_2i\">\n",
    "    <h3 style=\"text-align: center\">Section 2-I: The <code>order_reviews</code> data</h3>\n",
    "    <h4>Read in the parquet file and store inside a DataFrame called <code>order_reviews_df</code></h4>\n",
    "</section>"
   ]
  },
  {
   "cell_type": "code",
   "execution_count": null,
   "metadata": {
    "application/vnd.databricks.v1+cell": {
     "cellMetadata": {
      "byteLimit": 2048000,
      "rowLimit": 10000
     },
     "inputWidgets": {},
     "nuid": "aabafa76-b7df-4582-83e0-d1ae7c3baef9",
     "showTitle": false,
     "title": ""
    }
   },
   "outputs": [
    {
     "name": "stdout",
     "output_type": "stream",
     "text": [
      "Order review data loaded successfully.\n"
     ]
    }
   ],
   "source": [
    "order_reviews_df = spark.read.format('parquet')\\\n",
    "                             .options(nullValues='', sep=\",\", quote='\"', escape='\"', multiLine='True')\\\n",
    "                             .load(f\"{read_path}{order_reviews}/{order_reviews}.parquet\")\n",
    "\n",
    "logging.info(\"Order review data loaded successfully.\")\n",
    "print(\"Order review data loaded successfully.\")\n",
    "\n",
    "# get columns with NULL values\n",
    "order_reviews_null_columns = {col: order_reviews_df.filter(order_reviews_df[col].isNull()).count() > 0 for col in order_reviews_df.columns}\n",
    "if True in order_reviews_null_columns.values():\n",
    "    na_columns = [col for col in order_reviews_null_columns.keys() if order_reviews_null_columns[col] == True]\n",
    "    na_columns = ', '.join(na_columns)\n",
    "    logging.warning(f\"Detected columns with NA values: {na_columns}\")"
   ]
  },
  {
   "cell_type": "code",
   "execution_count": null,
   "metadata": {
    "application/vnd.databricks.v1+cell": {
     "cellMetadata": {
      "byteLimit": 2048000,
      "rowLimit": 10000
     },
     "inputWidgets": {},
     "nuid": "b157cbe2-02ac-4d59-8417-6d7f88bcfa39",
     "showTitle": false,
     "title": ""
    }
   },
   "outputs": [
    {
     "data": {
      "text/html": [
       "<style scoped>\n",
       "  .table-result-container {\n",
       "    max-height: 300px;\n",
       "    overflow: auto;\n",
       "  }\n",
       "  table, th, td {\n",
       "    border: 1px solid black;\n",
       "    border-collapse: collapse;\n",
       "  }\n",
       "  th, td {\n",
       "    padding: 5px;\n",
       "  }\n",
       "  th {\n",
       "    text-align: left;\n",
       "  }\n",
       "</style><div class='table-result-container'><table class='table-result'><thead style='background-color: white'><tr><th>review_id</th><th>order_id</th><th>review_score</th><th>review_comment_title</th><th>review_comment_message</th><th>review_creation_date</th><th>review_answer_timestamp</th></tr></thead><tbody><tr><td>99224</td><td>99224</td><td>99224</td><td>11568</td><td>40977</td><td>99224</td><td>99224</td></tr></tbody></table></div>"
      ]
     },
     "metadata": {
      "application/vnd.databricks.v1+output": {
       "addedWidgets": {},
       "aggData": [],
       "aggError": "",
       "aggOverflow": false,
       "aggSchema": [],
       "aggSeriesLimitReached": false,
       "aggType": "",
       "arguments": {},
       "columnCustomDisplayInfos": {},
       "data": [
        [
         99224,
         99224,
         99224,
         11568,
         40977,
         99224,
         99224
        ]
       ],
       "datasetInfos": [],
       "dbfsResultPath": null,
       "isJsonSchema": true,
       "metadata": {},
       "overflow": false,
       "plotOptions": {
        "customPlotOptions": {},
        "displayType": "table",
        "pivotAggregation": null,
        "pivotColumns": null,
        "xColumns": null,
        "yColumns": null
       },
       "removedWidgets": [],
       "schema": [
        {
         "metadata": "{}",
         "name": "review_id",
         "type": "\"long\""
        },
        {
         "metadata": "{}",
         "name": "order_id",
         "type": "\"long\""
        },
        {
         "metadata": "{}",
         "name": "review_score",
         "type": "\"long\""
        },
        {
         "metadata": "{}",
         "name": "review_comment_title",
         "type": "\"long\""
        },
        {
         "metadata": "{}",
         "name": "review_comment_message",
         "type": "\"long\""
        },
        {
         "metadata": "{}",
         "name": "review_creation_date",
         "type": "\"long\""
        },
        {
         "metadata": "{}",
         "name": "review_answer_timestamp",
         "type": "\"long\""
        }
       ],
       "type": "table"
      }
     },
     "output_type": "display_data"
    }
   ],
   "source": [
    "from pyspark.sql.functions import *\n",
    "\n",
    "# prints the number of non-null values in the dataframe\n",
    "display(order_reviews_df.select([count(when(col(c).isNotNull(), c)).alias(c) for c in order_reviews_df.columns]))"
   ]
  },
  {
   "cell_type": "code",
   "execution_count": null,
   "metadata": {
    "application/vnd.databricks.v1+cell": {
     "cellMetadata": {
      "byteLimit": 2048000,
      "rowLimit": 10000
     },
     "inputWidgets": {},
     "nuid": "97dbb41c-9f00-451b-8179-aa247b5d5b16",
     "showTitle": false,
     "title": ""
    }
   },
   "outputs": [
    {
     "name": "stdout",
     "output_type": "stream",
     "text": [
      "root\n",
      " |-- review_id: string (nullable = true)\n",
      " |-- order_id: string (nullable = true)\n",
      " |-- review_score: integer (nullable = true)\n",
      " |-- review_comment_title: string (nullable = true)\n",
      " |-- review_comment_message: string (nullable = true)\n",
      " |-- review_creation_date: timestamp (nullable = true)\n",
      " |-- review_answer_timestamp: timestamp (nullable = true)\n",
      "\n"
     ]
    }
   ],
   "source": [
    "order_reviews_df.printSchema()"
   ]
  },
  {
   "cell_type": "code",
   "execution_count": null,
   "metadata": {
    "application/vnd.databricks.v1+cell": {
     "cellMetadata": {
      "byteLimit": 2048000,
      "rowLimit": 10000
     },
     "inputWidgets": {},
     "nuid": "2ba1c75a-fbd5-41f9-ae57-719f4a014396",
     "showTitle": false,
     "title": ""
    }
   },
   "outputs": [
    {
     "data": {
      "text/html": [
       "<style scoped>\n",
       "  .table-result-container {\n",
       "    max-height: 300px;\n",
       "    overflow: auto;\n",
       "  }\n",
       "  table, th, td {\n",
       "    border: 1px solid black;\n",
       "    border-collapse: collapse;\n",
       "  }\n",
       "  th, td {\n",
       "    padding: 5px;\n",
       "  }\n",
       "  th {\n",
       "    text-align: left;\n",
       "  }\n",
       "</style><div class='table-result-container'><table class='table-result'><thead style='background-color: white'><tr><th>review_id</th><th>order_id</th><th>review_score</th><th>review_comment_title</th><th>review_comment_message</th><th>review_creation_date</th><th>review_answer_timestamp</th></tr></thead><tbody><tr><td>7bc2406110b926393aa56f80a40eba40</td><td>73fc7af87114b39712e6da79b0a377eb</td><td>4</td><td>null</td><td>null</td><td>2018-01-18T00:00:00Z</td><td>2018-01-18T21:46:59Z</td></tr><tr><td>80e641a11e56f04c1ad469d5645fdfde</td><td>a548910a1c6147796b98fdf73dbeba33</td><td>5</td><td>null</td><td>null</td><td>2018-03-10T00:00:00Z</td><td>2018-03-11T03:05:13Z</td></tr><tr><td>228ce5500dc1d8e020d8d1322874b6f0</td><td>f9e4b658b201a9f2ecdecbb34bed034b</td><td>5</td><td>null</td><td>null</td><td>2018-02-17T00:00:00Z</td><td>2018-02-18T14:36:24Z</td></tr><tr><td>e64fb393e7b32834bb789ff8bb30750e</td><td>658677c97b385a9be170737859d3511b</td><td>5</td><td>null</td><td>Recebi bem antes do prazo estipulado.</td><td>2017-04-21T00:00:00Z</td><td>2017-04-21T22:02:06Z</td></tr><tr><td>f7c4243c7fe1938f181bec41a392bdeb</td><td>8e6bfb81e283fa7e4f11123a3fb894f1</td><td>5</td><td>null</td><td>Parabéns lojas lannister adorei comprar pela Internet seguro e prático Parabéns a todos feliz Páscoa</td><td>2018-03-01T00:00:00Z</td><td>2018-03-02T10:26:53Z</td></tr><tr><td>15197aa66ff4d0650b5434f1b46cda19</td><td>b18dcdf73be66366873cd26c5724d1dc</td><td>1</td><td>null</td><td>null</td><td>2018-04-13T00:00:00Z</td><td>2018-04-16T00:39:37Z</td></tr><tr><td>07f9bee5d1b850860defd761afa7ff16</td><td>e48aa0d2dcec3a2e87348811bcfdf22b</td><td>5</td><td>null</td><td>null</td><td>2017-07-16T00:00:00Z</td><td>2017-07-18T19:30:34Z</td></tr><tr><td>7c6400515c67679fbee952a7525281ef</td><td>c31a859e34e3adac22f376954e19b39d</td><td>5</td><td>null</td><td>null</td><td>2018-08-14T00:00:00Z</td><td>2018-08-14T21:36:06Z</td></tr><tr><td>a3f6f7f6f433de0aefbb97da197c554c</td><td>9c214ac970e84273583ab523dfafd09b</td><td>5</td><td>null</td><td>null</td><td>2017-05-17T00:00:00Z</td><td>2017-05-18T12:05:37Z</td></tr><tr><td>8670d52e15e00043ae7de4c01cc2fe06</td><td>b9bf720beb4ab3728760088589c62129</td><td>4</td><td>recomendo</td><td>aparelho eficiente. no site a marca do aparelho esta impresso como 3desinfector e ao chegar esta com outro nome...atualizar com a marca correta uma vez que é o mesmo aparelho</td><td>2018-05-22T00:00:00Z</td><td>2018-05-23T16:45:47Z</td></tr></tbody></table></div>"
      ]
     },
     "metadata": {
      "application/vnd.databricks.v1+output": {
       "addedWidgets": {},
       "aggData": [],
       "aggError": "",
       "aggOverflow": false,
       "aggSchema": [],
       "aggSeriesLimitReached": false,
       "aggType": "",
       "arguments": {},
       "columnCustomDisplayInfos": {},
       "data": [
        [
         "7bc2406110b926393aa56f80a40eba40",
         "73fc7af87114b39712e6da79b0a377eb",
         4,
         null,
         null,
         "2018-01-18T00:00:00Z",
         "2018-01-18T21:46:59Z"
        ],
        [
         "80e641a11e56f04c1ad469d5645fdfde",
         "a548910a1c6147796b98fdf73dbeba33",
         5,
         null,
         null,
         "2018-03-10T00:00:00Z",
         "2018-03-11T03:05:13Z"
        ],
        [
         "228ce5500dc1d8e020d8d1322874b6f0",
         "f9e4b658b201a9f2ecdecbb34bed034b",
         5,
         null,
         null,
         "2018-02-17T00:00:00Z",
         "2018-02-18T14:36:24Z"
        ],
        [
         "e64fb393e7b32834bb789ff8bb30750e",
         "658677c97b385a9be170737859d3511b",
         5,
         null,
         "Recebi bem antes do prazo estipulado.",
         "2017-04-21T00:00:00Z",
         "2017-04-21T22:02:06Z"
        ],
        [
         "f7c4243c7fe1938f181bec41a392bdeb",
         "8e6bfb81e283fa7e4f11123a3fb894f1",
         5,
         null,
         "Parabéns lojas lannister adorei comprar pela Internet seguro e prático Parabéns a todos feliz Páscoa",
         "2018-03-01T00:00:00Z",
         "2018-03-02T10:26:53Z"
        ],
        [
         "15197aa66ff4d0650b5434f1b46cda19",
         "b18dcdf73be66366873cd26c5724d1dc",
         1,
         null,
         null,
         "2018-04-13T00:00:00Z",
         "2018-04-16T00:39:37Z"
        ],
        [
         "07f9bee5d1b850860defd761afa7ff16",
         "e48aa0d2dcec3a2e87348811bcfdf22b",
         5,
         null,
         null,
         "2017-07-16T00:00:00Z",
         "2017-07-18T19:30:34Z"
        ],
        [
         "7c6400515c67679fbee952a7525281ef",
         "c31a859e34e3adac22f376954e19b39d",
         5,
         null,
         null,
         "2018-08-14T00:00:00Z",
         "2018-08-14T21:36:06Z"
        ],
        [
         "a3f6f7f6f433de0aefbb97da197c554c",
         "9c214ac970e84273583ab523dfafd09b",
         5,
         null,
         null,
         "2017-05-17T00:00:00Z",
         "2017-05-18T12:05:37Z"
        ],
        [
         "8670d52e15e00043ae7de4c01cc2fe06",
         "b9bf720beb4ab3728760088589c62129",
         4,
         "recomendo",
         "aparelho eficiente. no site a marca do aparelho esta impresso como 3desinfector e ao chegar esta com outro nome...atualizar com a marca correta uma vez que é o mesmo aparelho",
         "2018-05-22T00:00:00Z",
         "2018-05-23T16:45:47Z"
        ]
       ],
       "datasetInfos": [],
       "dbfsResultPath": null,
       "isJsonSchema": true,
       "metadata": {},
       "overflow": false,
       "plotOptions": {
        "customPlotOptions": {},
        "displayType": "table",
        "pivotAggregation": null,
        "pivotColumns": null,
        "xColumns": null,
        "yColumns": null
       },
       "removedWidgets": [],
       "schema": [
        {
         "metadata": "{}",
         "name": "review_id",
         "type": "\"string\""
        },
        {
         "metadata": "{}",
         "name": "order_id",
         "type": "\"string\""
        },
        {
         "metadata": "{}",
         "name": "review_score",
         "type": "\"integer\""
        },
        {
         "metadata": "{}",
         "name": "review_comment_title",
         "type": "\"string\""
        },
        {
         "metadata": "{}",
         "name": "review_comment_message",
         "type": "\"string\""
        },
        {
         "metadata": "{}",
         "name": "review_creation_date",
         "type": "\"timestamp\""
        },
        {
         "metadata": "{}",
         "name": "review_answer_timestamp",
         "type": "\"timestamp\""
        }
       ],
       "type": "table"
      }
     },
     "output_type": "display_data"
    }
   ],
   "source": [
    "display(order_reviews_df.limit(10))"
   ]
  },
  {
   "cell_type": "code",
   "execution_count": null,
   "metadata": {
    "application/vnd.databricks.v1+cell": {
     "cellMetadata": {
      "byteLimit": 2048000,
      "rowLimit": 10000
     },
     "inputWidgets": {},
     "nuid": "96592bee-d2f9-42e7-8061-e23230df6a07",
     "showTitle": false,
     "title": ""
    }
   },
   "outputs": [
    {
     "data": {
      "text/plain": [
       "99224"
      ]
     },
     "execution_count": 67,
     "metadata": {},
     "output_type": "execute_result"
    }
   ],
   "source": [
    "before_transform_row_count = order_reviews_df.count()\n",
    "before_transform_row_count"
   ]
  },
  {
   "cell_type": "markdown",
   "metadata": {
    "application/vnd.databricks.v1+cell": {
     "cellMetadata": {
      "byteLimit": 2048000,
      "rowLimit": 10000
     },
     "inputWidgets": {},
     "nuid": "b684e872-8004-40be-a091-75de9dd7542c",
     "showTitle": false,
     "title": ""
    }
   },
   "source": [
    "#### Problems and Possible Improvements:\n",
    "\n",
    "As seen in the outputs from the cells above, there are some things that we needs to be fixed and some improvements that can be done:\n",
    "\n",
    "1. We need to change the data type of the `review_creation_date` column to the Date data type.\n",
    "\n",
    "2. We need to check if the values under the `order_id` exists inside the `orders_df`. If they don't, we need to remove those records.\n",
    "\n",
    "3. We can remove the `review_comment_title` and `review_comment_message` columns which are in Portuguese and would be difficult to translate them into English. We also think that they would not be beneficial to our analysis on the data."
   ]
  },
  {
   "cell_type": "markdown",
   "metadata": {
    "application/vnd.databricks.v1+cell": {
     "cellMetadata": {
      "byteLimit": 2048000,
      "rowLimit": 10000
     },
     "inputWidgets": {},
     "nuid": "fd368942-d362-4fb4-8f70-c4d1da27f4ce",
     "showTitle": false,
     "title": ""
    }
   },
   "source": [
    "#### Change the data type of the `review_creation_date` column to `DateType()`"
   ]
  },
  {
   "cell_type": "code",
   "execution_count": null,
   "metadata": {
    "application/vnd.databricks.v1+cell": {
     "cellMetadata": {
      "byteLimit": 2048000,
      "rowLimit": 10000
     },
     "inputWidgets": {},
     "nuid": "11655267-95f7-4bf7-84e9-0509f0e4784c",
     "showTitle": false,
     "title": ""
    }
   },
   "outputs": [
    {
     "name": "stdout",
     "output_type": "stream",
     "text": [
      "root\n",
      " |-- review_id: string (nullable = true)\n",
      " |-- order_id: string (nullable = true)\n",
      " |-- review_score: integer (nullable = true)\n",
      " |-- review_comment_title: string (nullable = true)\n",
      " |-- review_comment_message: string (nullable = true)\n",
      " |-- review_creation_date: date (nullable = true)\n",
      " |-- review_answer_timestamp: timestamp (nullable = true)\n",
      "\n"
     ]
    }
   ],
   "source": [
    "order_reviews_df = order_reviews_df.withColumn(\n",
    "    'review_creation_date', \n",
    "    order_reviews_df['review_creation_date'].cast(DateType())\n",
    ")\n",
    "\n",
    "order_reviews_df.printSchema()"
   ]
  },
  {
   "cell_type": "markdown",
   "metadata": {
    "application/vnd.databricks.v1+cell": {
     "cellMetadata": {
      "byteLimit": 2048000,
      "rowLimit": 10000
     },
     "inputWidgets": {},
     "nuid": "78c8396b-0801-4850-9a95-ee58c1e1c28a",
     "showTitle": false,
     "title": ""
    }
   },
   "source": [
    "#### Find rows where the `order_id` does not exist inside the `orders_df`\n",
    "\n",
    "Fortunately, there are no problems with invalid `order_id`."
   ]
  },
  {
   "cell_type": "code",
   "execution_count": null,
   "metadata": {
    "application/vnd.databricks.v1+cell": {
     "cellMetadata": {
      "byteLimit": 2048000,
      "rowLimit": 10000
     },
     "inputWidgets": {},
     "nuid": "e65cc7b2-b3c7-4454-a37b-812ce599038a",
     "showTitle": false,
     "title": ""
    }
   },
   "outputs": [
    {
     "name": "stdout",
     "output_type": "stream",
     "text": [
      "Number of inconsistent rows: 0\n"
     ]
    },
    {
     "data": {
      "text/html": [
       "<style scoped>\n",
       "  .table-result-container {\n",
       "    max-height: 300px;\n",
       "    overflow: auto;\n",
       "  }\n",
       "  table, th, td {\n",
       "    border: 1px solid black;\n",
       "    border-collapse: collapse;\n",
       "  }\n",
       "  th, td {\n",
       "    padding: 5px;\n",
       "  }\n",
       "  th {\n",
       "    text-align: left;\n",
       "  }\n",
       "</style><div class='table-result-container'><table class='table-result'><thead style='background-color: white'><tr><th>review_id</th><th>order_id</th><th>review_score</th><th>review_comment_title</th><th>review_comment_message</th><th>review_creation_date</th><th>review_answer_timestamp</th></tr></thead><tbody></tbody></table></div>"
      ]
     },
     "metadata": {
      "application/vnd.databricks.v1+output": {
       "addedWidgets": {},
       "aggData": [],
       "aggError": "",
       "aggOverflow": false,
       "aggSchema": [],
       "aggSeriesLimitReached": false,
       "aggType": "",
       "arguments": {},
       "columnCustomDisplayInfos": {},
       "data": [],
       "datasetInfos": [],
       "dbfsResultPath": null,
       "isJsonSchema": true,
       "metadata": {},
       "overflow": false,
       "plotOptions": {
        "customPlotOptions": {},
        "displayType": "table",
        "pivotAggregation": null,
        "pivotColumns": null,
        "xColumns": null,
        "yColumns": null
       },
       "removedWidgets": [],
       "schema": [
        {
         "metadata": "{}",
         "name": "review_id",
         "type": "\"string\""
        },
        {
         "metadata": "{}",
         "name": "order_id",
         "type": "\"string\""
        },
        {
         "metadata": "{}",
         "name": "review_score",
         "type": "\"integer\""
        },
        {
         "metadata": "{}",
         "name": "review_comment_title",
         "type": "\"string\""
        },
        {
         "metadata": "{}",
         "name": "review_comment_message",
         "type": "\"string\""
        },
        {
         "metadata": "{}",
         "name": "review_creation_date",
         "type": "\"date\""
        },
        {
         "metadata": "{}",
         "name": "review_answer_timestamp",
         "type": "\"timestamp\""
        }
       ],
       "type": "table"
      }
     },
     "output_type": "display_data"
    }
   ],
   "source": [
    "# Join order_reviews_df with orders_df to find non-matching order_id\n",
    "inconsistent_rows = order_reviews_df.join(\n",
    "    orders_df,\n",
    "    order_reviews_df['order_id'] == orders_df['order_id'],\n",
    "    'left_anti'\n",
    ")\n",
    "\n",
    "print(f\"Number of inconsistent rows: {inconsistent_rows.count()}\")\n",
    "display(inconsistent_rows)"
   ]
  },
  {
   "cell_type": "markdown",
   "metadata": {
    "application/vnd.databricks.v1+cell": {
     "cellMetadata": {
      "byteLimit": 2048000,
      "rowLimit": 10000
     },
     "inputWidgets": {},
     "nuid": "331b5b2d-6fc6-4c0d-8b09-32c090e7ed00",
     "showTitle": false,
     "title": ""
    }
   },
   "source": [
    "#### Remove the `review_comment_title` and `review_comment_message` columns."
   ]
  },
  {
   "cell_type": "code",
   "execution_count": null,
   "metadata": {
    "application/vnd.databricks.v1+cell": {
     "cellMetadata": {
      "byteLimit": 2048000,
      "rowLimit": 10000
     },
     "inputWidgets": {},
     "nuid": "4877c744-83ff-47e8-b547-2c455b6ca2a3",
     "showTitle": false,
     "title": ""
    }
   },
   "outputs": [
    {
     "name": "stdout",
     "output_type": "stream",
     "text": [
      "root\n",
      " |-- review_id: string (nullable = true)\n",
      " |-- order_id: string (nullable = true)\n",
      " |-- review_score: integer (nullable = true)\n",
      " |-- review_creation_date: date (nullable = true)\n",
      " |-- review_answer_timestamp: timestamp (nullable = true)\n",
      "\n"
     ]
    }
   ],
   "source": [
    "order_reviews_df = order_reviews_df.drop('review_comment_title', 'review_comment_message')\n",
    "\n",
    "order_reviews_df.printSchema()"
   ]
  },
  {
   "cell_type": "markdown",
   "metadata": {
    "application/vnd.databricks.v1+cell": {
     "cellMetadata": {
      "byteLimit": 2048000,
      "rowLimit": 10000
     },
     "inputWidgets": {},
     "nuid": "976160d7-1c89-4003-9800-8951547fe342",
     "showTitle": false,
     "title": ""
    }
   },
   "source": [
    "#### As you can see below, no data in `order_reviews_df` is lost during the transformation process."
   ]
  },
  {
   "cell_type": "code",
   "execution_count": null,
   "metadata": {
    "application/vnd.databricks.v1+cell": {
     "cellMetadata": {
      "byteLimit": 2048000,
      "rowLimit": 10000
     },
     "inputWidgets": {},
     "nuid": "e5087c56-8af5-4c58-ac14-9d0800a2e5a7",
     "showTitle": false,
     "title": ""
    }
   },
   "outputs": [
    {
     "name": "stdout",
     "output_type": "stream",
     "text": [
      "Before cleaning: 99224\n",
      "After cleaning:  99224\n",
      "Lost records:    0\n"
     ]
    }
   ],
   "source": [
    "print(f\"Before cleaning: {before_transform_row_count}\")\n",
    "print(f\"After cleaning:  {order_reviews_df.count()}\")\n",
    "print(f\"Lost records:    {before_transform_row_count - order_reviews_df.count()}\")"
   ]
  },
  {
   "cell_type": "markdown",
   "metadata": {
    "application/vnd.databricks.v1+cell": {
     "cellMetadata": {
      "byteLimit": 2048000,
      "rowLimit": 10000
     },
     "inputWidgets": {},
     "nuid": "88b1acdd-3af2-4a2c-8f25-81080f878cbb",
     "showTitle": false,
     "title": ""
    }
   },
   "source": [
    "<section id=\"section_2j\">\n",
    "    <h3 style=\"text-align: center\">Section 2-J: The <code>order_items</code> data</h3>\n",
    "    <h4>Read in the parquet file and store inside a DataFrame called <code>order_items_df</code></h4>\n",
    "</section>"
   ]
  },
  {
   "cell_type": "code",
   "execution_count": null,
   "metadata": {
    "application/vnd.databricks.v1+cell": {
     "cellMetadata": {
      "byteLimit": 2048000,
      "rowLimit": 10000
     },
     "inputWidgets": {},
     "nuid": "a361e06c-0b80-4ef4-85ea-d59237d0e813",
     "showTitle": false,
     "title": ""
    }
   },
   "outputs": [
    {
     "name": "stdout",
     "output_type": "stream",
     "text": [
      "Order item data loaded successfully.\n"
     ]
    }
   ],
   "source": [
    "order_items_df = spark.read.format('parquet')\\\n",
    "                             .options(nullValues='', sep=\",\")\\\n",
    "                             .load(f\"{read_path}{order_items}/{order_items}.parquet\")\n",
    "\n",
    "logging.info(\"Order item data loaded successfully.\")\n",
    "print(\"Order item data loaded successfully.\")\n",
    "\n",
    "# get columns with NULL values\n",
    "order_items_null_columns = {col: order_items_df.filter(order_items_df[col].isNull()).count() > 0 for col in order_items_df.columns}\n",
    "if True in order_items_null_columns.values():\n",
    "    na_columns = [col for col in order_items_null_columns.keys() if order_items_null_columns[col] == True]\n",
    "    na_columns = ', '.join(na_columns)\n",
    "    logging.warning(f\"Detected columns with NA values: {na_columns}\")"
   ]
  },
  {
   "cell_type": "code",
   "execution_count": null,
   "metadata": {
    "application/vnd.databricks.v1+cell": {
     "cellMetadata": {
      "byteLimit": 2048000,
      "rowLimit": 10000
     },
     "inputWidgets": {},
     "nuid": "ebd665ea-91d3-4b8d-af66-3848b8bd9df1",
     "showTitle": false,
     "title": ""
    }
   },
   "outputs": [
    {
     "data": {
      "text/html": [
       "<style scoped>\n",
       "  .table-result-container {\n",
       "    max-height: 300px;\n",
       "    overflow: auto;\n",
       "  }\n",
       "  table, th, td {\n",
       "    border: 1px solid black;\n",
       "    border-collapse: collapse;\n",
       "  }\n",
       "  th, td {\n",
       "    padding: 5px;\n",
       "  }\n",
       "  th {\n",
       "    text-align: left;\n",
       "  }\n",
       "</style><div class='table-result-container'><table class='table-result'><thead style='background-color: white'><tr><th>order_id</th><th>order_item_id</th><th>product_id</th><th>seller_id</th><th>shipping_limit_date</th><th>price</th><th>freight_value</th></tr></thead><tbody><tr><td>112650</td><td>112650</td><td>112650</td><td>112650</td><td>112650</td><td>112650</td><td>112650</td></tr></tbody></table></div>"
      ]
     },
     "metadata": {
      "application/vnd.databricks.v1+output": {
       "addedWidgets": {},
       "aggData": [],
       "aggError": "",
       "aggOverflow": false,
       "aggSchema": [],
       "aggSeriesLimitReached": false,
       "aggType": "",
       "arguments": {},
       "columnCustomDisplayInfos": {},
       "data": [
        [
         112650,
         112650,
         112650,
         112650,
         112650,
         112650,
         112650
        ]
       ],
       "datasetInfos": [],
       "dbfsResultPath": null,
       "isJsonSchema": true,
       "metadata": {},
       "overflow": false,
       "plotOptions": {
        "customPlotOptions": {},
        "displayType": "table",
        "pivotAggregation": null,
        "pivotColumns": null,
        "xColumns": null,
        "yColumns": null
       },
       "removedWidgets": [],
       "schema": [
        {
         "metadata": "{}",
         "name": "order_id",
         "type": "\"long\""
        },
        {
         "metadata": "{}",
         "name": "order_item_id",
         "type": "\"long\""
        },
        {
         "metadata": "{}",
         "name": "product_id",
         "type": "\"long\""
        },
        {
         "metadata": "{}",
         "name": "seller_id",
         "type": "\"long\""
        },
        {
         "metadata": "{}",
         "name": "shipping_limit_date",
         "type": "\"long\""
        },
        {
         "metadata": "{}",
         "name": "price",
         "type": "\"long\""
        },
        {
         "metadata": "{}",
         "name": "freight_value",
         "type": "\"long\""
        }
       ],
       "type": "table"
      }
     },
     "output_type": "display_data"
    }
   ],
   "source": [
    "from pyspark.sql.functions import *\n",
    "\n",
    "# prints the number of non-null values in the dataframe\n",
    "display(order_items_df.select([count(when(col(c).isNotNull(), c)).alias(c) for c in order_items_df.columns]))"
   ]
  },
  {
   "cell_type": "code",
   "execution_count": null,
   "metadata": {
    "application/vnd.databricks.v1+cell": {
     "cellMetadata": {
      "byteLimit": 2048000,
      "rowLimit": 10000
     },
     "inputWidgets": {},
     "nuid": "1682e6dd-2f6a-4124-b1e7-c16b8415b3bd",
     "showTitle": false,
     "title": ""
    }
   },
   "outputs": [
    {
     "name": "stdout",
     "output_type": "stream",
     "text": [
      "root\n",
      " |-- order_id: string (nullable = true)\n",
      " |-- order_item_id: integer (nullable = true)\n",
      " |-- product_id: string (nullable = true)\n",
      " |-- seller_id: string (nullable = true)\n",
      " |-- shipping_limit_date: timestamp (nullable = true)\n",
      " |-- price: decimal(38,18) (nullable = true)\n",
      " |-- freight_value: decimal(38,18) (nullable = true)\n",
      "\n"
     ]
    }
   ],
   "source": [
    "order_items_df.printSchema()"
   ]
  },
  {
   "cell_type": "code",
   "execution_count": null,
   "metadata": {
    "application/vnd.databricks.v1+cell": {
     "cellMetadata": {
      "byteLimit": 2048000,
      "rowLimit": 10000
     },
     "inputWidgets": {},
     "nuid": "10e1f6be-d7d2-43e7-bb69-67aeaad39561",
     "showTitle": false,
     "title": ""
    }
   },
   "outputs": [
    {
     "data": {
      "text/html": [
       "<style scoped>\n",
       "  .table-result-container {\n",
       "    max-height: 300px;\n",
       "    overflow: auto;\n",
       "  }\n",
       "  table, th, td {\n",
       "    border: 1px solid black;\n",
       "    border-collapse: collapse;\n",
       "  }\n",
       "  th, td {\n",
       "    padding: 5px;\n",
       "  }\n",
       "  th {\n",
       "    text-align: left;\n",
       "  }\n",
       "</style><div class='table-result-container'><table class='table-result'><thead style='background-color: white'><tr><th>order_id</th><th>order_item_id</th><th>product_id</th><th>seller_id</th><th>shipping_limit_date</th><th>price</th><th>freight_value</th></tr></thead><tbody><tr><td>00010242fe8c5a6d1ba2dd792cb16214</td><td>1</td><td>4244733e06e7ecb4970a6e2683c13e61</td><td>48436dade18ac8b2bce089ec2a041202</td><td>2017-09-19T09:45:35Z</td><td>58.900000000000000000</td><td>13.290000000000000000</td></tr><tr><td>00018f77f2f0320c557190d7a144bdd3</td><td>1</td><td>e5f2d52b802189ee658865ca93d83a8f</td><td>dd7ddc04e1b6c2c614352b383efe2d36</td><td>2017-05-03T11:05:13Z</td><td>239.900000000000000000</td><td>19.930000000000000000</td></tr><tr><td>000229ec398224ef6ca0657da4fc703e</td><td>1</td><td>c777355d18b72b67abbeef9df44fd0fd</td><td>5b51032eddd242adc84c38acab88f23d</td><td>2018-01-18T14:48:30Z</td><td>199.000000000000000000</td><td>17.870000000000000000</td></tr><tr><td>00024acbcdf0a6daa1e931b038114c75</td><td>1</td><td>7634da152a4610f1595efa32f14722fc</td><td>9d7a1d34a5052409006425275ba1c2b4</td><td>2018-08-15T10:10:18Z</td><td>12.990000000000000000</td><td>12.790000000000000000</td></tr><tr><td>00042b26cf59d7ce69dfabb4e55b4fd9</td><td>1</td><td>ac6c3623068f30de03045865e4e10089</td><td>df560393f3a51e74553ab94004ba5c87</td><td>2017-02-13T13:57:51Z</td><td>199.900000000000000000</td><td>18.140000000000000000</td></tr></tbody></table></div>"
      ]
     },
     "metadata": {
      "application/vnd.databricks.v1+output": {
       "addedWidgets": {},
       "aggData": [],
       "aggError": "",
       "aggOverflow": false,
       "aggSchema": [],
       "aggSeriesLimitReached": false,
       "aggType": "",
       "arguments": {},
       "columnCustomDisplayInfos": {},
       "data": [
        [
         "00010242fe8c5a6d1ba2dd792cb16214",
         1,
         "4244733e06e7ecb4970a6e2683c13e61",
         "48436dade18ac8b2bce089ec2a041202",
         "2017-09-19T09:45:35Z",
         "58.900000000000000000",
         "13.290000000000000000"
        ],
        [
         "00018f77f2f0320c557190d7a144bdd3",
         1,
         "e5f2d52b802189ee658865ca93d83a8f",
         "dd7ddc04e1b6c2c614352b383efe2d36",
         "2017-05-03T11:05:13Z",
         "239.900000000000000000",
         "19.930000000000000000"
        ],
        [
         "000229ec398224ef6ca0657da4fc703e",
         1,
         "c777355d18b72b67abbeef9df44fd0fd",
         "5b51032eddd242adc84c38acab88f23d",
         "2018-01-18T14:48:30Z",
         "199.000000000000000000",
         "17.870000000000000000"
        ],
        [
         "00024acbcdf0a6daa1e931b038114c75",
         1,
         "7634da152a4610f1595efa32f14722fc",
         "9d7a1d34a5052409006425275ba1c2b4",
         "2018-08-15T10:10:18Z",
         "12.990000000000000000",
         "12.790000000000000000"
        ],
        [
         "00042b26cf59d7ce69dfabb4e55b4fd9",
         1,
         "ac6c3623068f30de03045865e4e10089",
         "df560393f3a51e74553ab94004ba5c87",
         "2017-02-13T13:57:51Z",
         "199.900000000000000000",
         "18.140000000000000000"
        ]
       ],
       "datasetInfos": [],
       "dbfsResultPath": null,
       "isJsonSchema": true,
       "metadata": {},
       "overflow": false,
       "plotOptions": {
        "customPlotOptions": {},
        "displayType": "table",
        "pivotAggregation": null,
        "pivotColumns": null,
        "xColumns": null,
        "yColumns": null
       },
       "removedWidgets": [],
       "schema": [
        {
         "metadata": "{}",
         "name": "order_id",
         "type": "\"string\""
        },
        {
         "metadata": "{}",
         "name": "order_item_id",
         "type": "\"integer\""
        },
        {
         "metadata": "{}",
         "name": "product_id",
         "type": "\"string\""
        },
        {
         "metadata": "{}",
         "name": "seller_id",
         "type": "\"string\""
        },
        {
         "metadata": "{}",
         "name": "shipping_limit_date",
         "type": "\"timestamp\""
        },
        {
         "metadata": "{}",
         "name": "price",
         "type": "\"decimal(38,18)\""
        },
        {
         "metadata": "{}",
         "name": "freight_value",
         "type": "\"decimal(38,18)\""
        }
       ],
       "type": "table"
      }
     },
     "output_type": "display_data"
    }
   ],
   "source": [
    "display(order_items_df.limit(5))"
   ]
  },
  {
   "cell_type": "code",
   "execution_count": null,
   "metadata": {
    "application/vnd.databricks.v1+cell": {
     "cellMetadata": {
      "byteLimit": 2048000,
      "rowLimit": 10000
     },
     "inputWidgets": {},
     "nuid": "4153f361-c224-4570-8900-b055a55929d4",
     "showTitle": false,
     "title": ""
    }
   },
   "outputs": [
    {
     "data": {
      "text/plain": [
       "112650"
      ]
     },
     "execution_count": 76,
     "metadata": {},
     "output_type": "execute_result"
    }
   ],
   "source": [
    "before_transform_row_count = order_items_df.count()\n",
    "before_transform_row_count"
   ]
  },
  {
   "cell_type": "markdown",
   "metadata": {
    "application/vnd.databricks.v1+cell": {
     "cellMetadata": {
      "byteLimit": 2048000,
      "rowLimit": 10000
     },
     "inputWidgets": {},
     "nuid": "c2efabfc-26c3-4f91-b07e-fb3727e9ecda",
     "showTitle": false,
     "title": ""
    }
   },
   "source": [
    "#### Problems and Possible Improvements:\n",
    "\n",
    "As seen in the outputs from the cells above, there are some things that we needs to be fixed and some improvements that can be done:\n",
    "\n",
    "1. We need to change the data types of the `price` and `freight_value` columns to `DecimalType` with 2 decimal points precision.\n",
    "\n",
    "2. We need to remove rows where the `order_id` does not exist in the `orders_df`.\n",
    "\n",
    "3. We need to remove rows where the `product_id` does not exist in the `products_df`.\n",
    "\n",
    "4. We need to remove rows where the `seller_id` does not exist in the `sellers_df`."
   ]
  },
  {
   "cell_type": "markdown",
   "metadata": {
    "application/vnd.databricks.v1+cell": {
     "cellMetadata": {
      "byteLimit": 2048000,
      "rowLimit": 10000
     },
     "inputWidgets": {},
     "nuid": "18c4fd5a-2c32-488b-a73e-04039254ca4f",
     "showTitle": false,
     "title": ""
    }
   },
   "source": [
    "#### Change the data types of the `price` and `freight_value` columns to `DecimalType` with 2 decimal points precision."
   ]
  },
  {
   "cell_type": "code",
   "execution_count": null,
   "metadata": {
    "application/vnd.databricks.v1+cell": {
     "cellMetadata": {
      "byteLimit": 2048000,
      "rowLimit": 10000
     },
     "inputWidgets": {},
     "nuid": "0f24e1b4-0e04-4fcd-a6e0-c6ddb5a0ee90",
     "showTitle": false,
     "title": ""
    }
   },
   "outputs": [
    {
     "name": "stdout",
     "output_type": "stream",
     "text": [
      "root\n",
      " |-- order_id: string (nullable = true)\n",
      " |-- order_item_id: integer (nullable = true)\n",
      " |-- product_id: string (nullable = true)\n",
      " |-- seller_id: string (nullable = true)\n",
      " |-- shipping_limit_date: timestamp (nullable = true)\n",
      " |-- price: decimal(10,2) (nullable = true)\n",
      " |-- freight_value: decimal(10,2) (nullable = true)\n",
      "\n"
     ]
    }
   ],
   "source": [
    "order_items_data_types = {\n",
    "    \"price\": DecimalType(scale=2),\n",
    "    \"freight_value\": DecimalType(scale=2)\n",
    "}\n",
    "\n",
    "for col, data_type in order_items_data_types.items():\n",
    "    order_items_df = order_items_df.withColumn(col, order_items_df[col].cast(data_type))\n",
    "\n",
    "order_items_df.printSchema()"
   ]
  },
  {
   "cell_type": "markdown",
   "metadata": {
    "application/vnd.databricks.v1+cell": {
     "cellMetadata": {
      "byteLimit": 2048000,
      "rowLimit": 10000
     },
     "inputWidgets": {},
     "nuid": "e2d2ba35-9916-4582-86b4-5cbb015ec57d",
     "showTitle": false,
     "title": ""
    }
   },
   "source": [
    "#### Find rows where the `order_id` does not exist in the `orders_df`\n",
    "\n",
    "Fortunately, there are **0** rows with invalid `order_id`."
   ]
  },
  {
   "cell_type": "code",
   "execution_count": null,
   "metadata": {
    "application/vnd.databricks.v1+cell": {
     "cellMetadata": {
      "byteLimit": 2048000,
      "rowLimit": 10000
     },
     "inputWidgets": {},
     "nuid": "2616143e-92c4-4d35-8ab8-744933b530b9",
     "showTitle": false,
     "title": ""
    }
   },
   "outputs": [
    {
     "name": "stdout",
     "output_type": "stream",
     "text": [
      "Number of inconsistent rows: 0\n"
     ]
    },
    {
     "data": {
      "text/html": [
       "<style scoped>\n",
       "  .table-result-container {\n",
       "    max-height: 300px;\n",
       "    overflow: auto;\n",
       "  }\n",
       "  table, th, td {\n",
       "    border: 1px solid black;\n",
       "    border-collapse: collapse;\n",
       "  }\n",
       "  th, td {\n",
       "    padding: 5px;\n",
       "  }\n",
       "  th {\n",
       "    text-align: left;\n",
       "  }\n",
       "</style><div class='table-result-container'><table class='table-result'><thead style='background-color: white'><tr><th>order_id</th><th>order_item_id</th><th>product_id</th><th>seller_id</th><th>shipping_limit_date</th><th>price</th><th>freight_value</th></tr></thead><tbody></tbody></table></div>"
      ]
     },
     "metadata": {
      "application/vnd.databricks.v1+output": {
       "addedWidgets": {},
       "aggData": [],
       "aggError": "",
       "aggOverflow": false,
       "aggSchema": [],
       "aggSeriesLimitReached": false,
       "aggType": "",
       "arguments": {},
       "columnCustomDisplayInfos": {},
       "data": [],
       "datasetInfos": [],
       "dbfsResultPath": null,
       "isJsonSchema": true,
       "metadata": {},
       "overflow": false,
       "plotOptions": {
        "customPlotOptions": {},
        "displayType": "table",
        "pivotAggregation": null,
        "pivotColumns": null,
        "xColumns": null,
        "yColumns": null
       },
       "removedWidgets": [],
       "schema": [
        {
         "metadata": "{}",
         "name": "order_id",
         "type": "\"string\""
        },
        {
         "metadata": "{}",
         "name": "order_item_id",
         "type": "\"integer\""
        },
        {
         "metadata": "{}",
         "name": "product_id",
         "type": "\"string\""
        },
        {
         "metadata": "{}",
         "name": "seller_id",
         "type": "\"string\""
        },
        {
         "metadata": "{}",
         "name": "shipping_limit_date",
         "type": "\"timestamp\""
        },
        {
         "metadata": "{}",
         "name": "price",
         "type": "\"decimal(10,2)\""
        },
        {
         "metadata": "{}",
         "name": "freight_value",
         "type": "\"decimal(10,2)\""
        }
       ],
       "type": "table"
      }
     },
     "output_type": "display_data"
    }
   ],
   "source": [
    "# Join order_items_df with orders_df to find matching order_id\n",
    "inconsistent_rows = order_items_df.join(\n",
    "    orders_df,\n",
    "    order_items_df['order_id'] == orders_df['order_id'],\n",
    "    'left_anti'\n",
    ")\n",
    "\n",
    "print(f\"Number of inconsistent rows: {inconsistent_rows.count()}\")\n",
    "display(inconsistent_rows)"
   ]
  },
  {
   "cell_type": "markdown",
   "metadata": {
    "application/vnd.databricks.v1+cell": {
     "cellMetadata": {
      "byteLimit": 2048000,
      "rowLimit": 10000
     },
     "inputWidgets": {},
     "nuid": "ca849117-d8be-4d24-a834-c33a3a8af175",
     "showTitle": false,
     "title": ""
    }
   },
   "source": [
    "#### Find rows where the `product_id` does not exist in the `products_df`\n",
    "\n",
    "There are **1,603** rows with invalid `product_id`, so we need to remove them."
   ]
  },
  {
   "cell_type": "code",
   "execution_count": null,
   "metadata": {
    "application/vnd.databricks.v1+cell": {
     "cellMetadata": {
      "byteLimit": 2048000,
      "rowLimit": 10000
     },
     "inputWidgets": {},
     "nuid": "ad7e7a37-3a7e-4ea4-907e-e68fba8bf1e0",
     "showTitle": false,
     "title": ""
    }
   },
   "outputs": [
    {
     "name": "stdout",
     "output_type": "stream",
     "text": [
      "Number of inconsistent rows: 1603\n"
     ]
    },
    {
     "data": {
      "text/html": [
       "<style scoped>\n",
       "  .table-result-container {\n",
       "    max-height: 300px;\n",
       "    overflow: auto;\n",
       "  }\n",
       "  table, th, td {\n",
       "    border: 1px solid black;\n",
       "    border-collapse: collapse;\n",
       "  }\n",
       "  th, td {\n",
       "    padding: 5px;\n",
       "  }\n",
       "  th {\n",
       "    text-align: left;\n",
       "  }\n",
       "</style><div class='table-result-container'><table class='table-result'><thead style='background-color: white'><tr><th>order_id</th><th>order_item_id</th><th>product_id</th><th>seller_id</th><th>shipping_limit_date</th><th>price</th><th>freight_value</th></tr></thead><tbody><tr><td>0046e1d57f4c07c8c92ab26be8c3dfc0</td><td>1</td><td>ff6caf9340512b8bf6d2a2a6df032cfa</td><td>38e6dada03429a47197d5d584d793b41</td><td>2017-10-02T15:49:17Z</td><td>7.79</td><td>7.78</td></tr><tr><td>00482f2670787292280e0a8153d82467</td><td>1</td><td>a9c404971d1a5b1cbc2e4070e02731fd</td><td>702835e4b785b67a084280efca355756</td><td>2017-02-17T16:18:07Z</td><td>7.60</td><td>10.96</td></tr><tr><td>004f5d8f238e8908e6864b874eda3391</td><td>1</td><td>5a848e4ab52fd5445cdc07aab1c40e48</td><td>c826c40d7b19f62a09e2d7c5e7295ee2</td><td>2018-03-06T09:29:25Z</td><td>122.99</td><td>15.61</td></tr><tr><td>0057199db02d1a5ef41bacbf41f8f63b</td><td>1</td><td>41eee23c25f7a574dfaf8d5c151dbb12</td><td>e5a3438891c0bfdb9394643f95273d8e</td><td>2018-01-25T09:07:51Z</td><td>20.30</td><td>16.79</td></tr><tr><td>006cb7cafc99b29548d4f412c7f9f493</td><td>1</td><td>e10758160da97891c2fdcbc35f0f031d</td><td>323ce52b5b81df2cd804b017b7f09aa7</td><td>2018-02-22T13:35:28Z</td><td>56.00</td><td>14.14</td></tr><tr><td>00e6786fee8f476835c151a4d3fa9bf1</td><td>1</td><td>76d1a1a9d21ab677a61c3ae34b1b352f</td><td>c826c40d7b19f62a09e2d7c5e7295ee2</td><td>2018-03-15T01:31:04Z</td><td>159.77</td><td>16.00</td></tr><tr><td>00ed64bc080d87b4ab7f0c433bc5e98f</td><td>1</td><td>fbb1cfc2810efabf3235eccf4530f4ae</td><td>0c8380b62e38e8a1e6adbeba7eb9688c</td><td>2017-06-06T18:22:47Z</td><td>44.90</td><td>16.11</td></tr><tr><td>010a35dc7fc3808a03d243d2fd8c6e35</td><td>1</td><td>5a848e4ab52fd5445cdc07aab1c40e48</td><td>c826c40d7b19f62a09e2d7c5e7295ee2</td><td>2017-12-21T19:10:15Z</td><td>122.99</td><td>9.06</td></tr><tr><td>011080783e02d05b26c8c158b3653a42</td><td>1</td><td>9f69acd4da62618a3f6365b732d00ccd</td><td>897060da8b9a21f655304d50fd935913</td><td>2018-06-22T15:38:55Z</td><td>33.90</td><td>13.82</td></tr><tr><td>011108c8a3d6eee6807f48a2e639439f</td><td>1</td><td>ea11e700a343582ad56e4c70e966cb36</td><td>01cf7e3d21494c41fb86034f2e714fa1</td><td>2017-05-02T17:42:48Z</td><td>593.36</td><td>98.13</td></tr></tbody></table></div>"
      ]
     },
     "metadata": {
      "application/vnd.databricks.v1+output": {
       "addedWidgets": {},
       "aggData": [],
       "aggError": "",
       "aggOverflow": false,
       "aggSchema": [],
       "aggSeriesLimitReached": false,
       "aggType": "",
       "arguments": {},
       "columnCustomDisplayInfos": {},
       "data": [
        [
         "0046e1d57f4c07c8c92ab26be8c3dfc0",
         1,
         "ff6caf9340512b8bf6d2a2a6df032cfa",
         "38e6dada03429a47197d5d584d793b41",
         "2017-10-02T15:49:17Z",
         "7.79",
         "7.78"
        ],
        [
         "00482f2670787292280e0a8153d82467",
         1,
         "a9c404971d1a5b1cbc2e4070e02731fd",
         "702835e4b785b67a084280efca355756",
         "2017-02-17T16:18:07Z",
         "7.60",
         "10.96"
        ],
        [
         "004f5d8f238e8908e6864b874eda3391",
         1,
         "5a848e4ab52fd5445cdc07aab1c40e48",
         "c826c40d7b19f62a09e2d7c5e7295ee2",
         "2018-03-06T09:29:25Z",
         "122.99",
         "15.61"
        ],
        [
         "0057199db02d1a5ef41bacbf41f8f63b",
         1,
         "41eee23c25f7a574dfaf8d5c151dbb12",
         "e5a3438891c0bfdb9394643f95273d8e",
         "2018-01-25T09:07:51Z",
         "20.30",
         "16.79"
        ],
        [
         "006cb7cafc99b29548d4f412c7f9f493",
         1,
         "e10758160da97891c2fdcbc35f0f031d",
         "323ce52b5b81df2cd804b017b7f09aa7",
         "2018-02-22T13:35:28Z",
         "56.00",
         "14.14"
        ],
        [
         "00e6786fee8f476835c151a4d3fa9bf1",
         1,
         "76d1a1a9d21ab677a61c3ae34b1b352f",
         "c826c40d7b19f62a09e2d7c5e7295ee2",
         "2018-03-15T01:31:04Z",
         "159.77",
         "16.00"
        ],
        [
         "00ed64bc080d87b4ab7f0c433bc5e98f",
         1,
         "fbb1cfc2810efabf3235eccf4530f4ae",
         "0c8380b62e38e8a1e6adbeba7eb9688c",
         "2017-06-06T18:22:47Z",
         "44.90",
         "16.11"
        ],
        [
         "010a35dc7fc3808a03d243d2fd8c6e35",
         1,
         "5a848e4ab52fd5445cdc07aab1c40e48",
         "c826c40d7b19f62a09e2d7c5e7295ee2",
         "2017-12-21T19:10:15Z",
         "122.99",
         "9.06"
        ],
        [
         "011080783e02d05b26c8c158b3653a42",
         1,
         "9f69acd4da62618a3f6365b732d00ccd",
         "897060da8b9a21f655304d50fd935913",
         "2018-06-22T15:38:55Z",
         "33.90",
         "13.82"
        ],
        [
         "011108c8a3d6eee6807f48a2e639439f",
         1,
         "ea11e700a343582ad56e4c70e966cb36",
         "01cf7e3d21494c41fb86034f2e714fa1",
         "2017-05-02T17:42:48Z",
         "593.36",
         "98.13"
        ]
       ],
       "datasetInfos": [],
       "dbfsResultPath": null,
       "isJsonSchema": true,
       "metadata": {},
       "overflow": false,
       "plotOptions": {
        "customPlotOptions": {},
        "displayType": "table",
        "pivotAggregation": null,
        "pivotColumns": null,
        "xColumns": null,
        "yColumns": null
       },
       "removedWidgets": [],
       "schema": [
        {
         "metadata": "{}",
         "name": "order_id",
         "type": "\"string\""
        },
        {
         "metadata": "{}",
         "name": "order_item_id",
         "type": "\"integer\""
        },
        {
         "metadata": "{}",
         "name": "product_id",
         "type": "\"string\""
        },
        {
         "metadata": "{}",
         "name": "seller_id",
         "type": "\"string\""
        },
        {
         "metadata": "{}",
         "name": "shipping_limit_date",
         "type": "\"timestamp\""
        },
        {
         "metadata": "{}",
         "name": "price",
         "type": "\"decimal(10,2)\""
        },
        {
         "metadata": "{}",
         "name": "freight_value",
         "type": "\"decimal(10,2)\""
        }
       ],
       "type": "table"
      }
     },
     "output_type": "display_data"
    }
   ],
   "source": [
    "# Join order_items_df with products_df to find matching product_id\n",
    "inconsistent_rows = order_items_df.join(\n",
    "    products_df,\n",
    "    order_items_df['product_id'] == products_df['product_id'],\n",
    "    'left_anti'\n",
    ")\n",
    "\n",
    "# Filter order_items_df to keep only consistent rows\n",
    "order_items_df = order_items_df.join(\n",
    "    products_df,\n",
    "    order_items_df['product_id'] == products_df['product_id'],\n",
    "    'left_semi'\n",
    ")\n",
    "\n",
    "print(f\"Number of inconsistent rows: {inconsistent_rows.count()}\")\n",
    "display(inconsistent_rows.limit(10))"
   ]
  },
  {
   "cell_type": "markdown",
   "metadata": {
    "application/vnd.databricks.v1+cell": {
     "cellMetadata": {
      "byteLimit": 2048000,
      "rowLimit": 10000
     },
     "inputWidgets": {},
     "nuid": "b6f8f928-2327-4cf4-8773-f61132c3fb9d",
     "showTitle": false,
     "title": ""
    }
   },
   "source": [
    "#### Find rows where the `seller_id` does not exist in the `sellers_df`\n",
    "\n",
    "Fortunately, there are **0** rows with invalid `seller_id`."
   ]
  },
  {
   "cell_type": "code",
   "execution_count": null,
   "metadata": {
    "application/vnd.databricks.v1+cell": {
     "cellMetadata": {
      "byteLimit": 2048000,
      "rowLimit": 10000
     },
     "inputWidgets": {},
     "nuid": "5256f6ad-2300-4bc8-95cb-5ec3f1bda2d3",
     "showTitle": false,
     "title": ""
    }
   },
   "outputs": [
    {
     "name": "stdout",
     "output_type": "stream",
     "text": [
      "Number of inconsistent rows: 0\n"
     ]
    },
    {
     "data": {
      "text/html": [
       "<style scoped>\n",
       "  .table-result-container {\n",
       "    max-height: 300px;\n",
       "    overflow: auto;\n",
       "  }\n",
       "  table, th, td {\n",
       "    border: 1px solid black;\n",
       "    border-collapse: collapse;\n",
       "  }\n",
       "  th, td {\n",
       "    padding: 5px;\n",
       "  }\n",
       "  th {\n",
       "    text-align: left;\n",
       "  }\n",
       "</style><div class='table-result-container'><table class='table-result'><thead style='background-color: white'><tr><th>order_id</th><th>order_item_id</th><th>product_id</th><th>seller_id</th><th>shipping_limit_date</th><th>price</th><th>freight_value</th></tr></thead><tbody></tbody></table></div>"
      ]
     },
     "metadata": {
      "application/vnd.databricks.v1+output": {
       "addedWidgets": {},
       "aggData": [],
       "aggError": "",
       "aggOverflow": false,
       "aggSchema": [],
       "aggSeriesLimitReached": false,
       "aggType": "",
       "arguments": {},
       "columnCustomDisplayInfos": {},
       "data": [],
       "datasetInfos": [],
       "dbfsResultPath": null,
       "isJsonSchema": true,
       "metadata": {},
       "overflow": false,
       "plotOptions": {
        "customPlotOptions": {},
        "displayType": "table",
        "pivotAggregation": null,
        "pivotColumns": null,
        "xColumns": null,
        "yColumns": null
       },
       "removedWidgets": [],
       "schema": [
        {
         "metadata": "{}",
         "name": "order_id",
         "type": "\"string\""
        },
        {
         "metadata": "{}",
         "name": "order_item_id",
         "type": "\"integer\""
        },
        {
         "metadata": "{}",
         "name": "product_id",
         "type": "\"string\""
        },
        {
         "metadata": "{}",
         "name": "seller_id",
         "type": "\"string\""
        },
        {
         "metadata": "{}",
         "name": "shipping_limit_date",
         "type": "\"timestamp\""
        },
        {
         "metadata": "{}",
         "name": "price",
         "type": "\"decimal(10,2)\""
        },
        {
         "metadata": "{}",
         "name": "freight_value",
         "type": "\"decimal(10,2)\""
        }
       ],
       "type": "table"
      }
     },
     "output_type": "display_data"
    }
   ],
   "source": [
    "# Join order_items_df with sellers_df to find matching seller_id\n",
    "inconsistent_rows = order_items_df.join(\n",
    "    sellers_df,\n",
    "    order_items_df['seller_id'] == sellers_df['seller_id'],\n",
    "    'left_anti'\n",
    ")\n",
    "\n",
    "print(f\"Number of inconsistent rows: {inconsistent_rows.count()}\")\n",
    "display(inconsistent_rows)"
   ]
  },
  {
   "cell_type": "markdown",
   "metadata": {
    "application/vnd.databricks.v1+cell": {
     "cellMetadata": {
      "byteLimit": 2048000,
      "rowLimit": 10000
     },
     "inputWidgets": {},
     "nuid": "a4266574-c38c-4b44-8356-d40e5f5b4787",
     "showTitle": false,
     "title": ""
    }
   },
   "source": [
    "#### Difference before and after cleaning:\n",
    "\n",
    "As you can see below, the `order_items_df` DataFrame lost **1,603** records due to invalid `product_id` values from **112,650** records to **111,047** records."
   ]
  },
  {
   "cell_type": "code",
   "execution_count": null,
   "metadata": {
    "application/vnd.databricks.v1+cell": {
     "cellMetadata": {
      "byteLimit": 2048000,
      "rowLimit": 10000
     },
     "inputWidgets": {},
     "nuid": "7bb95194-2c9c-42dc-9bee-dea10741e92e",
     "showTitle": false,
     "title": ""
    }
   },
   "outputs": [
    {
     "name": "stdout",
     "output_type": "stream",
     "text": [
      "Before cleaning: 112650\n",
      "After cleaning:  111047\n",
      "Lost records:    1603\n"
     ]
    }
   ],
   "source": [
    "print(f\"Before cleaning: {before_transform_row_count}\")\n",
    "print(f\"After cleaning:  {order_items_df.count()}\")\n",
    "print(f\"Lost records:    {before_transform_row_count - order_items_df.count()}\")"
   ]
  },
  {
   "cell_type": "markdown",
   "metadata": {
    "application/vnd.databricks.v1+cell": {
     "cellMetadata": {
      "byteLimit": 2048000,
      "rowLimit": 10000
     },
     "inputWidgets": {},
     "nuid": "58da4513-45a1-4922-85ad-700e77f5adeb",
     "showTitle": false,
     "title": ""
    }
   },
   "source": [
    "<section id=\"section_2k\">\n",
    "    <h3 style=\"text-align: center\">Section 2-K: The <code>order_payments</code> data</h3>\n",
    "    <h4>Read in the parquet file and store inside a DataFrame called <code>order_payments_df</code></h4>\n",
    "</section>"
   ]
  },
  {
   "cell_type": "code",
   "execution_count": null,
   "metadata": {
    "application/vnd.databricks.v1+cell": {
     "cellMetadata": {
      "byteLimit": 2048000,
      "rowLimit": 10000
     },
     "inputWidgets": {},
     "nuid": "0618f9f6-231b-437c-a3a1-bcbe4dfeb204",
     "showTitle": false,
     "title": ""
    }
   },
   "outputs": [
    {
     "name": "stdout",
     "output_type": "stream",
     "text": [
      "Order payment data loaded successfully.\n"
     ]
    }
   ],
   "source": [
    "order_payments_df = spark.read.format('parquet')\\\n",
    "                              .options(nullValues='', sep=\",\")\\\n",
    "                              .load(f\"{read_path}{order_payments}/{order_payments}.parquet\")\n",
    "\n",
    "logging.info(\"Order payment data loaded successfully.\")\n",
    "print(\"Order payment data loaded successfully.\")\n",
    "\n",
    "# get columns with NULL values\n",
    "order_payments_null_columns = {col: order_payments_df.filter(order_payments_df[col].isNull()).count() > 0 for col in order_payments_df.columns}\n",
    "if True in order_payments_null_columns.values():\n",
    "    na_columns = [col for col in order_payments_null_columns.keys() if order_payments_null_columns[col] == True]\n",
    "    na_columns = ', '.join(na_columns)\n",
    "    logging.warning(f\"Detected columns with NA values: {na_columns}\")"
   ]
  },
  {
   "cell_type": "code",
   "execution_count": null,
   "metadata": {
    "application/vnd.databricks.v1+cell": {
     "cellMetadata": {
      "byteLimit": 2048000,
      "rowLimit": 10000
     },
     "inputWidgets": {},
     "nuid": "c52e6ff9-7ae6-42f0-901e-a863934bf0e0",
     "showTitle": false,
     "title": ""
    }
   },
   "outputs": [
    {
     "data": {
      "text/html": [
       "<style scoped>\n",
       "  .table-result-container {\n",
       "    max-height: 300px;\n",
       "    overflow: auto;\n",
       "  }\n",
       "  table, th, td {\n",
       "    border: 1px solid black;\n",
       "    border-collapse: collapse;\n",
       "  }\n",
       "  th, td {\n",
       "    padding: 5px;\n",
       "  }\n",
       "  th {\n",
       "    text-align: left;\n",
       "  }\n",
       "</style><div class='table-result-container'><table class='table-result'><thead style='background-color: white'><tr><th>order_id</th><th>payment_sequential</th><th>payment_type</th><th>payment_installments</th><th>payment_value</th></tr></thead><tbody><tr><td>103886</td><td>103886</td><td>103886</td><td>103886</td><td>103886</td></tr></tbody></table></div>"
      ]
     },
     "metadata": {
      "application/vnd.databricks.v1+output": {
       "addedWidgets": {},
       "aggData": [],
       "aggError": "",
       "aggOverflow": false,
       "aggSchema": [],
       "aggSeriesLimitReached": false,
       "aggType": "",
       "arguments": {},
       "columnCustomDisplayInfos": {},
       "data": [
        [
         103886,
         103886,
         103886,
         103886,
         103886
        ]
       ],
       "datasetInfos": [],
       "dbfsResultPath": null,
       "isJsonSchema": true,
       "metadata": {},
       "overflow": false,
       "plotOptions": {
        "customPlotOptions": {},
        "displayType": "table",
        "pivotAggregation": null,
        "pivotColumns": null,
        "xColumns": null,
        "yColumns": null
       },
       "removedWidgets": [],
       "schema": [
        {
         "metadata": "{}",
         "name": "order_id",
         "type": "\"long\""
        },
        {
         "metadata": "{}",
         "name": "payment_sequential",
         "type": "\"long\""
        },
        {
         "metadata": "{}",
         "name": "payment_type",
         "type": "\"long\""
        },
        {
         "metadata": "{}",
         "name": "payment_installments",
         "type": "\"long\""
        },
        {
         "metadata": "{}",
         "name": "payment_value",
         "type": "\"long\""
        }
       ],
       "type": "table"
      }
     },
     "output_type": "display_data"
    }
   ],
   "source": [
    "from pyspark.sql.functions import *\n",
    "\n",
    "# prints the number of non-null values in the dataframe\n",
    "display(order_payments_df.select([count(when(col(c).isNotNull(), c)).alias(c) for c in order_payments_df.columns]))"
   ]
  },
  {
   "cell_type": "code",
   "execution_count": null,
   "metadata": {
    "application/vnd.databricks.v1+cell": {
     "cellMetadata": {
      "byteLimit": 2048000,
      "rowLimit": 10000
     },
     "inputWidgets": {},
     "nuid": "6bb737c6-92be-4231-9d4b-64c664bc55b5",
     "showTitle": false,
     "title": ""
    }
   },
   "outputs": [
    {
     "name": "stdout",
     "output_type": "stream",
     "text": [
      "root\n",
      " |-- order_id: string (nullable = true)\n",
      " |-- payment_sequential: integer (nullable = true)\n",
      " |-- payment_type: string (nullable = true)\n",
      " |-- payment_installments: integer (nullable = true)\n",
      " |-- payment_value: decimal(38,18) (nullable = true)\n",
      "\n"
     ]
    }
   ],
   "source": [
    "order_payments_df.printSchema()"
   ]
  },
  {
   "cell_type": "code",
   "execution_count": null,
   "metadata": {
    "application/vnd.databricks.v1+cell": {
     "cellMetadata": {
      "byteLimit": 2048000,
      "rowLimit": 10000
     },
     "inputWidgets": {},
     "nuid": "2be4a185-e411-4730-abb1-411bc9301289",
     "showTitle": false,
     "title": ""
    }
   },
   "outputs": [
    {
     "data": {
      "text/html": [
       "<style scoped>\n",
       "  .table-result-container {\n",
       "    max-height: 300px;\n",
       "    overflow: auto;\n",
       "  }\n",
       "  table, th, td {\n",
       "    border: 1px solid black;\n",
       "    border-collapse: collapse;\n",
       "  }\n",
       "  th, td {\n",
       "    padding: 5px;\n",
       "  }\n",
       "  th {\n",
       "    text-align: left;\n",
       "  }\n",
       "</style><div class='table-result-container'><table class='table-result'><thead style='background-color: white'><tr><th>order_id</th><th>payment_sequential</th><th>payment_type</th><th>payment_installments</th><th>payment_value</th></tr></thead><tbody><tr><td>b81ef226f3fe1789b1e8b2acac839d17</td><td>1</td><td>credit_card</td><td>8</td><td>99.330000000000000000</td></tr><tr><td>a9810da82917af2d9aefd1278f1dcfa0</td><td>1</td><td>credit_card</td><td>1</td><td>24.390000000000000000</td></tr><tr><td>25e8ea4e93396b6fa0d3dd708e76c1bd</td><td>1</td><td>credit_card</td><td>1</td><td>65.710000000000000000</td></tr><tr><td>ba78997921bbcdc1373bb41e913ab953</td><td>1</td><td>credit_card</td><td>8</td><td>107.780000000000000000</td></tr><tr><td>42fdf880ba16b47b59251dd489d4441a</td><td>1</td><td>credit_card</td><td>2</td><td>128.450000000000000000</td></tr></tbody></table></div>"
      ]
     },
     "metadata": {
      "application/vnd.databricks.v1+output": {
       "addedWidgets": {},
       "aggData": [],
       "aggError": "",
       "aggOverflow": false,
       "aggSchema": [],
       "aggSeriesLimitReached": false,
       "aggType": "",
       "arguments": {},
       "columnCustomDisplayInfos": {},
       "data": [
        [
         "b81ef226f3fe1789b1e8b2acac839d17",
         1,
         "credit_card",
         8,
         "99.330000000000000000"
        ],
        [
         "a9810da82917af2d9aefd1278f1dcfa0",
         1,
         "credit_card",
         1,
         "24.390000000000000000"
        ],
        [
         "25e8ea4e93396b6fa0d3dd708e76c1bd",
         1,
         "credit_card",
         1,
         "65.710000000000000000"
        ],
        [
         "ba78997921bbcdc1373bb41e913ab953",
         1,
         "credit_card",
         8,
         "107.780000000000000000"
        ],
        [
         "42fdf880ba16b47b59251dd489d4441a",
         1,
         "credit_card",
         2,
         "128.450000000000000000"
        ]
       ],
       "datasetInfos": [],
       "dbfsResultPath": null,
       "isJsonSchema": true,
       "metadata": {},
       "overflow": false,
       "plotOptions": {
        "customPlotOptions": {},
        "displayType": "table",
        "pivotAggregation": null,
        "pivotColumns": null,
        "xColumns": null,
        "yColumns": null
       },
       "removedWidgets": [],
       "schema": [
        {
         "metadata": "{}",
         "name": "order_id",
         "type": "\"string\""
        },
        {
         "metadata": "{}",
         "name": "payment_sequential",
         "type": "\"integer\""
        },
        {
         "metadata": "{}",
         "name": "payment_type",
         "type": "\"string\""
        },
        {
         "metadata": "{}",
         "name": "payment_installments",
         "type": "\"integer\""
        },
        {
         "metadata": "{}",
         "name": "payment_value",
         "type": "\"decimal(38,18)\""
        }
       ],
       "type": "table"
      }
     },
     "output_type": "display_data"
    }
   ],
   "source": [
    "display(order_payments_df.limit(5))"
   ]
  },
  {
   "cell_type": "code",
   "execution_count": null,
   "metadata": {
    "application/vnd.databricks.v1+cell": {
     "cellMetadata": {
      "byteLimit": 2048000,
      "rowLimit": 10000
     },
     "inputWidgets": {},
     "nuid": "8b8c38e2-ae80-4019-854b-2fd58a71039c",
     "showTitle": false,
     "title": ""
    }
   },
   "outputs": [
    {
     "data": {
      "text/plain": [
       "103886"
      ]
     },
     "execution_count": 86,
     "metadata": {},
     "output_type": "execute_result"
    }
   ],
   "source": [
    "before_transform_row_count = order_payments_df.count()\n",
    "before_transform_row_count"
   ]
  },
  {
   "cell_type": "markdown",
   "metadata": {
    "application/vnd.databricks.v1+cell": {
     "cellMetadata": {
      "byteLimit": 2048000,
      "rowLimit": 10000
     },
     "inputWidgets": {},
     "nuid": "46a31633-3308-48ad-b27f-91cab826cadd",
     "showTitle": false,
     "title": ""
    }
   },
   "source": [
    "#### Problems and Possible Improvements:\n",
    "\n",
    "As seen in the outputs from the cells above, there are some things that we needs to be fixed and some improvements that can be done:\n",
    "\n",
    "1. We need to change the data type of the `payment_value` column to the `DecimalType` with 2 decimal point precision.\n",
    "\n",
    "2. We need to remove the underscore from the values under the `payment_type` column like \"credit_card\" to \"credit card\".\n",
    "\n",
    "3. We need to find rows where the `order_id` does not exist in the `orders_df`."
   ]
  },
  {
   "cell_type": "markdown",
   "metadata": {
    "application/vnd.databricks.v1+cell": {
     "cellMetadata": {
      "byteLimit": 2048000,
      "rowLimit": 10000
     },
     "inputWidgets": {},
     "nuid": "27eae8e5-8596-4b9c-9da7-11ce5a903c9f",
     "showTitle": false,
     "title": ""
    }
   },
   "source": [
    "#### Change the data type of the `payment_value` column to the `DecimalType` with 2 decimal point precision."
   ]
  },
  {
   "cell_type": "code",
   "execution_count": null,
   "metadata": {
    "application/vnd.databricks.v1+cell": {
     "cellMetadata": {
      "byteLimit": 2048000,
      "rowLimit": 10000
     },
     "inputWidgets": {},
     "nuid": "2e343534-160f-445f-9d95-69d319abbb38",
     "showTitle": false,
     "title": ""
    }
   },
   "outputs": [
    {
     "name": "stdout",
     "output_type": "stream",
     "text": [
      "root\n",
      " |-- order_id: string (nullable = true)\n",
      " |-- payment_sequential: integer (nullable = true)\n",
      " |-- payment_type: string (nullable = true)\n",
      " |-- payment_installments: integer (nullable = true)\n",
      " |-- payment_value: decimal(10,2) (nullable = true)\n",
      "\n"
     ]
    }
   ],
   "source": [
    "order_payments_df = order_payments_df.withColumn(\n",
    "    'payment_value', \n",
    "    order_payments_df['payment_value'].cast(DecimalType(scale=2))\n",
    ")\n",
    "\n",
    "order_payments_df.printSchema()"
   ]
  },
  {
   "cell_type": "markdown",
   "metadata": {
    "application/vnd.databricks.v1+cell": {
     "cellMetadata": {
      "byteLimit": 2048000,
      "rowLimit": 10000
     },
     "inputWidgets": {},
     "nuid": "e72a1738-bb7e-4bb2-88c8-faa5339e649f",
     "showTitle": false,
     "title": ""
    }
   },
   "source": [
    "#### Find rows where the `order_id` does not exist inside the `order_id`\n",
    "\n",
    "Fortunately, there are **0** rows with invalid `order_id`."
   ]
  },
  {
   "cell_type": "code",
   "execution_count": null,
   "metadata": {
    "application/vnd.databricks.v1+cell": {
     "cellMetadata": {
      "byteLimit": 2048000,
      "rowLimit": 10000
     },
     "inputWidgets": {},
     "nuid": "eefe095e-31cf-4506-857f-86ff97374b4b",
     "showTitle": false,
     "title": ""
    }
   },
   "outputs": [
    {
     "name": "stdout",
     "output_type": "stream",
     "text": [
      "Number of inconsistent rows: 0\n"
     ]
    },
    {
     "data": {
      "text/html": [
       "<style scoped>\n",
       "  .table-result-container {\n",
       "    max-height: 300px;\n",
       "    overflow: auto;\n",
       "  }\n",
       "  table, th, td {\n",
       "    border: 1px solid black;\n",
       "    border-collapse: collapse;\n",
       "  }\n",
       "  th, td {\n",
       "    padding: 5px;\n",
       "  }\n",
       "  th {\n",
       "    text-align: left;\n",
       "  }\n",
       "</style><div class='table-result-container'><table class='table-result'><thead style='background-color: white'><tr><th>order_id</th><th>payment_sequential</th><th>payment_type</th><th>payment_installments</th><th>payment_value</th></tr></thead><tbody></tbody></table></div>"
      ]
     },
     "metadata": {
      "application/vnd.databricks.v1+output": {
       "addedWidgets": {},
       "aggData": [],
       "aggError": "",
       "aggOverflow": false,
       "aggSchema": [],
       "aggSeriesLimitReached": false,
       "aggType": "",
       "arguments": {},
       "columnCustomDisplayInfos": {},
       "data": [],
       "datasetInfos": [],
       "dbfsResultPath": null,
       "isJsonSchema": true,
       "metadata": {},
       "overflow": false,
       "plotOptions": {
        "customPlotOptions": {},
        "displayType": "table",
        "pivotAggregation": null,
        "pivotColumns": null,
        "xColumns": null,
        "yColumns": null
       },
       "removedWidgets": [],
       "schema": [
        {
         "metadata": "{}",
         "name": "order_id",
         "type": "\"string\""
        },
        {
         "metadata": "{}",
         "name": "payment_sequential",
         "type": "\"integer\""
        },
        {
         "metadata": "{}",
         "name": "payment_type",
         "type": "\"string\""
        },
        {
         "metadata": "{}",
         "name": "payment_installments",
         "type": "\"integer\""
        },
        {
         "metadata": "{}",
         "name": "payment_value",
         "type": "\"decimal(10,2)\""
        }
       ],
       "type": "table"
      }
     },
     "output_type": "display_data"
    }
   ],
   "source": [
    "# Join order_payments_df with orders_df to find non-matching order_id\n",
    "inconsistent_rows = order_payments_df.join(\n",
    "    orders_df,\n",
    "    order_payments_df['order_id'] == orders_df['order_id'],\n",
    "    'left_anti'\n",
    ")\n",
    "\n",
    "print(f\"Number of inconsistent rows: {inconsistent_rows.count()}\")\n",
    "display(inconsistent_rows)"
   ]
  },
  {
   "cell_type": "markdown",
   "metadata": {
    "application/vnd.databricks.v1+cell": {
     "cellMetadata": {
      "byteLimit": 2048000,
      "rowLimit": 10000
     },
     "inputWidgets": {},
     "nuid": "fa455a0f-6f1c-45e0-b4ef-518969061644",
     "showTitle": false,
     "title": ""
    }
   },
   "source": [
    "#### Remove the underscore from the values under the `payment_type` column like \"credit_card\" to \"credit card\"."
   ]
  },
  {
   "cell_type": "code",
   "execution_count": null,
   "metadata": {
    "application/vnd.databricks.v1+cell": {
     "cellMetadata": {
      "byteLimit": 2048000,
      "rowLimit": 10000
     },
     "inputWidgets": {},
     "nuid": "5a4ed39f-eb92-47da-b06c-7e902b1c662b",
     "showTitle": false,
     "title": ""
    }
   },
   "outputs": [
    {
     "data": {
      "text/html": [
       "<style scoped>\n",
       "  .table-result-container {\n",
       "    max-height: 300px;\n",
       "    overflow: auto;\n",
       "  }\n",
       "  table, th, td {\n",
       "    border: 1px solid black;\n",
       "    border-collapse: collapse;\n",
       "  }\n",
       "  th, td {\n",
       "    padding: 5px;\n",
       "  }\n",
       "  th {\n",
       "    text-align: left;\n",
       "  }\n",
       "</style><div class='table-result-container'><table class='table-result'><thead style='background-color: white'><tr><th>order_id</th><th>payment_sequential</th><th>payment_type</th><th>payment_installments</th><th>payment_value</th></tr></thead><tbody><tr><td>b81ef226f3fe1789b1e8b2acac839d17</td><td>1</td><td>credit card</td><td>8</td><td>99.33</td></tr><tr><td>a9810da82917af2d9aefd1278f1dcfa0</td><td>1</td><td>credit card</td><td>1</td><td>24.39</td></tr><tr><td>25e8ea4e93396b6fa0d3dd708e76c1bd</td><td>1</td><td>credit card</td><td>1</td><td>65.71</td></tr><tr><td>ba78997921bbcdc1373bb41e913ab953</td><td>1</td><td>credit card</td><td>8</td><td>107.78</td></tr><tr><td>42fdf880ba16b47b59251dd489d4441a</td><td>1</td><td>credit card</td><td>2</td><td>128.45</td></tr><tr><td>298fcdf1f73eb413e4d26d01b25bc1cd</td><td>1</td><td>credit card</td><td>2</td><td>96.12</td></tr><tr><td>771ee386b001f06208a7419e4fc1bbd7</td><td>1</td><td>credit card</td><td>1</td><td>81.16</td></tr><tr><td>3d7239c394a212faae122962df514ac7</td><td>1</td><td>credit card</td><td>3</td><td>51.84</td></tr><tr><td>1f78449c87a54faf9e96e88ba1491fa9</td><td>1</td><td>credit card</td><td>6</td><td>341.09</td></tr><tr><td>0573b5e23cbd798006520e1d5b4c6714</td><td>1</td><td>boleto</td><td>1</td><td>51.95</td></tr></tbody></table></div>"
      ]
     },
     "metadata": {
      "application/vnd.databricks.v1+output": {
       "addedWidgets": {},
       "aggData": [],
       "aggError": "",
       "aggOverflow": false,
       "aggSchema": [],
       "aggSeriesLimitReached": false,
       "aggType": "",
       "arguments": {},
       "columnCustomDisplayInfos": {},
       "data": [
        [
         "b81ef226f3fe1789b1e8b2acac839d17",
         1,
         "credit card",
         8,
         "99.33"
        ],
        [
         "a9810da82917af2d9aefd1278f1dcfa0",
         1,
         "credit card",
         1,
         "24.39"
        ],
        [
         "25e8ea4e93396b6fa0d3dd708e76c1bd",
         1,
         "credit card",
         1,
         "65.71"
        ],
        [
         "ba78997921bbcdc1373bb41e913ab953",
         1,
         "credit card",
         8,
         "107.78"
        ],
        [
         "42fdf880ba16b47b59251dd489d4441a",
         1,
         "credit card",
         2,
         "128.45"
        ],
        [
         "298fcdf1f73eb413e4d26d01b25bc1cd",
         1,
         "credit card",
         2,
         "96.12"
        ],
        [
         "771ee386b001f06208a7419e4fc1bbd7",
         1,
         "credit card",
         1,
         "81.16"
        ],
        [
         "3d7239c394a212faae122962df514ac7",
         1,
         "credit card",
         3,
         "51.84"
        ],
        [
         "1f78449c87a54faf9e96e88ba1491fa9",
         1,
         "credit card",
         6,
         "341.09"
        ],
        [
         "0573b5e23cbd798006520e1d5b4c6714",
         1,
         "boleto",
         1,
         "51.95"
        ]
       ],
       "datasetInfos": [],
       "dbfsResultPath": null,
       "isJsonSchema": true,
       "metadata": {},
       "overflow": false,
       "plotOptions": {
        "customPlotOptions": {},
        "displayType": "table",
        "pivotAggregation": null,
        "pivotColumns": null,
        "xColumns": null,
        "yColumns": null
       },
       "removedWidgets": [],
       "schema": [
        {
         "metadata": "{}",
         "name": "order_id",
         "type": "\"string\""
        },
        {
         "metadata": "{}",
         "name": "payment_sequential",
         "type": "\"integer\""
        },
        {
         "metadata": "{}",
         "name": "payment_type",
         "type": "\"string\""
        },
        {
         "metadata": "{}",
         "name": "payment_installments",
         "type": "\"integer\""
        },
        {
         "metadata": "{}",
         "name": "payment_value",
         "type": "\"decimal(10,2)\""
        }
       ],
       "type": "table"
      }
     },
     "output_type": "display_data"
    }
   ],
   "source": [
    "order_payments_df = order_payments_df.withColumn(\n",
    "    'payment_type', \n",
    "    translate(order_payments_df['payment_type'], '_', ' ')\n",
    ")\n",
    "\n",
    "display(order_payments_df.limit(10))"
   ]
  },
  {
   "cell_type": "markdown",
   "metadata": {
    "application/vnd.databricks.v1+cell": {
     "cellMetadata": {
      "byteLimit": 2048000,
      "rowLimit": 10000
     },
     "inputWidgets": {},
     "nuid": "8804fc2b-f980-4e01-afec-eedc4b9368b1",
     "showTitle": false,
     "title": ""
    }
   },
   "source": [
    "#### As you can see below, no data in `order_payments_df` is lost during the transformation process."
   ]
  },
  {
   "cell_type": "code",
   "execution_count": null,
   "metadata": {
    "application/vnd.databricks.v1+cell": {
     "cellMetadata": {
      "byteLimit": 2048000,
      "rowLimit": 10000
     },
     "inputWidgets": {},
     "nuid": "6967bfbb-8073-4bf9-9aaa-3987c82a68b4",
     "showTitle": false,
     "title": ""
    }
   },
   "outputs": [
    {
     "name": "stdout",
     "output_type": "stream",
     "text": [
      "Before cleaning: 103886\n",
      "After cleaning:  103886\n",
      "Lost records:    0\n"
     ]
    }
   ],
   "source": [
    "print(f\"Before cleaning: {before_transform_row_count}\")\n",
    "print(f\"After cleaning:  {order_payments_df.count()}\")\n",
    "print(f\"Lost records:    {before_transform_row_count - order_payments_df.count()}\")"
   ]
  },
  {
   "cell_type": "markdown",
   "metadata": {
    "application/vnd.databricks.v1+cell": {
     "cellMetadata": {
      "byteLimit": 2048000,
      "rowLimit": 10000
     },
     "inputWidgets": {},
     "nuid": "78f49c4f-1f5a-4daa-b4b4-181aa55ffbc9",
     "showTitle": false,
     "title": ""
    }
   },
   "source": [
    "<section id=\"section_2l\">\n",
    "    <h3 style=\"text-align: center\">Section 2-L: Write to the logging process</h3>\n",
    "</section>"
   ]
  },
  {
   "cell_type": "code",
   "execution_count": null,
   "metadata": {
    "application/vnd.databricks.v1+cell": {
     "cellMetadata": {
      "byteLimit": 2048000,
      "rowLimit": 10000
     },
     "inputWidgets": {},
     "nuid": "782e46ad-5661-4345-a5db-5c2025c30a00",
     "showTitle": false,
     "title": ""
    }
   },
   "outputs": [],
   "source": [
    "logging.info(\"Transformation process completed.\")"
   ]
  },
  {
   "cell_type": "markdown",
   "metadata": {
    "application/vnd.databricks.v1+cell": {
     "cellMetadata": {
      "byteLimit": 2048000,
      "rowLimit": 10000
     },
     "inputWidgets": {},
     "nuid": "9a88cefc-a763-42fb-92d9-354b139e6fbc",
     "showTitle": false,
     "title": ""
    }
   },
   "source": [
    "<section id=\"section_3\">\n",
    "    <h2 style=\"text-align: center\">Section 3: DataFrame Export</h2>\n",
    "    <hr>\n",
    "</section>"
   ]
  },
  {
   "cell_type": "markdown",
   "metadata": {
    "application/vnd.databricks.v1+cell": {
     "cellMetadata": {
      "byteLimit": 2048000,
      "rowLimit": 10000
     },
     "inputWidgets": {},
     "nuid": "fc596d89-8a02-43bf-a350-fb62a5c890da",
     "showTitle": false,
     "title": ""
    }
   },
   "source": [
    "<section id=\"section_3a\">\n",
    "    <h3 style=\"text-align: center\">Section 3-A: Export tables to Delta Tables and store them in the Data Lake Storage</h3>\n",
    "    <h4><code>geolocations_df</code> --> geolocations</h4>\n",
    "</section>"
   ]
  },
  {
   "cell_type": "code",
   "execution_count": null,
   "metadata": {
    "application/vnd.databricks.v1+cell": {
     "cellMetadata": {
      "byteLimit": 2048000,
      "rowLimit": 10000
     },
     "inputWidgets": {},
     "nuid": "dd3fea2e-969d-40f4-9f96-ee243b0bb352",
     "showTitle": false,
     "title": ""
    }
   },
   "outputs": [
    {
     "data": {
      "text/plain": [
       "'abfss://transformed@omnioraclestorage.dfs.core.windows.net/olist/geolocations/'"
      ]
     },
     "execution_count": 92,
     "metadata": {},
     "output_type": "execute_result"
    }
   ],
   "source": [
    "path = f\"{output_path}{geolocations}/\"\n",
    "path"
   ]
  },
  {
   "cell_type": "code",
   "execution_count": null,
   "metadata": {
    "application/vnd.databricks.v1+cell": {
     "cellMetadata": {
      "byteLimit": 2048000,
      "rowLimit": 10000
     },
     "inputWidgets": {},
     "nuid": "addbd7e5-e717-40f1-82a3-1d9a4f6cedcf",
     "showTitle": false,
     "title": ""
    }
   },
   "outputs": [
    {
     "data": {
      "text/plain": [
       "[FileInfo(path='abfss://transformed@omnioraclestorage.dfs.core.windows.net/olist/geolocations/_delta_log/', name='_delta_log/', size=0, modificationTime=1727621703000),\n",
       " FileInfo(path='abfss://transformed@omnioraclestorage.dfs.core.windows.net/olist/geolocations/part-00000-1c09b0c6-45cf-469c-befb-2e9418335f92-c000.snappy.parquet', name='part-00000-1c09b0c6-45cf-469c-befb-2e9418335f92-c000.snappy.parquet', size=607595, modificationTime=1727755247000),\n",
       " FileInfo(path='abfss://transformed@omnioraclestorage.dfs.core.windows.net/olist/geolocations/part-00000-1e62ecf0-a544-4ffb-a609-e8544827a071-c000.snappy.parquet', name='part-00000-1e62ecf0-a544-4ffb-a609-e8544827a071-c000.snappy.parquet', size=607595, modificationTime=1727765712000),\n",
       " FileInfo(path='abfss://transformed@omnioraclestorage.dfs.core.windows.net/olist/geolocations/part-00000-23cac2ee-0d77-470c-a141-9a408740f913-c000.snappy.parquet', name='part-00000-23cac2ee-0d77-470c-a141-9a408740f913-c000.snappy.parquet', size=607595, modificationTime=1727749122000),\n",
       " FileInfo(path='abfss://transformed@omnioraclestorage.dfs.core.windows.net/olist/geolocations/part-00000-300587fb-fa52-4602-9b47-95e6faebc59e-c000.snappy.parquet', name='part-00000-300587fb-fa52-4602-9b47-95e6faebc59e-c000.snappy.parquet', size=451127, modificationTime=1727624662000),\n",
       " FileInfo(path='abfss://transformed@omnioraclestorage.dfs.core.windows.net/olist/geolocations/part-00000-319b2e5c-5ad9-4066-8b15-c48f92bdc430-c000.snappy.parquet', name='part-00000-319b2e5c-5ad9-4066-8b15-c48f92bdc430-c000.snappy.parquet', size=451127, modificationTime=1727621718000),\n",
       " FileInfo(path='abfss://transformed@omnioraclestorage.dfs.core.windows.net/olist/geolocations/part-00000-3c9d7cbc-42a6-4143-95ba-7cb46a72b63c-c000.snappy.parquet', name='part-00000-3c9d7cbc-42a6-4143-95ba-7cb46a72b63c-c000.snappy.parquet', size=607595, modificationTime=1727789148000),\n",
       " FileInfo(path='abfss://transformed@omnioraclestorage.dfs.core.windows.net/olist/geolocations/part-00000-6bdb7763-a141-4d30-877e-6c8d2dc859d0-c000.snappy.parquet', name='part-00000-6bdb7763-a141-4d30-877e-6c8d2dc859d0-c000.snappy.parquet', size=607595, modificationTime=1727752184000),\n",
       " FileInfo(path='abfss://transformed@omnioraclestorage.dfs.core.windows.net/olist/geolocations/part-00000-73b0014e-8742-49f9-843b-25db802938f8-c000.snappy.parquet', name='part-00000-73b0014e-8742-49f9-843b-25db802938f8-c000.snappy.parquet', size=451127, modificationTime=1727624793000),\n",
       " FileInfo(path='abfss://transformed@omnioraclestorage.dfs.core.windows.net/olist/geolocations/part-00000-d54f3a09-03f1-48b0-8bb5-6de86e549f17-c000.snappy.parquet', name='part-00000-d54f3a09-03f1-48b0-8bb5-6de86e549f17-c000.snappy.parquet', size=607595, modificationTime=1727759769000),\n",
       " FileInfo(path='abfss://transformed@omnioraclestorage.dfs.core.windows.net/olist/geolocations/part-00000-eaa1a9a8-d86b-4d97-b0ba-8be9e74674e0-c000.snappy.parquet', name='part-00000-eaa1a9a8-d86b-4d97-b0ba-8be9e74674e0-c000.snappy.parquet', size=607595, modificationTime=1727749058000)]"
      ]
     },
     "execution_count": 93,
     "metadata": {},
     "output_type": "execute_result"
    }
   ],
   "source": [
    "geolocations_df.write.format('delta')\\\n",
    "                     .option(\"path\", path)\\\n",
    "                     .option(\"overwriteSchema\", \"true\")\\\n",
    "                     .mode('overwrite')\\\n",
    "                     .saveAsTable(geolocations)\n",
    "dbutils.fs.ls(path)"
   ]
  },
  {
   "cell_type": "markdown",
   "metadata": {
    "application/vnd.databricks.v1+cell": {
     "cellMetadata": {
      "byteLimit": 2048000,
      "rowLimit": 10000
     },
     "inputWidgets": {},
     "nuid": "4b51767f-5d0b-47b7-85da-3aee8440dabe",
     "showTitle": false,
     "title": ""
    }
   },
   "source": [
    "#### `customers_df` --> customers"
   ]
  },
  {
   "cell_type": "code",
   "execution_count": null,
   "metadata": {
    "application/vnd.databricks.v1+cell": {
     "cellMetadata": {
      "byteLimit": 2048000,
      "rowLimit": 10000
     },
     "inputWidgets": {},
     "nuid": "7023aee6-26dc-4d22-ac33-2ade5aee8345",
     "showTitle": false,
     "title": ""
    }
   },
   "outputs": [
    {
     "data": {
      "text/plain": [
       "'abfss://transformed@omnioraclestorage.dfs.core.windows.net/olist/customers/'"
      ]
     },
     "execution_count": 94,
     "metadata": {},
     "output_type": "execute_result"
    }
   ],
   "source": [
    "path = f\"{output_path}{customers}/\"\n",
    "path"
   ]
  },
  {
   "cell_type": "code",
   "execution_count": null,
   "metadata": {
    "application/vnd.databricks.v1+cell": {
     "cellMetadata": {
      "byteLimit": 2048000,
      "rowLimit": 10000
     },
     "inputWidgets": {},
     "nuid": "ad9d43b4-0bf7-481e-b537-501c20502f1f",
     "showTitle": false,
     "title": ""
    }
   },
   "outputs": [
    {
     "data": {
      "text/plain": [
       "[FileInfo(path='abfss://transformed@omnioraclestorage.dfs.core.windows.net/olist/customers/_delta_log/', name='_delta_log/', size=0, modificationTime=1727625666000),\n",
       " FileInfo(path='abfss://transformed@omnioraclestorage.dfs.core.windows.net/olist/customers/part-00000-08433c2a-8860-4dfe-983c-48116c781fce-c000.snappy.parquet', name='part-00000-08433c2a-8860-4dfe-983c-48116c781fce-c000.snappy.parquet', size=6717649, modificationTime=1727752194000),\n",
       " FileInfo(path='abfss://transformed@omnioraclestorage.dfs.core.windows.net/olist/customers/part-00000-9b0700b0-d838-49ef-9e8b-d3fb3dcaa639-c000.snappy.parquet', name='part-00000-9b0700b0-d838-49ef-9e8b-d3fb3dcaa639-c000.snappy.parquet', size=6698386, modificationTime=1727625668000),\n",
       " FileInfo(path='abfss://transformed@omnioraclestorage.dfs.core.windows.net/olist/customers/part-00000-d69289a6-1e46-4688-a8b0-28a9dc6433b2-c000.snappy.parquet', name='part-00000-d69289a6-1e46-4688-a8b0-28a9dc6433b2-c000.snappy.parquet', size=6717649, modificationTime=1727755271000),\n",
       " FileInfo(path='abfss://transformed@omnioraclestorage.dfs.core.windows.net/olist/customers/part-00000-e33988a7-750a-4864-8f54-87a45fc10dbf-c000.snappy.parquet', name='part-00000-e33988a7-750a-4864-8f54-87a45fc10dbf-c000.snappy.parquet', size=6717649, modificationTime=1727759779000),\n",
       " FileInfo(path='abfss://transformed@omnioraclestorage.dfs.core.windows.net/olist/customers/part-00000-e5d0c8ff-5ab5-4e13-b856-1f76ebde3cf6-c000.snappy.parquet', name='part-00000-e5d0c8ff-5ab5-4e13-b856-1f76ebde3cf6-c000.snappy.parquet', size=6717649, modificationTime=1727765721000),\n",
       " FileInfo(path='abfss://transformed@omnioraclestorage.dfs.core.windows.net/olist/customers/part-00000-e8771f58-2bb6-46db-82a4-0584e8099035-c000.snappy.parquet', name='part-00000-e8771f58-2bb6-46db-82a4-0584e8099035-c000.snappy.parquet', size=6717649, modificationTime=1727789157000),\n",
       " FileInfo(path='abfss://transformed@omnioraclestorage.dfs.core.windows.net/olist/customers/part-00000-f44ccbbd-d223-4a91-810b-7c8943c727b7-c000.snappy.parquet', name='part-00000-f44ccbbd-d223-4a91-810b-7c8943c727b7-c000.snappy.parquet', size=6717649, modificationTime=1727749129000)]"
      ]
     },
     "execution_count": 95,
     "metadata": {},
     "output_type": "execute_result"
    }
   ],
   "source": [
    "customers_df.write.format('delta')\\\n",
    "                  .option(\"path\", path)\\\n",
    "                  .option(\"overwriteSchema\", \"true\")\\\n",
    "                  .mode('overwrite')\\\n",
    "                  .saveAsTable(customers)\n",
    "dbutils.fs.ls(path)"
   ]
  },
  {
   "cell_type": "markdown",
   "metadata": {
    "application/vnd.databricks.v1+cell": {
     "cellMetadata": {
      "byteLimit": 2048000,
      "rowLimit": 10000
     },
     "inputWidgets": {},
     "nuid": "39129961-2e6b-4c34-9e87-57600d3e4f6e",
     "showTitle": false,
     "title": ""
    }
   },
   "source": [
    "#### `sellers_df` --> sellers"
   ]
  },
  {
   "cell_type": "code",
   "execution_count": null,
   "metadata": {
    "application/vnd.databricks.v1+cell": {
     "cellMetadata": {
      "byteLimit": 2048000,
      "rowLimit": 10000
     },
     "inputWidgets": {},
     "nuid": "23beeb11-6cfb-4f58-82d0-ebb7bca6d334",
     "showTitle": false,
     "title": ""
    }
   },
   "outputs": [
    {
     "data": {
      "text/plain": [
       "'abfss://transformed@omnioraclestorage.dfs.core.windows.net/olist/sellers/'"
      ]
     },
     "execution_count": 96,
     "metadata": {},
     "output_type": "execute_result"
    }
   ],
   "source": [
    "path = f\"{output_path}{sellers}/\"\n",
    "path"
   ]
  },
  {
   "cell_type": "code",
   "execution_count": null,
   "metadata": {
    "application/vnd.databricks.v1+cell": {
     "cellMetadata": {
      "byteLimit": 2048000,
      "rowLimit": 10000
     },
     "inputWidgets": {},
     "nuid": "5830bf3b-8877-4ff6-947c-537526045bae",
     "showTitle": false,
     "title": ""
    }
   },
   "outputs": [
    {
     "data": {
      "text/plain": [
       "[FileInfo(path='abfss://transformed@omnioraclestorage.dfs.core.windows.net/olist/sellers/_delta_log/', name='_delta_log/', size=0, modificationTime=1727625900000),\n",
       " FileInfo(path='abfss://transformed@omnioraclestorage.dfs.core.windows.net/olist/sellers/part-00000-16381dd4-86b5-47a7-b93b-39598dd55428-c000.snappy.parquet', name='part-00000-16381dd4-86b5-47a7-b93b-39598dd55428-c000.snappy.parquet', size=113380, modificationTime=1727625901000),\n",
       " FileInfo(path='abfss://transformed@omnioraclestorage.dfs.core.windows.net/olist/sellers/part-00000-7d52d34f-df8b-4091-ada1-1984ed792dd9-c000.snappy.parquet', name='part-00000-7d52d34f-df8b-4091-ada1-1984ed792dd9-c000.snappy.parquet', size=114253, modificationTime=1727789162000),\n",
       " FileInfo(path='abfss://transformed@omnioraclestorage.dfs.core.windows.net/olist/sellers/part-00000-7e4cac2d-0bfc-426c-9380-94d22d053519-c000.snappy.parquet', name='part-00000-7e4cac2d-0bfc-426c-9380-94d22d053519-c000.snappy.parquet', size=114253, modificationTime=1727765726000),\n",
       " FileInfo(path='abfss://transformed@omnioraclestorage.dfs.core.windows.net/olist/sellers/part-00000-863e9c40-4afe-467e-aa54-1e75c3e84d1b-c000.snappy.parquet', name='part-00000-863e9c40-4afe-467e-aa54-1e75c3e84d1b-c000.snappy.parquet', size=114253, modificationTime=1727759785000),\n",
       " FileInfo(path='abfss://transformed@omnioraclestorage.dfs.core.windows.net/olist/sellers/part-00000-8bb64b7a-04e3-4dd1-b282-9dc3a9d96f6a-c000.snappy.parquet', name='part-00000-8bb64b7a-04e3-4dd1-b282-9dc3a9d96f6a-c000.snappy.parquet', size=114253, modificationTime=1727752199000),\n",
       " FileInfo(path='abfss://transformed@omnioraclestorage.dfs.core.windows.net/olist/sellers/part-00000-d1991dc2-87d9-4fcf-9789-39778c69f70c-c000.snappy.parquet', name='part-00000-d1991dc2-87d9-4fcf-9789-39778c69f70c-c000.snappy.parquet', size=114253, modificationTime=1727749134000),\n",
       " FileInfo(path='abfss://transformed@omnioraclestorage.dfs.core.windows.net/olist/sellers/part-00000-db6c36a1-2ec8-4573-afd6-2ecc14d67c5b-c000.snappy.parquet', name='part-00000-db6c36a1-2ec8-4573-afd6-2ecc14d67c5b-c000.snappy.parquet', size=114253, modificationTime=1727755280000)]"
      ]
     },
     "execution_count": 97,
     "metadata": {},
     "output_type": "execute_result"
    }
   ],
   "source": [
    "sellers_df.write.format('delta')\\\n",
    "                .option(\"path\", path)\\\n",
    "                .option(\"overwriteSchema\", \"true\")\\\n",
    "                .mode('overwrite')\\\n",
    "                .saveAsTable(sellers)\n",
    "dbutils.fs.ls(path)"
   ]
  },
  {
   "cell_type": "markdown",
   "metadata": {
    "application/vnd.databricks.v1+cell": {
     "cellMetadata": {
      "byteLimit": 2048000,
      "rowLimit": 10000
     },
     "inputWidgets": {},
     "nuid": "aed19d3c-63b6-4837-8640-185deb0f24ef",
     "showTitle": false,
     "title": ""
    }
   },
   "source": [
    "#### `orders_df` --> orders"
   ]
  },
  {
   "cell_type": "code",
   "execution_count": null,
   "metadata": {
    "application/vnd.databricks.v1+cell": {
     "cellMetadata": {
      "byteLimit": 2048000,
      "rowLimit": 10000
     },
     "inputWidgets": {},
     "nuid": "0cb1c051-6f50-4ee4-8a31-ac9552c26042",
     "showTitle": false,
     "title": ""
    }
   },
   "outputs": [
    {
     "data": {
      "text/plain": [
       "'abfss://transformed@omnioraclestorage.dfs.core.windows.net/olist/orders/'"
      ]
     },
     "execution_count": 98,
     "metadata": {},
     "output_type": "execute_result"
    }
   ],
   "source": [
    "path = f\"{output_path}{orders}/\"\n",
    "path"
   ]
  },
  {
   "cell_type": "code",
   "execution_count": null,
   "metadata": {
    "application/vnd.databricks.v1+cell": {
     "cellMetadata": {
      "byteLimit": 2048000,
      "rowLimit": 10000
     },
     "inputWidgets": {},
     "nuid": "853a743f-64a0-4f3a-94c3-1d873836d149",
     "showTitle": false,
     "title": ""
    }
   },
   "outputs": [
    {
     "data": {
      "text/plain": [
       "[FileInfo(path='abfss://transformed@omnioraclestorage.dfs.core.windows.net/olist/orders/_delta_log/', name='_delta_log/', size=0, modificationTime=1727626016000),\n",
       " FileInfo(path='abfss://transformed@omnioraclestorage.dfs.core.windows.net/olist/orders/part-00000-2e89fc9f-727b-4875-ab7b-bfb7e2818906-c000.snappy.parquet', name='part-00000-2e89fc9f-727b-4875-ab7b-bfb7e2818906-c000.snappy.parquet', size=10638531, modificationTime=1727752205000),\n",
       " FileInfo(path='abfss://transformed@omnioraclestorage.dfs.core.windows.net/olist/orders/part-00000-3953b616-a1af-43a4-8465-e8da23380636-c000.snappy.parquet', name='part-00000-3953b616-a1af-43a4-8465-e8da23380636-c000.snappy.parquet', size=10638531, modificationTime=1727765731000),\n",
       " FileInfo(path='abfss://transformed@omnioraclestorage.dfs.core.windows.net/olist/orders/part-00000-7b432f09-0b7e-4c71-86ee-e6d91c9f1c7d-c000.snappy.parquet', name='part-00000-7b432f09-0b7e-4c71-86ee-e6d91c9f1c7d-c000.snappy.parquet', size=10638531, modificationTime=1727759792000),\n",
       " FileInfo(path='abfss://transformed@omnioraclestorage.dfs.core.windows.net/olist/orders/part-00000-806dcbe3-0b1a-4fa8-b2aa-6a5692d52053-c000.snappy.parquet', name='part-00000-806dcbe3-0b1a-4fa8-b2aa-6a5692d52053-c000.snappy.parquet', size=10609830, modificationTime=1727626019000),\n",
       " FileInfo(path='abfss://transformed@omnioraclestorage.dfs.core.windows.net/olist/orders/part-00000-b7e7cdfe-79dc-4e38-8fb7-51833554e20d-c000.snappy.parquet', name='part-00000-b7e7cdfe-79dc-4e38-8fb7-51833554e20d-c000.snappy.parquet', size=10638531, modificationTime=1727755291000),\n",
       " FileInfo(path='abfss://transformed@omnioraclestorage.dfs.core.windows.net/olist/orders/part-00000-d424b8b2-fc09-43ad-b30b-bc7009b9d506-c000.snappy.parquet', name='part-00000-d424b8b2-fc09-43ad-b30b-bc7009b9d506-c000.snappy.parquet', size=10638531, modificationTime=1727749140000),\n",
       " FileInfo(path='abfss://transformed@omnioraclestorage.dfs.core.windows.net/olist/orders/part-00000-f989b2af-410e-4d20-99f3-75cfe3cfa622-c000.snappy.parquet', name='part-00000-f989b2af-410e-4d20-99f3-75cfe3cfa622-c000.snappy.parquet', size=10638531, modificationTime=1727789169000)]"
      ]
     },
     "execution_count": 99,
     "metadata": {},
     "output_type": "execute_result"
    }
   ],
   "source": [
    "orders_df.write.format('delta')\\\n",
    "               .option(\"path\", path)\\\n",
    "               .option(\"overwriteSchema\", \"true\")\\\n",
    "               .mode('overwrite')\\\n",
    "               .saveAsTable(orders)\n",
    "dbutils.fs.ls(path)"
   ]
  },
  {
   "cell_type": "markdown",
   "metadata": {
    "application/vnd.databricks.v1+cell": {
     "cellMetadata": {
      "byteLimit": 2048000,
      "rowLimit": 10000
     },
     "inputWidgets": {},
     "nuid": "367968e9-b870-473d-9737-b57faf035f0b",
     "showTitle": false,
     "title": ""
    }
   },
   "source": [
    "#### `product_categories_df` --> product_category_name_translations"
   ]
  },
  {
   "cell_type": "code",
   "execution_count": null,
   "metadata": {
    "application/vnd.databricks.v1+cell": {
     "cellMetadata": {
      "byteLimit": 2048000,
      "rowLimit": 10000
     },
     "inputWidgets": {},
     "nuid": "fb56d86e-5ca5-461d-96a3-304a25311a04",
     "showTitle": false,
     "title": ""
    }
   },
   "outputs": [
    {
     "data": {
      "text/plain": [
       "'abfss://transformed@omnioraclestorage.dfs.core.windows.net/olist/product_category_name_translations/'"
      ]
     },
     "execution_count": 100,
     "metadata": {},
     "output_type": "execute_result"
    }
   ],
   "source": [
    "path = f\"{output_path}{product_category_name_translations}/\"\n",
    "path"
   ]
  },
  {
   "cell_type": "code",
   "execution_count": null,
   "metadata": {
    "application/vnd.databricks.v1+cell": {
     "cellMetadata": {
      "byteLimit": 2048000,
      "rowLimit": 10000
     },
     "inputWidgets": {},
     "nuid": "4c906ac5-4c1f-4316-b74a-78209e626422",
     "showTitle": false,
     "title": ""
    }
   },
   "outputs": [
    {
     "data": {
      "text/plain": [
       "[FileInfo(path='abfss://transformed@omnioraclestorage.dfs.core.windows.net/olist/product_category_name_translations/_delta_log/', name='_delta_log/', size=0, modificationTime=1727626083000),\n",
       " FileInfo(path='abfss://transformed@omnioraclestorage.dfs.core.windows.net/olist/product_category_name_translations/part-00000-4a56dc55-7e86-4c08-9f0c-1deda40a9990-c000.snappy.parquet', name='part-00000-4a56dc55-7e86-4c08-9f0c-1deda40a9990-c000.snappy.parquet', size=3070, modificationTime=1727759798000),\n",
       " FileInfo(path='abfss://transformed@omnioraclestorage.dfs.core.windows.net/olist/product_category_name_translations/part-00000-60b6f812-b501-4c4e-9a2c-0b7561656384-c000.snappy.parquet', name='part-00000-60b6f812-b501-4c4e-9a2c-0b7561656384-c000.snappy.parquet', size=3070, modificationTime=1727765737000),\n",
       " FileInfo(path='abfss://transformed@omnioraclestorage.dfs.core.windows.net/olist/product_category_name_translations/part-00000-6366d76d-079e-4e54-a5f3-7900a3f30c89-c000.snappy.parquet', name='part-00000-6366d76d-079e-4e54-a5f3-7900a3f30c89-c000.snappy.parquet', size=3070, modificationTime=1727626084000),\n",
       " FileInfo(path='abfss://transformed@omnioraclestorage.dfs.core.windows.net/olist/product_category_name_translations/part-00000-7d8133e0-9047-4963-98e1-9da3788a1399-c000.snappy.parquet', name='part-00000-7d8133e0-9047-4963-98e1-9da3788a1399-c000.snappy.parquet', size=3070, modificationTime=1727789174000),\n",
       " FileInfo(path='abfss://transformed@omnioraclestorage.dfs.core.windows.net/olist/product_category_name_translations/part-00000-9d5f1f0e-aa64-4232-b177-2c62b4833b06-c000.snappy.parquet', name='part-00000-9d5f1f0e-aa64-4232-b177-2c62b4833b06-c000.snappy.parquet', size=3070, modificationTime=1727752211000),\n",
       " FileInfo(path='abfss://transformed@omnioraclestorage.dfs.core.windows.net/olist/product_category_name_translations/part-00000-bec4a090-1c4b-4ed2-bcc8-ece0e5e6a389-c000.snappy.parquet', name='part-00000-bec4a090-1c4b-4ed2-bcc8-ece0e5e6a389-c000.snappy.parquet', size=3070, modificationTime=1727749146000),\n",
       " FileInfo(path='abfss://transformed@omnioraclestorage.dfs.core.windows.net/olist/product_category_name_translations/part-00000-cba4e64c-e749-442f-80c4-a5a4396bf418-c000.snappy.parquet', name='part-00000-cba4e64c-e749-442f-80c4-a5a4396bf418-c000.snappy.parquet', size=3070, modificationTime=1727755303000),\n",
       " FileInfo(path='abfss://transformed@omnioraclestorage.dfs.core.windows.net/olist/product_category_name_translations/part-00001-11b19927-4f4a-48c6-b59a-53db68f95c10-c000.snappy.parquet', name='part-00001-11b19927-4f4a-48c6-b59a-53db68f95c10-c000.snappy.parquet', size=1089, modificationTime=1727789175000),\n",
       " FileInfo(path='abfss://transformed@omnioraclestorage.dfs.core.windows.net/olist/product_category_name_translations/part-00001-3e60632c-b28e-4247-b449-3a17079f79da-c000.snappy.parquet', name='part-00001-3e60632c-b28e-4247-b449-3a17079f79da-c000.snappy.parquet', size=1089, modificationTime=1727755304000),\n",
       " FileInfo(path='abfss://transformed@omnioraclestorage.dfs.core.windows.net/olist/product_category_name_translations/part-00001-c9af5454-42e9-4122-b34f-9804f90d7b65-c000.snappy.parquet', name='part-00001-c9af5454-42e9-4122-b34f-9804f90d7b65-c000.snappy.parquet', size=1089, modificationTime=1727759798000),\n",
       " FileInfo(path='abfss://transformed@omnioraclestorage.dfs.core.windows.net/olist/product_category_name_translations/part-00001-e4102ee5-df4d-402d-9adc-523316373d8f-c000.snappy.parquet', name='part-00001-e4102ee5-df4d-402d-9adc-523316373d8f-c000.snappy.parquet', size=1080, modificationTime=1727749149000),\n",
       " FileInfo(path='abfss://transformed@omnioraclestorage.dfs.core.windows.net/olist/product_category_name_translations/part-00001-f9667f32-c41a-4ab0-ad15-0cd75c1f8637-c000.snappy.parquet', name='part-00001-f9667f32-c41a-4ab0-ad15-0cd75c1f8637-c000.snappy.parquet', size=1089, modificationTime=1727765737000),\n",
       " FileInfo(path='abfss://transformed@omnioraclestorage.dfs.core.windows.net/olist/product_category_name_translations/part-00001-f9cf39d4-df24-4d27-ab6e-76643ed04e0a-c000.snappy.parquet', name='part-00001-f9cf39d4-df24-4d27-ab6e-76643ed04e0a-c000.snappy.parquet', size=1675, modificationTime=1727752214000)]"
      ]
     },
     "execution_count": 101,
     "metadata": {},
     "output_type": "execute_result"
    }
   ],
   "source": [
    "product_categories_df.write.format('delta')\\\n",
    "                           .option(\"path\", path)\\\n",
    "                           .option(\"overwriteSchema\", \"true\")\\\n",
    "                           .mode('overwrite')\\\n",
    "                           .saveAsTable(product_category_name_translations)\n",
    "dbutils.fs.ls(path)"
   ]
  },
  {
   "cell_type": "markdown",
   "metadata": {
    "application/vnd.databricks.v1+cell": {
     "cellMetadata": {
      "byteLimit": 2048000,
      "rowLimit": 10000
     },
     "inputWidgets": {},
     "nuid": "89ffa4a2-7e35-41ea-b2ac-f5d8ecb4b06e",
     "showTitle": false,
     "title": ""
    }
   },
   "source": [
    "#### `products_df` --> products"
   ]
  },
  {
   "cell_type": "code",
   "execution_count": null,
   "metadata": {
    "application/vnd.databricks.v1+cell": {
     "cellMetadata": {
      "byteLimit": 2048000,
      "rowLimit": 10000
     },
     "inputWidgets": {},
     "nuid": "f1ef984c-1cc5-49a0-8a18-658e9b0a1e57",
     "showTitle": false,
     "title": ""
    }
   },
   "outputs": [
    {
     "data": {
      "text/plain": [
       "'abfss://transformed@omnioraclestorage.dfs.core.windows.net/olist/products/'"
      ]
     },
     "execution_count": 102,
     "metadata": {},
     "output_type": "execute_result"
    }
   ],
   "source": [
    "path = f\"{output_path}{products}/\"\n",
    "path"
   ]
  },
  {
   "cell_type": "code",
   "execution_count": null,
   "metadata": {
    "application/vnd.databricks.v1+cell": {
     "cellMetadata": {
      "byteLimit": 2048000,
      "rowLimit": 10000
     },
     "inputWidgets": {},
     "nuid": "0f7a97ce-a7c4-4875-8541-93e8baa35561",
     "showTitle": false,
     "title": ""
    }
   },
   "outputs": [
    {
     "data": {
      "text/plain": [
       "[FileInfo(path='abfss://transformed@omnioraclestorage.dfs.core.windows.net/olist/products/_delta_log/', name='_delta_log/', size=0, modificationTime=1727626165000),\n",
       " FileInfo(path='abfss://transformed@omnioraclestorage.dfs.core.windows.net/olist/products/part-00000-1c92392c-8446-4f9c-935e-109f670253a9-c000.snappy.parquet', name='part-00000-1c92392c-8446-4f9c-935e-109f670253a9-c000.snappy.parquet', size=1333943, modificationTime=1727626166000),\n",
       " FileInfo(path='abfss://transformed@omnioraclestorage.dfs.core.windows.net/olist/products/part-00000-7cce87c9-df5a-447e-b87a-74e60c3c6bc9-c000.snappy.parquet', name='part-00000-7cce87c9-df5a-447e-b87a-74e60c3c6bc9-c000.snappy.parquet', size=1334235, modificationTime=1727755314000),\n",
       " FileInfo(path='abfss://transformed@omnioraclestorage.dfs.core.windows.net/olist/products/part-00000-8223ffc8-a166-4e3d-857e-d8f7ac8f4cd2-c000.snappy.parquet', name='part-00000-8223ffc8-a166-4e3d-857e-d8f7ac8f4cd2-c000.snappy.parquet', size=1334235, modificationTime=1727765742000),\n",
       " FileInfo(path='abfss://transformed@omnioraclestorage.dfs.core.windows.net/olist/products/part-00000-9896f08d-c8a6-46b4-908b-4065d4f7ba06-c000.snappy.parquet', name='part-00000-9896f08d-c8a6-46b4-908b-4065d4f7ba06-c000.snappy.parquet', size=1334235, modificationTime=1727752219000),\n",
       " FileInfo(path='abfss://transformed@omnioraclestorage.dfs.core.windows.net/olist/products/part-00000-99b0dd9a-f854-47f3-a1ac-afa19a771802-c000.snappy.parquet', name='part-00000-99b0dd9a-f854-47f3-a1ac-afa19a771802-c000.snappy.parquet', size=1334235, modificationTime=1727789179000),\n",
       " FileInfo(path='abfss://transformed@omnioraclestorage.dfs.core.windows.net/olist/products/part-00000-ac65e7de-31c3-4e5e-a86f-91c7d80f363d-c000.snappy.parquet', name='part-00000-ac65e7de-31c3-4e5e-a86f-91c7d80f363d-c000.snappy.parquet', size=1334235, modificationTime=1727759804000),\n",
       " FileInfo(path='abfss://transformed@omnioraclestorage.dfs.core.windows.net/olist/products/part-00000-f2a45933-797a-4a4a-a42c-7da4ade5ddd7-c000.snappy.parquet', name='part-00000-f2a45933-797a-4a4a-a42c-7da4ade5ddd7-c000.snappy.parquet', size=1334235, modificationTime=1727749154000)]"
      ]
     },
     "execution_count": 103,
     "metadata": {},
     "output_type": "execute_result"
    }
   ],
   "source": [
    "products_df.write.format('delta')\\\n",
    "                 .option(\"path\", path)\\\n",
    "                 .option(\"overwriteSchema\", \"true\")\\\n",
    "                 .mode('overwrite')\\\n",
    "                 .saveAsTable(products)\n",
    "dbutils.fs.ls(path)"
   ]
  },
  {
   "cell_type": "markdown",
   "metadata": {
    "application/vnd.databricks.v1+cell": {
     "cellMetadata": {
      "byteLimit": 2048000,
      "rowLimit": 10000
     },
     "inputWidgets": {},
     "nuid": "39dc92ea-7464-4812-9642-30472cc047eb",
     "showTitle": false,
     "title": ""
    }
   },
   "source": [
    "#### `order_reviews_df` --> order_reviews"
   ]
  },
  {
   "cell_type": "code",
   "execution_count": null,
   "metadata": {
    "application/vnd.databricks.v1+cell": {
     "cellMetadata": {
      "byteLimit": 2048000,
      "rowLimit": 10000
     },
     "inputWidgets": {},
     "nuid": "23001519-a744-4fde-8807-c4ae7a062ac0",
     "showTitle": false,
     "title": ""
    }
   },
   "outputs": [
    {
     "data": {
      "text/plain": [
       "'abfss://transformed@omnioraclestorage.dfs.core.windows.net/olist/order_reviews/'"
      ]
     },
     "execution_count": 104,
     "metadata": {},
     "output_type": "execute_result"
    }
   ],
   "source": [
    "path = f\"{output_path}{order_reviews}/\"\n",
    "path"
   ]
  },
  {
   "cell_type": "code",
   "execution_count": null,
   "metadata": {
    "application/vnd.databricks.v1+cell": {
     "cellMetadata": {
      "byteLimit": 2048000,
      "rowLimit": 10000
     },
     "inputWidgets": {},
     "nuid": "9dee1f84-0a9d-4a2a-9a00-276d4030aff7",
     "showTitle": false,
     "title": ""
    }
   },
   "outputs": [
    {
     "data": {
      "text/plain": [
       "[FileInfo(path='abfss://transformed@omnioraclestorage.dfs.core.windows.net/olist/order_reviews/_delta_log/', name='_delta_log/', size=0, modificationTime=1727756329000),\n",
       " FileInfo(path='abfss://transformed@omnioraclestorage.dfs.core.windows.net/olist/order_reviews/part-00000-9623f216-6b15-4d77-8850-f8241c2e2608-c000.snappy.parquet', name='part-00000-9623f216-6b15-4d77-8850-f8241c2e2608-c000.snappy.parquet', size=7702143, modificationTime=1727765745000),\n",
       " FileInfo(path='abfss://transformed@omnioraclestorage.dfs.core.windows.net/olist/order_reviews/part-00000-c8331094-22d9-4df6-b5c1-24deeb39a0e6-c000.snappy.parquet', name='part-00000-c8331094-22d9-4df6-b5c1-24deeb39a0e6-c000.snappy.parquet', size=7702143, modificationTime=1727789185000),\n",
       " FileInfo(path='abfss://transformed@omnioraclestorage.dfs.core.windows.net/olist/order_reviews/part-00000-fba9557d-2052-4925-b3d5-3fcbfdb9b874-c000.snappy.parquet', name='part-00000-fba9557d-2052-4925-b3d5-3fcbfdb9b874-c000.snappy.parquet', size=0, modificationTime=1727760003000)]"
      ]
     },
     "execution_count": 105,
     "metadata": {},
     "output_type": "execute_result"
    }
   ],
   "source": [
    "order_reviews_df.write.format('delta')\\\n",
    "                      .option(\"path\", path)\\\n",
    "                      .option(\"overwriteSchema\", \"true\")\\\n",
    "                      .mode('overwrite')\\\n",
    "                      .saveAsTable(order_reviews)\n",
    "dbutils.fs.ls(path)"
   ]
  },
  {
   "cell_type": "markdown",
   "metadata": {
    "application/vnd.databricks.v1+cell": {
     "cellMetadata": {
      "byteLimit": 2048000,
      "rowLimit": 10000
     },
     "inputWidgets": {},
     "nuid": "e6e5f459-ce81-420f-a52a-cf063fb33144",
     "showTitle": false,
     "title": ""
    }
   },
   "source": [
    "#### `order_items_df` --> order_items"
   ]
  },
  {
   "cell_type": "code",
   "execution_count": null,
   "metadata": {
    "application/vnd.databricks.v1+cell": {
     "cellMetadata": {
      "byteLimit": 2048000,
      "rowLimit": 10000
     },
     "inputWidgets": {},
     "nuid": "1329da8e-d38d-4b44-9ea2-fec4ab8c1b7e",
     "showTitle": false,
     "title": ""
    }
   },
   "outputs": [
    {
     "data": {
      "text/plain": [
       "'abfss://transformed@omnioraclestorage.dfs.core.windows.net/olist/order_items/'"
      ]
     },
     "execution_count": 106,
     "metadata": {},
     "output_type": "execute_result"
    }
   ],
   "source": [
    "path = f\"{output_path}{order_items}/\"\n",
    "path"
   ]
  },
  {
   "cell_type": "code",
   "execution_count": null,
   "metadata": {
    "application/vnd.databricks.v1+cell": {
     "cellMetadata": {
      "byteLimit": 2048000,
      "rowLimit": 10000
     },
     "inputWidgets": {},
     "nuid": "4f7a778f-5e71-46a9-a595-3ce04fd48d9d",
     "showTitle": false,
     "title": ""
    }
   },
   "outputs": [
    {
     "data": {
      "text/plain": [
       "[FileInfo(path='abfss://transformed@omnioraclestorage.dfs.core.windows.net/olist/order_items/_delta_log/', name='_delta_log/', size=0, modificationTime=1727626362000),\n",
       " FileInfo(path='abfss://transformed@omnioraclestorage.dfs.core.windows.net/olist/order_items/part-00000-0abe5ead-37e5-45d2-be7f-157321fa77bf-c000.snappy.parquet', name='part-00000-0abe5ead-37e5-45d2-be7f-157321fa77bf-c000.snappy.parquet', size=6642194, modificationTime=1727789190000),\n",
       " FileInfo(path='abfss://transformed@omnioraclestorage.dfs.core.windows.net/olist/order_items/part-00000-1e280443-ebc7-4cb2-a2f4-1eac3eecc818-c000.snappy.parquet', name='part-00000-1e280443-ebc7-4cb2-a2f4-1eac3eecc818-c000.snappy.parquet', size=6603936, modificationTime=1727626365000),\n",
       " FileInfo(path='abfss://transformed@omnioraclestorage.dfs.core.windows.net/olist/order_items/part-00000-e0c71b1c-0b0d-48a6-abe8-9241b2a6d2a9-c000.snappy.parquet', name='part-00000-e0c71b1c-0b0d-48a6-abe8-9241b2a6d2a9-c000.snappy.parquet', size=6642194, modificationTime=1727765753000)]"
      ]
     },
     "execution_count": 107,
     "metadata": {},
     "output_type": "execute_result"
    }
   ],
   "source": [
    "order_items_df.write.format('delta')\\\n",
    "                    .option(\"path\", path)\\\n",
    "                    .option(\"overwriteSchema\", \"true\")\\\n",
    "                    .mode('overwrite')\\\n",
    "                    .saveAsTable(order_items)\n",
    "dbutils.fs.ls(path)"
   ]
  },
  {
   "cell_type": "markdown",
   "metadata": {
    "application/vnd.databricks.v1+cell": {
     "cellMetadata": {
      "byteLimit": 2048000,
      "rowLimit": 10000
     },
     "inputWidgets": {},
     "nuid": "58200e74-674a-4358-9f0e-ca8123994a9c",
     "showTitle": false,
     "title": ""
    }
   },
   "source": [
    "#### `order_payments_df` --> order_payments"
   ]
  },
  {
   "cell_type": "code",
   "execution_count": null,
   "metadata": {
    "application/vnd.databricks.v1+cell": {
     "cellMetadata": {
      "byteLimit": 2048000,
      "rowLimit": 10000
     },
     "inputWidgets": {},
     "nuid": "9a8734b3-7745-4611-bd23-62d776511be4",
     "showTitle": false,
     "title": ""
    }
   },
   "outputs": [
    {
     "data": {
      "text/plain": [
       "'abfss://transformed@omnioraclestorage.dfs.core.windows.net/olist/order_payments/'"
      ]
     },
     "execution_count": 108,
     "metadata": {},
     "output_type": "execute_result"
    }
   ],
   "source": [
    "path = f\"{output_path}{order_payments}/\"\n",
    "path"
   ]
  },
  {
   "cell_type": "code",
   "execution_count": null,
   "metadata": {
    "application/vnd.databricks.v1+cell": {
     "cellMetadata": {
      "byteLimit": 2048000,
      "rowLimit": 10000
     },
     "inputWidgets": {},
     "nuid": "7284ae9e-4896-4a9c-afd4-b9fba0be1159",
     "showTitle": false,
     "title": ""
    }
   },
   "outputs": [
    {
     "data": {
      "text/plain": [
       "[FileInfo(path='abfss://transformed@omnioraclestorage.dfs.core.windows.net/olist/order_payments/_delta_log/', name='_delta_log/', size=0, modificationTime=1727626447000),\n",
       " FileInfo(path='abfss://transformed@omnioraclestorage.dfs.core.windows.net/olist/order_payments/part-00000-21bb3426-878a-4e24-904c-168684260132-c000.snappy.parquet', name='part-00000-21bb3426-878a-4e24-904c-168684260132-c000.snappy.parquet', size=3804150, modificationTime=1727626449000),\n",
       " FileInfo(path='abfss://transformed@omnioraclestorage.dfs.core.windows.net/olist/order_payments/part-00000-6f8f6cce-ac70-41a6-bb20-32ad15b876db-c000.snappy.parquet', name='part-00000-6f8f6cce-ac70-41a6-bb20-32ad15b876db-c000.snappy.parquet', size=3814788, modificationTime=1727789195000),\n",
       " FileInfo(path='abfss://transformed@omnioraclestorage.dfs.core.windows.net/olist/order_payments/part-00000-e47e085d-15b9-4f7c-bd56-492d11951543-c000.snappy.parquet', name='part-00000-e47e085d-15b9-4f7c-bd56-492d11951543-c000.snappy.parquet', size=3814788, modificationTime=1727765758000)]"
      ]
     },
     "execution_count": 109,
     "metadata": {},
     "output_type": "execute_result"
    }
   ],
   "source": [
    "order_payments_df.write.format('delta')\\\n",
    "                       .option(\"path\", path)\\\n",
    "                       .option(\"overwriteSchema\", \"true\")\\\n",
    "                       .mode('overwrite')\\\n",
    "                       .saveAsTable(order_payments)\n",
    "dbutils.fs.ls(path)"
   ]
  },
  {
   "cell_type": "markdown",
   "metadata": {
    "application/vnd.databricks.v1+cell": {
     "cellMetadata": {
      "byteLimit": 2048000,
      "rowLimit": 10000
     },
     "inputWidgets": {},
     "nuid": "0c61bdc2-e8ee-4989-b90a-979187264887",
     "showTitle": false,
     "title": ""
    }
   },
   "source": [
    "<section id=\"section_3b\">\n",
    "    <h3 style=\"text-align: center\">Section 3-B: Write to the logging process</h3>\n",
    "</section>"
   ]
  },
  {
   "cell_type": "code",
   "execution_count": null,
   "metadata": {
    "application/vnd.databricks.v1+cell": {
     "cellMetadata": {
      "byteLimit": 2048000,
      "rowLimit": 10000
     },
     "inputWidgets": {},
     "nuid": "444a0f46-26eb-4ac5-ae2d-91103509c474",
     "showTitle": false,
     "title": ""
    }
   },
   "outputs": [],
   "source": [
    "logging.info(\"Exported DataFrames to Delta Tables.\")"
   ]
  }
 ],
 "metadata": {
  "application/vnd.databricks.v1+notebook": {
   "dashboards": [],
   "environmentMetadata": null,
   "language": "python",
   "notebookMetadata": {
    "pythonIndentUnit": 4
   },
   "notebookName": "data_cleaning",
   "widgets": {}
  },
  "kernelspec": {
   "display_name": "Python 3 (ipykernel)",
   "language": "python",
   "name": "python3"
  },
  "language_info": {
   "codemirror_mode": {
    "name": "ipython",
    "version": 3
   },
   "file_extension": ".py",
   "mimetype": "text/x-python",
   "name": "python",
   "nbconvert_exporter": "python",
   "pygments_lexer": "ipython3",
   "version": "3.12.4"
  }
 },
 "nbformat": 4,
 "nbformat_minor": 4
}
